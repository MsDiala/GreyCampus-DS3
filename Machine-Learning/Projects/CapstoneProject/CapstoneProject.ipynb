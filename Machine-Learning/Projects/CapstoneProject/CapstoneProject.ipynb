{
 "cells": [
  {
   "cell_type": "code",
   "execution_count": 2,
   "metadata": {},
   "outputs": [],
   "source": [
    "#Import the required Libraries\n",
    "import pandas as pd\n",
    "import numpy as np\n",
    "import seaborn as sns\n",
    "import matplotlib.pyplot as plt\n",
    "%matplotlib inline\n",
    "import math "
   ]
  },
  {
   "cell_type": "markdown",
   "metadata": {},
   "source": []
  },
  {
   "cell_type": "code",
   "execution_count": 2,
   "metadata": {},
   "outputs": [],
   "source": [
    "#Read the dataset\n",
    "df= pd.read_csv(\"HR+analytics+dataset.csv\") \n"
   ]
  },
  {
   "cell_type": "code",
   "execution_count": 3,
   "metadata": {},
   "outputs": [
    {
     "data": {
      "text/html": [
       "<div>\n",
       "<style scoped>\n",
       "    .dataframe tbody tr th:only-of-type {\n",
       "        vertical-align: middle;\n",
       "    }\n",
       "\n",
       "    .dataframe tbody tr th {\n",
       "        vertical-align: top;\n",
       "    }\n",
       "\n",
       "    .dataframe thead th {\n",
       "        text-align: right;\n",
       "    }\n",
       "</style>\n",
       "<table border=\"1\" class=\"dataframe\">\n",
       "  <thead>\n",
       "    <tr style=\"text-align: right;\">\n",
       "      <th></th>\n",
       "      <th>Gender</th>\n",
       "      <th>Business</th>\n",
       "      <th>Age</th>\n",
       "      <th>Salary</th>\n",
       "      <th>Dependancies</th>\n",
       "      <th>Months</th>\n",
       "      <th>Calls</th>\n",
       "      <th>Type</th>\n",
       "      <th>Billing</th>\n",
       "      <th>Unit_Sales</th>\n",
       "      <th>Total_Sales</th>\n",
       "      <th>Rating</th>\n",
       "      <th>Bonus</th>\n",
       "      <th>BasePay</th>\n",
       "      <th>Unit_Price</th>\n",
       "      <th>Volume</th>\n",
       "      <th>openingbalance</th>\n",
       "      <th>closingbalance</th>\n",
       "      <th>low</th>\n",
       "    </tr>\n",
       "  </thead>\n",
       "  <tbody>\n",
       "    <tr>\n",
       "      <th>0</th>\n",
       "      <td>Female</td>\n",
       "      <td>0</td>\n",
       "      <td>42</td>\n",
       "      <td>101348.88</td>\n",
       "      <td>No</td>\n",
       "      <td>1</td>\n",
       "      <td>No</td>\n",
       "      <td>Month-to-month</td>\n",
       "      <td>Yes</td>\n",
       "      <td>29.85</td>\n",
       "      <td>29.85</td>\n",
       "      <td>No</td>\n",
       "      <td>400184.25</td>\n",
       "      <td>167411.18</td>\n",
       "      <td>126.250000</td>\n",
       "      <td>2163600</td>\n",
       "      <td>123.430000</td>\n",
       "      <td>125.839996</td>\n",
       "      <td>122.309998</td>\n",
       "    </tr>\n",
       "    <tr>\n",
       "      <th>1</th>\n",
       "      <td>Male</td>\n",
       "      <td>0</td>\n",
       "      <td>41</td>\n",
       "      <td>112542.58</td>\n",
       "      <td>No</td>\n",
       "      <td>34</td>\n",
       "      <td>Yes</td>\n",
       "      <td>One year</td>\n",
       "      <td>No</td>\n",
       "      <td>56.95</td>\n",
       "      <td>1889.5</td>\n",
       "      <td>No</td>\n",
       "      <td>137811.38</td>\n",
       "      <td>155966.02</td>\n",
       "      <td>125.540001</td>\n",
       "      <td>2386400</td>\n",
       "      <td>125.239998</td>\n",
       "      <td>119.980003</td>\n",
       "      <td>119.940002</td>\n",
       "    </tr>\n",
       "    <tr>\n",
       "      <th>2</th>\n",
       "      <td>Male</td>\n",
       "      <td>0</td>\n",
       "      <td>42</td>\n",
       "      <td>113931.57</td>\n",
       "      <td>No</td>\n",
       "      <td>2</td>\n",
       "      <td>Yes</td>\n",
       "      <td>Month-to-month</td>\n",
       "      <td>Yes</td>\n",
       "      <td>53.85</td>\n",
       "      <td>108.15</td>\n",
       "      <td>Yes</td>\n",
       "      <td>16452.60</td>\n",
       "      <td>212739.13</td>\n",
       "      <td>119.739998</td>\n",
       "      <td>2489500</td>\n",
       "      <td>116.379997</td>\n",
       "      <td>114.949997</td>\n",
       "      <td>114.930000</td>\n",
       "    </tr>\n",
       "    <tr>\n",
       "      <th>3</th>\n",
       "      <td>Male</td>\n",
       "      <td>0</td>\n",
       "      <td>39</td>\n",
       "      <td>93826.63</td>\n",
       "      <td>No</td>\n",
       "      <td>45</td>\n",
       "      <td>No</td>\n",
       "      <td>One year</td>\n",
       "      <td>No</td>\n",
       "      <td>42.30</td>\n",
       "      <td>1840.75</td>\n",
       "      <td>No</td>\n",
       "      <td>198306.90</td>\n",
       "      <td>77916.00</td>\n",
       "      <td>117.440002</td>\n",
       "      <td>2006300</td>\n",
       "      <td>115.480003</td>\n",
       "      <td>116.620003</td>\n",
       "      <td>113.500000</td>\n",
       "    </tr>\n",
       "    <tr>\n",
       "      <th>4</th>\n",
       "      <td>Female</td>\n",
       "      <td>0</td>\n",
       "      <td>43</td>\n",
       "      <td>79084.10</td>\n",
       "      <td>No</td>\n",
       "      <td>2</td>\n",
       "      <td>Yes</td>\n",
       "      <td>Month-to-month</td>\n",
       "      <td>Yes</td>\n",
       "      <td>70.70</td>\n",
       "      <td>151.65</td>\n",
       "      <td>Yes</td>\n",
       "      <td>182234.59</td>\n",
       "      <td>134401.60</td>\n",
       "      <td>117.330002</td>\n",
       "      <td>1408600</td>\n",
       "      <td>117.010002</td>\n",
       "      <td>114.970001</td>\n",
       "      <td>114.089996</td>\n",
       "    </tr>\n",
       "  </tbody>\n",
       "</table>\n",
       "</div>"
      ],
      "text/plain": [
       "   Gender  Business  Age     Salary Dependancies  Months Calls  \\\n",
       "0  Female         0   42  101348.88           No       1    No   \n",
       "1    Male         0   41  112542.58           No      34   Yes   \n",
       "2    Male         0   42  113931.57           No       2   Yes   \n",
       "3    Male         0   39   93826.63           No      45    No   \n",
       "4  Female         0   43   79084.10           No       2   Yes   \n",
       "\n",
       "             Type Billing  Unit_Sales Total_Sales Rating      Bonus  \\\n",
       "0  Month-to-month     Yes       29.85       29.85     No  400184.25   \n",
       "1        One year      No       56.95      1889.5     No  137811.38   \n",
       "2  Month-to-month     Yes       53.85      108.15    Yes   16452.60   \n",
       "3        One year      No       42.30     1840.75     No  198306.90   \n",
       "4  Month-to-month     Yes       70.70      151.65    Yes  182234.59   \n",
       "\n",
       "     BasePay  Unit_Price   Volume  openingbalance  closingbalance         low  \n",
       "0  167411.18  126.250000  2163600      123.430000      125.839996  122.309998  \n",
       "1  155966.02  125.540001  2386400      125.239998      119.980003  119.940002  \n",
       "2  212739.13  119.739998  2489500      116.379997      114.949997  114.930000  \n",
       "3   77916.00  117.440002  2006300      115.480003      116.620003  113.500000  \n",
       "4  134401.60  117.330002  1408600      117.010002      114.970001  114.089996  "
      ]
     },
     "execution_count": 3,
     "metadata": {},
     "output_type": "execute_result"
    }
   ],
   "source": [
    "# Check the data rows\n",
    "df.head()"
   ]
  },
  {
   "cell_type": "code",
   "execution_count": 4,
   "metadata": {},
   "outputs": [
    {
     "data": {
      "text/html": [
       "<div>\n",
       "<style scoped>\n",
       "    .dataframe tbody tr th:only-of-type {\n",
       "        vertical-align: middle;\n",
       "    }\n",
       "\n",
       "    .dataframe tbody tr th {\n",
       "        vertical-align: top;\n",
       "    }\n",
       "\n",
       "    .dataframe thead th {\n",
       "        text-align: right;\n",
       "    }\n",
       "</style>\n",
       "<table border=\"1\" class=\"dataframe\">\n",
       "  <thead>\n",
       "    <tr style=\"text-align: right;\">\n",
       "      <th></th>\n",
       "      <th>Business</th>\n",
       "      <th>Age</th>\n",
       "      <th>Salary</th>\n",
       "      <th>Months</th>\n",
       "      <th>Unit_Sales</th>\n",
       "      <th>Bonus</th>\n",
       "      <th>BasePay</th>\n",
       "      <th>Unit_Price</th>\n",
       "      <th>Volume</th>\n",
       "      <th>openingbalance</th>\n",
       "      <th>closingbalance</th>\n",
       "      <th>low</th>\n",
       "    </tr>\n",
       "  </thead>\n",
       "  <tbody>\n",
       "    <tr>\n",
       "      <th>count</th>\n",
       "      <td>5049.000000</td>\n",
       "      <td>5049.000000</td>\n",
       "      <td>5049.000000</td>\n",
       "      <td>5049.000000</td>\n",
       "      <td>5049.000000</td>\n",
       "      <td>5049.000000</td>\n",
       "      <td>5049.000000</td>\n",
       "      <td>5049.000000</td>\n",
       "      <td>5.049000e+03</td>\n",
       "      <td>5049.000000</td>\n",
       "      <td>5049.000000</td>\n",
       "      <td>5049.000000</td>\n",
       "    </tr>\n",
       "    <tr>\n",
       "      <th>mean</th>\n",
       "      <td>0.160032</td>\n",
       "      <td>39.012280</td>\n",
       "      <td>100326.490008</td>\n",
       "      <td>32.217271</td>\n",
       "      <td>64.772103</td>\n",
       "      <td>12686.158334</td>\n",
       "      <td>125667.312171</td>\n",
       "      <td>51.224542</td>\n",
       "      <td>6.735758e+06</td>\n",
       "      <td>43.517670</td>\n",
       "      <td>43.581984</td>\n",
       "      <td>43.037421</td>\n",
       "    </tr>\n",
       "    <tr>\n",
       "      <th>std</th>\n",
       "      <td>0.366672</td>\n",
       "      <td>10.600392</td>\n",
       "      <td>57743.911455</td>\n",
       "      <td>24.625027</td>\n",
       "      <td>30.161810</td>\n",
       "      <td>16020.185731</td>\n",
       "      <td>27660.975992</td>\n",
       "      <td>52.061379</td>\n",
       "      <td>1.613986e+07</td>\n",
       "      <td>37.111517</td>\n",
       "      <td>37.074444</td>\n",
       "      <td>36.686894</td>\n",
       "    </tr>\n",
       "    <tr>\n",
       "      <th>min</th>\n",
       "      <td>0.000000</td>\n",
       "      <td>18.000000</td>\n",
       "      <td>11.580000</td>\n",
       "      <td>0.000000</td>\n",
       "      <td>18.250000</td>\n",
       "      <td>0.000000</td>\n",
       "      <td>0.000000</td>\n",
       "      <td>1.440000</td>\n",
       "      <td>0.000000e+00</td>\n",
       "      <td>3.680000</td>\n",
       "      <td>3.680000</td>\n",
       "      <td>3.650000</td>\n",
       "    </tr>\n",
       "    <tr>\n",
       "      <th>25%</th>\n",
       "      <td>0.000000</td>\n",
       "      <td>32.000000</td>\n",
       "      <td>50679.480000</td>\n",
       "      <td>9.000000</td>\n",
       "      <td>35.400000</td>\n",
       "      <td>3071.600000</td>\n",
       "      <td>105934.710000</td>\n",
       "      <td>25.760000</td>\n",
       "      <td>1.281700e+06</td>\n",
       "      <td>21.980000</td>\n",
       "      <td>22.024999</td>\n",
       "      <td>21.752501</td>\n",
       "    </tr>\n",
       "    <tr>\n",
       "      <th>50%</th>\n",
       "      <td>0.000000</td>\n",
       "      <td>37.000000</td>\n",
       "      <td>100601.730000</td>\n",
       "      <td>28.000000</td>\n",
       "      <td>70.400000</td>\n",
       "      <td>10114.010000</td>\n",
       "      <td>123105.000000</td>\n",
       "      <td>39.240002</td>\n",
       "      <td>2.864200e+06</td>\n",
       "      <td>33.299999</td>\n",
       "      <td>33.340000</td>\n",
       "      <td>32.930000</td>\n",
       "    </tr>\n",
       "    <tr>\n",
       "      <th>75%</th>\n",
       "      <td>0.000000</td>\n",
       "      <td>44.000000</td>\n",
       "      <td>149139.130000</td>\n",
       "      <td>55.000000</td>\n",
       "      <td>89.950000</td>\n",
       "      <td>17176.630000</td>\n",
       "      <td>138854.690000</td>\n",
       "      <td>58.590000</td>\n",
       "      <td>6.205100e+06</td>\n",
       "      <td>51.130001</td>\n",
       "      <td>51.209946</td>\n",
       "      <td>50.529999</td>\n",
       "    </tr>\n",
       "    <tr>\n",
       "      <th>max</th>\n",
       "      <td>1.000000</td>\n",
       "      <td>88.000000</td>\n",
       "      <td>199970.740000</td>\n",
       "      <td>72.000000</td>\n",
       "      <td>118.750000</td>\n",
       "      <td>400184.250000</td>\n",
       "      <td>294580.020000</td>\n",
       "      <td>629.511067</td>\n",
       "      <td>3.208684e+08</td>\n",
       "      <td>313.903904</td>\n",
       "      <td>313.688694</td>\n",
       "      <td>312.432438</td>\n",
       "    </tr>\n",
       "  </tbody>\n",
       "</table>\n",
       "</div>"
      ],
      "text/plain": [
       "          Business          Age         Salary       Months   Unit_Sales  \\\n",
       "count  5049.000000  5049.000000    5049.000000  5049.000000  5049.000000   \n",
       "mean      0.160032    39.012280  100326.490008    32.217271    64.772103   \n",
       "std       0.366672    10.600392   57743.911455    24.625027    30.161810   \n",
       "min       0.000000    18.000000      11.580000     0.000000    18.250000   \n",
       "25%       0.000000    32.000000   50679.480000     9.000000    35.400000   \n",
       "50%       0.000000    37.000000  100601.730000    28.000000    70.400000   \n",
       "75%       0.000000    44.000000  149139.130000    55.000000    89.950000   \n",
       "max       1.000000    88.000000  199970.740000    72.000000   118.750000   \n",
       "\n",
       "               Bonus        BasePay   Unit_Price        Volume  \\\n",
       "count    5049.000000    5049.000000  5049.000000  5.049000e+03   \n",
       "mean    12686.158334  125667.312171    51.224542  6.735758e+06   \n",
       "std     16020.185731   27660.975992    52.061379  1.613986e+07   \n",
       "min         0.000000       0.000000     1.440000  0.000000e+00   \n",
       "25%      3071.600000  105934.710000    25.760000  1.281700e+06   \n",
       "50%     10114.010000  123105.000000    39.240002  2.864200e+06   \n",
       "75%     17176.630000  138854.690000    58.590000  6.205100e+06   \n",
       "max    400184.250000  294580.020000   629.511067  3.208684e+08   \n",
       "\n",
       "       openingbalance  closingbalance          low  \n",
       "count     5049.000000     5049.000000  5049.000000  \n",
       "mean        43.517670       43.581984    43.037421  \n",
       "std         37.111517       37.074444    36.686894  \n",
       "min          3.680000        3.680000     3.650000  \n",
       "25%         21.980000       22.024999    21.752501  \n",
       "50%         33.299999       33.340000    32.930000  \n",
       "75%         51.130001       51.209946    50.529999  \n",
       "max        313.903904      313.688694   312.432438  "
      ]
     },
     "execution_count": 4,
     "metadata": {},
     "output_type": "execute_result"
    }
   ],
   "source": [
    "#get statistical info about the features\n",
    "df.describe()"
   ]
  },
  {
   "cell_type": "code",
   "execution_count": 5,
   "metadata": {},
   "outputs": [
    {
     "name": "stdout",
     "output_type": "stream",
     "text": [
      "<class 'pandas.core.frame.DataFrame'>\n",
      "RangeIndex: 5049 entries, 0 to 5048\n",
      "Data columns (total 19 columns):\n",
      " #   Column          Non-Null Count  Dtype  \n",
      "---  ------          --------------  -----  \n",
      " 0   Gender          5049 non-null   object \n",
      " 1   Business        5049 non-null   int64  \n",
      " 2   Age             5049 non-null   int64  \n",
      " 3   Salary          5049 non-null   float64\n",
      " 4   Dependancies    5049 non-null   object \n",
      " 5   Months          5049 non-null   int64  \n",
      " 6   Calls           5049 non-null   object \n",
      " 7   Type            5049 non-null   object \n",
      " 8   Billing         5049 non-null   object \n",
      " 9   Unit_Sales      5049 non-null   float64\n",
      " 10  Total_Sales     5049 non-null   object \n",
      " 11  Rating          5049 non-null   object \n",
      " 12  Bonus           5049 non-null   float64\n",
      " 13  BasePay         5049 non-null   float64\n",
      " 14  Unit_Price      5049 non-null   float64\n",
      " 15  Volume          5049 non-null   int64  \n",
      " 16  openingbalance  5049 non-null   float64\n",
      " 17  closingbalance  5049 non-null   float64\n",
      " 18  low             5049 non-null   float64\n",
      "dtypes: float64(8), int64(4), object(7)\n",
      "memory usage: 749.6+ KB\n"
     ]
    }
   ],
   "source": [
    "#Check the basic info of the dataset , features and the data types\n",
    "df.info()"
   ]
  },
  {
   "cell_type": "code",
   "execution_count": 6,
   "metadata": {},
   "outputs": [
    {
     "data": {
      "text/plain": [
       "Gender            0\n",
       "Business          0\n",
       "Age               0\n",
       "Salary            0\n",
       "Dependancies      0\n",
       "Months            0\n",
       "Calls             0\n",
       "Type              0\n",
       "Billing           0\n",
       "Unit_Sales        0\n",
       "Total_Sales       0\n",
       "Rating            0\n",
       "Bonus             0\n",
       "BasePay           0\n",
       "Unit_Price        0\n",
       "Volume            0\n",
       "openingbalance    0\n",
       "closingbalance    0\n",
       "low               0\n",
       "dtype: int64"
      ]
     },
     "execution_count": 6,
     "metadata": {},
     "output_type": "execute_result"
    }
   ],
   "source": [
    "#Check for null values in the dataset\n",
    "df.isnull().sum()"
   ]
  },
  {
   "cell_type": "markdown",
   "metadata": {},
   "source": [
    "# EDA Steps"
   ]
  },
  {
   "cell_type": "code",
   "execution_count": 7,
   "metadata": {},
   "outputs": [],
   "source": [
    "# Check the relationship of all the numerical features with Salary using pairplot.\n",
    "\n",
    "sns.set({'figure.figsize':(15.7,8.27)})\n",
    "sns.pairplot(data=df, y_vars='Salary',hue='Gender', diag_kind=None)\n",
    "plt.show()\n",
    "\n",
    "#Note : Since the first pairplot with Business was showing blank added the attribute diag_kind=None  as the resolution found on the internet.\n",
    "#Inference : \n",
    "#1. From the plot it is evident that features like openingbalance, closingbalance and low have a similar correlation with Salary so the redundant columns can be dropped.\n",
    "#2. No linear relationship is observed between independent varaiables and dependent variable(Salary).\n",
    "\n"
   ]
  },
  {
   "cell_type": "code",
   "execution_count": null,
   "metadata": {},
   "outputs": [
    {
     "data": {
      "text/plain": [
       "<AxesSubplot:>"
      ]
     },
     "execution_count": 8,
     "metadata": {},
     "output_type": "execute_result"
    },
    {
     "data": {
      "image/png": "[encoded data removed]",
      "text/plain": [
       "<Figure size 1130.4x595.44 with 2 Axes>"
      ]
     },
     "metadata": {},
     "output_type": "display_data"
    }
   ],
   "source": [
    "corr_matrix= df.corr().round(2)\n",
    "sns.heatmap(data=corr_matrix,annot=True)\n",
    "\n",
    "#Inference : \n",
    "#1. Features like openingbalance , closingbalance and low are highly correlated so it will be best to drop the redundant columns as else we will  just load the  system with redundant data \n",
    "#2. No major correlation is found between the independent variables (all variables except Salary which is a dependent variable)\n",
    "\n"
   ]
  },
  {
   "cell_type": "code",
   "execution_count": null,
   "metadata": {},
   "outputs": [],
   "source": [
    "# dropping the redundant columns 'closingbalance','low' as the correlation is high and we are just loading the processing\n",
    "\n",
    "df.drop(['closingbalance','low'] , axis=1 , inplace=True)"
   ]
  },
  {
   "cell_type": "code",
   "execution_count": null,
   "metadata": {},
   "outputs": [
    {
     "name": "stdout",
     "output_type": "stream",
     "text": [
      "<class 'pandas.core.frame.DataFrame'>\n",
      "RangeIndex: 5049 entries, 0 to 5048\n",
      "Data columns (total 17 columns):\n",
      " #   Column          Non-Null Count  Dtype  \n",
      "---  ------          --------------  -----  \n",
      " 0   Gender          5049 non-null   object \n",
      " 1   Business        5049 non-null   int64  \n",
      " 2   Age             5049 non-null   int64  \n",
      " 3   Salary          5049 non-null   float64\n",
      " 4   Dependancies    5049 non-null   object \n",
      " 5   Months          5049 non-null   int64  \n",
      " 6   Calls           5049 non-null   object \n",
      " 7   Type            5049 non-null   object \n",
      " 8   Billing         5049 non-null   object \n",
      " 9   Unit_Sales      5049 non-null   float64\n",
      " 10  Total_Sales     5049 non-null   object \n",
      " 11  Rating          5049 non-null   object \n",
      " 12  Bonus           5049 non-null   float64\n",
      " 13  BasePay         5049 non-null   float64\n",
      " 14  Unit_Price      5049 non-null   float64\n",
      " 15  Volume          5049 non-null   int64  \n",
      " 16  openingbalance  5049 non-null   float64\n",
      "dtypes: float64(6), int64(4), object(7)\n",
      "memory usage: 670.7+ KB\n"
     ]
    }
   ],
   "source": [
    "df.info()\n",
    "\n",
    "#Inference: The redundant columns are not avaialble now / dropped"
   ]
  },
  {
   "cell_type": "code",
   "execution_count": null,
   "metadata": {},
   "outputs": [
    {
     "data": {
      "text/plain": [
       "<AxesSubplot:>"
      ]
     },
     "execution_count": 11,
     "metadata": {},
     "output_type": "execute_result"
    },
    {
     "data": {
      "image/png": "[encoded data removed]",
      "text/plain": [
       "<Figure size 1130.4x595.44 with 2 Axes>"
      ]
     },
     "metadata": {},
     "output_type": "display_data"
    }
   ],
   "source": [
    "# Check for the correlation matrix again\n",
    "corr_matrix1= df.corr().round(2)\n",
    "sns.heatmap(data=corr_matrix1,annot=True)\n",
    "\n",
    "#Inference : The only highly correlated featutres are Unit_Price and OpeningBalance ."
   ]
  },
  {
   "cell_type": "code",
   "execution_count": null,
   "metadata": {},
   "outputs": [
    {
     "data": {
      "text/plain": [
       "<AxesSubplot:>"
      ]
     },
     "execution_count": 12,
     "metadata": {},
     "output_type": "execute_result"
    },
    {
     "data": {
      "image/png": "[encoded data removed]",
      "text/plain": [
       "<Figure size 1130.4x595.44 with 2 Axes>"
      ]
     },
     "metadata": {},
     "output_type": "display_data"
    }
   ],
   "source": [
    "# heatmap to find null values in the columns\n",
    "\n",
    "sns.heatmap(df.isnull())\n",
    "\n",
    "#Inference : No null values found"
   ]
  },
  {
   "cell_type": "markdown",
   "metadata": {},
   "source": [
    "# Check for Outliers"
   ]
  },
  {
   "cell_type": "code",
   "execution_count": null,
   "metadata": {},
   "outputs": [],
   "source": [
    "#Age "
   ]
  },
  {
   "cell_type": "code",
   "execution_count": null,
   "metadata": {},
   "outputs": [
    {
     "data": {
      "text/plain": [
       "<AxesSubplot:>"
      ]
     },
     "execution_count": 14,
     "metadata": {},
     "output_type": "execute_result"
    },
    {
     "data": {
      "image/png": "[encoded data removed]",
      "text/plain": [
       "<Figure size 1130.4x595.44 with 1 Axes>"
      ]
     },
     "metadata": {},
     "output_type": "display_data"
    }
   ],
   "source": [
    "df.boxplot(\"Age\")\n",
    "#Inference : Outliers found"
   ]
  },
  {
   "cell_type": "code",
   "execution_count": null,
   "metadata": {},
   "outputs": [
    {
     "data": {
      "text/plain": [
       "12.0"
      ]
     },
     "execution_count": 15,
     "metadata": {},
     "output_type": "execute_result"
    }
   ],
   "source": [
    "q1_age = df['Age'].describe()[4]\n",
    "q3_age = df['Age'].describe()[6]\n",
    "IQR_age = q3_age - q1_age\n",
    "IQR_age"
   ]
  },
  {
   "cell_type": "code",
   "execution_count": null,
   "metadata": {},
   "outputs": [
    {
     "data": {
      "text/plain": [
       "62"
      ]
     },
     "execution_count": 16,
     "metadata": {},
     "output_type": "execute_result"
    }
   ],
   "source": [
    "# calculate upperwhisker\n",
    "upperwhisker_age = (q3_age + (1.5*IQR_age)).astype(int)\n",
    "upperwhisker_age\n"
   ]
  },
  {
   "cell_type": "code",
   "execution_count": null,
   "metadata": {},
   "outputs": [
    {
     "data": {
      "text/plain": [
       "14"
      ]
     },
     "execution_count": 17,
     "metadata": {},
     "output_type": "execute_result"
    }
   ],
   "source": [
    "# calculate lowerwhisker\n",
    "lowerwhisker_age = (q1_age - (1.5*IQR_age)).astype(int)\n",
    "lowerwhisker_age"
   ]
  },
  {
   "cell_type": "code",
   "execution_count": null,
   "metadata": {},
   "outputs": [
    {
     "data": {
      "text/plain": [
       "0"
      ]
     },
     "execution_count": 18,
     "metadata": {},
     "output_type": "execute_result"
    }
   ],
   "source": [
    "# identify all the outliers in age column less than lowerwhisker value\n",
    "out_ageL = len (df[df['Age'] < lowerwhisker_age]['Age'])\n",
    "out_ageL"
   ]
  },
  {
   "cell_type": "code",
   "execution_count": null,
   "metadata": {},
   "outputs": [
    {
     "data": {
      "text/plain": [
       "58      66\n",
       "85      75\n",
       "104     65\n",
       "158     73\n",
       "181     65\n",
       "        ..\n",
       "4931    81\n",
       "4966    64\n",
       "5000    68\n",
       "5020    68\n",
       "5038    63\n",
       "Name: Age, Length: 183, dtype: int64"
      ]
     },
     "execution_count": 19,
     "metadata": {},
     "output_type": "execute_result"
    }
   ],
   "source": [
    "# identify all the outliers in age column more than upperwhisker value\n",
    "df[df['Age'] > upperwhisker_age]['Age']"
   ]
  },
  {
   "cell_type": "code",
   "execution_count": null,
   "metadata": {},
   "outputs": [
    {
     "data": {
      "text/plain": [
       "183"
      ]
     },
     "execution_count": 20,
     "metadata": {},
     "output_type": "execute_result"
    }
   ],
   "source": [
    "out_age = len (df[df['Age'] > upperwhisker_age]['Age'])\n",
    "out_age"
   ]
  },
  {
   "cell_type": "code",
   "execution_count": null,
   "metadata": {},
   "outputs": [
    {
     "data": {
      "text/plain": [
       "3.62"
      ]
     },
     "execution_count": 21,
     "metadata": {},
     "output_type": "execute_result"
    }
   ],
   "source": [
    "#If percent is more than 0.3% we need to handle the outlier\n",
    "percent_age = round((out_age/df.shape[0])*100 , 2)\n",
    "percent_age\n",
    "# Inference : If percent is more than 0.3% we need to handle the outlier . In this case its 3.62 % so we need to handle the outlier"
   ]
  },
  {
   "cell_type": "code",
   "execution_count": null,
   "metadata": {},
   "outputs": [],
   "source": [
    "#Replace the outliers with the upperwhisker \n",
    "df['Age'] = np.where(df['Age'] > upperwhisker_age , upperwhisker_age , df['Age'] )"
   ]
  },
  {
   "cell_type": "code",
   "execution_count": null,
   "metadata": {},
   "outputs": [
    {
     "data": {
      "text/plain": [
       "<AxesSubplot:>"
      ]
     },
     "execution_count": 23,
     "metadata": {},
     "output_type": "execute_result"
    },
    {
     "data": {
      "image/png": "[encoded data removed]",
      "text/plain": [
       "<Figure size 1130.4x595.44 with 1 Axes>"
      ]
     },
     "metadata": {},
     "output_type": "display_data"
    }
   ],
   "source": [
    "df.boxplot(\"Age\")\n",
    "#Inference : Outliers are handled"
   ]
  },
  {
   "cell_type": "code",
   "execution_count": null,
   "metadata": {},
   "outputs": [],
   "source": [
    "#Month"
   ]
  },
  {
   "cell_type": "code",
   "execution_count": null,
   "metadata": {},
   "outputs": [
    {
     "data": {
      "text/plain": [
       "<AxesSubplot:>"
      ]
     },
     "execution_count": 25,
     "metadata": {},
     "output_type": "execute_result"
    },
    {
     "data": {
      "image/png": "[encoded data removed]",
      "text/plain": [
       "<Figure size 1130.4x595.44 with 1 Axes>"
      ]
     },
     "metadata": {},
     "output_type": "display_data"
    }
   ],
   "source": [
    "df.boxplot(\"Months\")\n",
    "#Inference: No outlier found"
   ]
  },
  {
   "cell_type": "code",
   "execution_count": null,
   "metadata": {},
   "outputs": [],
   "source": [
    "#Salary"
   ]
  },
  {
   "cell_type": "code",
   "execution_count": null,
   "metadata": {},
   "outputs": [
    {
     "data": {
      "text/plain": [
       "<AxesSubplot:>"
      ]
     },
     "execution_count": 27,
     "metadata": {},
     "output_type": "execute_result"
    },
    {
     "data": {
      "image/png": "[encoded data removed]",
      "text/plain": [
       "<Figure size 1130.4x595.44 with 1 Axes>"
      ]
     },
     "metadata": {},
     "output_type": "display_data"
    }
   ],
   "source": [
    "df.boxplot(\"Salary\")\n",
    "#Inference: No outlier found"
   ]
  },
  {
   "cell_type": "code",
   "execution_count": null,
   "metadata": {},
   "outputs": [],
   "source": [
    "#Unit_Sales"
   ]
  },
  {
   "cell_type": "code",
   "execution_count": null,
   "metadata": {},
   "outputs": [
    {
     "data": {
      "text/plain": [
       "<AxesSubplot:>"
      ]
     },
     "execution_count": 29,
     "metadata": {},
     "output_type": "execute_result"
    },
    {
     "data": {
      "image/png": "[encoded data removed]",
      "text/plain": [
       "<Figure size 1130.4x595.44 with 1 Axes>"
      ]
     },
     "metadata": {},
     "output_type": "display_data"
    }
   ],
   "source": [
    "df.boxplot(\"Unit_Sales\")\n",
    "#Inference: No outlier found"
   ]
  },
  {
   "cell_type": "code",
   "execution_count": null,
   "metadata": {},
   "outputs": [],
   "source": [
    "#Bonus"
   ]
  },
  {
   "cell_type": "code",
   "execution_count": null,
   "metadata": {},
   "outputs": [
    {
     "data": {
      "text/plain": [
       "<AxesSubplot:>"
      ]
     },
     "execution_count": 31,
     "metadata": {},
     "output_type": "execute_result"
    },
    {
     "data": {
      "image/png": "[encoded data removed]",
      "text/plain": [
       "<Figure size 1130.4x595.44 with 1 Axes>"
      ]
     },
     "metadata": {},
     "output_type": "display_data"
    }
   ],
   "source": [
    "df.boxplot(\"Bonus\")\n",
    "#Inference: Outlier found"
   ]
  },
  {
   "cell_type": "code",
   "execution_count": null,
   "metadata": {},
   "outputs": [
    {
     "data": {
      "text/plain": [
       "14105.03"
      ]
     },
     "execution_count": 32,
     "metadata": {},
     "output_type": "execute_result"
    }
   ],
   "source": [
    "q1_Bonus = df['Bonus'].describe()[4]\n",
    "q3_Bonus = df['Bonus'].describe()[6]\n",
    "IQR_Bonus = q3_Bonus - q1_Bonus\n",
    "IQR_Bonus"
   ]
  },
  {
   "cell_type": "code",
   "execution_count": null,
   "metadata": {},
   "outputs": [
    {
     "data": {
      "text/plain": [
       "38334"
      ]
     },
     "execution_count": 33,
     "metadata": {},
     "output_type": "execute_result"
    }
   ],
   "source": [
    "# calculate upperwhisker\n",
    "upperwhisker_Bonus = (q3_Bonus + (1.5*IQR_Bonus)).astype(int)\n",
    "upperwhisker_Bonus"
   ]
  },
  {
   "cell_type": "code",
   "execution_count": null,
   "metadata": {},
   "outputs": [
    {
     "data": {
      "text/plain": [
       "-18085"
      ]
     },
     "execution_count": 34,
     "metadata": {},
     "output_type": "execute_result"
    }
   ],
   "source": [
    "# calculate lowerwhisker\n",
    "lowerwhisker_Bonus = (q1_Bonus - (1.5*IQR_Bonus)).astype(int)\n",
    "lowerwhisker_Bonus"
   ]
  },
  {
   "cell_type": "code",
   "execution_count": null,
   "metadata": {},
   "outputs": [
    {
     "data": {
      "text/plain": [
       "0"
      ]
     },
     "execution_count": 35,
     "metadata": {},
     "output_type": "execute_result"
    }
   ],
   "source": [
    "out_BonusL = len (df[df['Bonus'] < lowerwhisker_Bonus]['Bonus'])\n",
    "out_BonusL"
   ]
  },
  {
   "cell_type": "code",
   "execution_count": null,
   "metadata": {
    "scrolled": true
   },
   "outputs": [
    {
     "data": {
      "text/plain": [
       "0       400184.25\n",
       "1       137811.38\n",
       "2        16452.60\n",
       "3       198306.90\n",
       "4       182234.59\n",
       "          ...    \n",
       "5044      4773.17\n",
       "5045     17063.77\n",
       "5046     17959.69\n",
       "5047      6462.36\n",
       "5048     10676.41\n",
       "Name: Bonus, Length: 4267, dtype: float64"
      ]
     },
     "execution_count": 36,
     "metadata": {},
     "output_type": "execute_result"
    }
   ],
   "source": [
    "# identify all the outliers\n",
    "df[df['Bonus'] > upperwhisker_age]['Bonus']"
   ]
  },
  {
   "cell_type": "code",
   "execution_count": null,
   "metadata": {},
   "outputs": [
    {
     "data": {
      "text/plain": [
       "4267"
      ]
     },
     "execution_count": 37,
     "metadata": {},
     "output_type": "execute_result"
    }
   ],
   "source": [
    "out_Bonus = len (df[df['Bonus'] > upperwhisker_age]['Bonus'])\n",
    "out_Bonus"
   ]
  },
  {
   "cell_type": "code",
   "execution_count": null,
   "metadata": {},
   "outputs": [
    {
     "data": {
      "text/plain": [
       "84.51"
      ]
     },
     "execution_count": 38,
     "metadata": {},
     "output_type": "execute_result"
    }
   ],
   "source": [
    "#If percent is more than 0.3% we need to handle the outlier\n",
    "percent_Bonus = round((out_Bonus/df.shape[0])*100 , 2)\n",
    "percent_Bonus\n",
    "# Inference :  If percent is more than 0.3% we need to handle the outlier . In this case its 84.51 % so we have to handle the outlier"
   ]
  },
  {
   "cell_type": "code",
   "execution_count": null,
   "metadata": {},
   "outputs": [],
   "source": [
    "df['Bonus'] = np.where(df['Bonus'] > upperwhisker_Bonus , upperwhisker_Bonus , df['Bonus'] )"
   ]
  },
  {
   "cell_type": "code",
   "execution_count": null,
   "metadata": {},
   "outputs": [
    {
     "data": {
      "text/plain": [
       "<AxesSubplot:>"
      ]
     },
     "execution_count": 40,
     "metadata": {},
     "output_type": "execute_result"
    },
    {
     "data": {
      "image/png": "[encoded data removed]",
      "text/plain": [
       "<Figure size 1130.4x595.44 with 1 Axes>"
      ]
     },
     "metadata": {},
     "output_type": "display_data"
    }
   ],
   "source": [
    "df.boxplot(\"Bonus\")\n",
    "#Inference: Outlier is handled"
   ]
  },
  {
   "cell_type": "code",
   "execution_count": null,
   "metadata": {},
   "outputs": [],
   "source": [
    "#BasePay"
   ]
  },
  {
   "cell_type": "code",
   "execution_count": null,
   "metadata": {
    "scrolled": true
   },
   "outputs": [
    {
     "data": {
      "text/plain": [
       "<AxesSubplot:>"
      ]
     },
     "execution_count": 42,
     "metadata": {},
     "output_type": "execute_result"
    },
    {
     "data": {
      "image/png": "[encoded data removed]",
      "text/plain": [
       "<Figure size 1130.4x595.44 with 1 Axes>"
      ]
     },
     "metadata": {},
     "output_type": "display_data"
    }
   ],
   "source": [
    "df.boxplot(\"BasePay\")\n",
    "#Inference: Outlier found"
   ]
  },
  {
   "cell_type": "code",
   "execution_count": null,
   "metadata": {},
   "outputs": [
    {
     "data": {
      "text/plain": [
       "32919.979999999996"
      ]
     },
     "execution_count": 43,
     "metadata": {},
     "output_type": "execute_result"
    }
   ],
   "source": [
    "q1_BasePay = df['BasePay'].describe()[4]\n",
    "q3_BasePay = df['BasePay'].describe()[6]\n",
    "IQR_BasePay = q3_BasePay - q1_BasePay\n",
    "IQR_BasePay"
   ]
  },
  {
   "cell_type": "code",
   "execution_count": null,
   "metadata": {},
   "outputs": [
    {
     "data": {
      "text/plain": [
       "188234"
      ]
     },
     "execution_count": 44,
     "metadata": {},
     "output_type": "execute_result"
    }
   ],
   "source": [
    "\n",
    "# calculate upperwhisker\n",
    "upperwhisker_BasePay = (q3_BasePay + (1.5*IQR_BasePay)).astype(int)\n",
    "upperwhisker_BasePay"
   ]
  },
  {
   "cell_type": "code",
   "execution_count": null,
   "metadata": {},
   "outputs": [
    {
     "data": {
      "text/plain": [
       "56554"
      ]
     },
     "execution_count": 45,
     "metadata": {},
     "output_type": "execute_result"
    }
   ],
   "source": [
    "# calculate lowerwhisker\n",
    "lowerwhisker_BasePay = (q1_BasePay - (1.5*IQR_BasePay)).astype(int)\n",
    "lowerwhisker_BasePay"
   ]
  },
  {
   "cell_type": "code",
   "execution_count": null,
   "metadata": {},
   "outputs": [
    {
     "data": {
      "text/plain": [
       "26"
      ]
     },
     "execution_count": 46,
     "metadata": {},
     "output_type": "execute_result"
    }
   ],
   "source": [
    "out_BasePayL = len (df[df['BasePay'] < lowerwhisker_BasePay]['BasePay'])\n",
    "out_BasePayL\n"
   ]
  },
  {
   "cell_type": "code",
   "execution_count": null,
   "metadata": {},
   "outputs": [
    {
     "data": {
      "text/plain": [
       "0.51"
      ]
     },
     "execution_count": 47,
     "metadata": {},
     "output_type": "execute_result"
    }
   ],
   "source": [
    "#If percent is more than 0.3% we need to handle the outlier\n",
    "percent_BasePayL = round((out_BasePayL/df.shape[0])*100 , 2)\n",
    "percent_BasePayL"
   ]
  },
  {
   "cell_type": "code",
   "execution_count": null,
   "metadata": {},
   "outputs": [],
   "source": [
    "df['BasePay'] = np.where(df['BasePay'] < lowerwhisker_BasePay , lowerwhisker_BasePay , df['BasePay'] )"
   ]
  },
  {
   "cell_type": "code",
   "execution_count": null,
   "metadata": {},
   "outputs": [],
   "source": [
    "# identify all the outliers in age column\n",
    "df[df['BasePay'] > upperwhisker_BasePay]['BasePay']\n",
    "\n",
    "\n",
    "out_BasePay = len (df[df['BasePay'] > upperwhisker_BasePay]['BasePay'])\n",
    "#out_BasePay\n",
    "\n",
    "\n",
    "#If percent is more than 0.3% we need to handle the outlier\n",
    "percent_BasePay = round((out_BasePay/df.shape[0])*100 , 2)\n",
    "percent_BasePay\n",
    "# Inference :  If percent is more than 0.3% we need to handle the outlier . \n",
    "\n",
    "df['BasePay'] = np.where(df['BasePay'] > upperwhisker_BasePay , upperwhisker_BasePay , df['BasePay'] )"
   ]
  },
  {
   "cell_type": "code",
   "execution_count": null,
   "metadata": {},
   "outputs": [
    {
     "data": {
      "text/plain": [
       "<AxesSubplot:>"
      ]
     },
     "execution_count": 50,
     "metadata": {},
     "output_type": "execute_result"
    },
    {
     "data": {
      "image/png": "[encoded data removed]",
      "text/plain": [
       "<Figure size 1130.4x595.44 with 1 Axes>"
      ]
     },
     "metadata": {},
     "output_type": "display_data"
    }
   ],
   "source": [
    "df.boxplot(\"BasePay\")"
   ]
  },
  {
   "cell_type": "code",
   "execution_count": null,
   "metadata": {},
   "outputs": [
    {
     "data": {
      "text/plain": [
       "<AxesSubplot:>"
      ]
     },
     "execution_count": 51,
     "metadata": {},
     "output_type": "execute_result"
    },
    {
     "data": {
      "image/png": "[encoded data removed]",
      "text/plain": [
       "<Figure size 1130.4x595.44 with 1 Axes>"
      ]
     },
     "metadata": {},
     "output_type": "display_data"
    }
   ],
   "source": [
    "df.boxplot(\"Unit_Price\")"
   ]
  },
  {
   "cell_type": "code",
   "execution_count": null,
   "metadata": {},
   "outputs": [
    {
     "data": {
      "text/plain": [
       "32.83"
      ]
     },
     "execution_count": 52,
     "metadata": {},
     "output_type": "execute_result"
    }
   ],
   "source": [
    "q1_Unit_Price = df['Unit_Price'].describe()[4]\n",
    "q3_Unit_Price = df['Unit_Price'].describe()[6]\n",
    "IQR_Unit_Price = q3_Unit_Price - q1_Unit_Price\n",
    "IQR_Unit_Price\n"
   ]
  },
  {
   "cell_type": "code",
   "execution_count": null,
   "metadata": {},
   "outputs": [
    {
     "data": {
      "text/plain": [
       "107"
      ]
     },
     "execution_count": 53,
     "metadata": {},
     "output_type": "execute_result"
    }
   ],
   "source": [
    "# calculate upperwhisker\n",
    "upperwhisker_Unit_Price = (q3_Unit_Price + (1.5*IQR_Unit_Price)).astype(int)\n",
    "upperwhisker_Unit_Price"
   ]
  },
  {
   "cell_type": "code",
   "execution_count": null,
   "metadata": {},
   "outputs": [
    {
     "data": {
      "text/plain": [
       "-23"
      ]
     },
     "execution_count": 54,
     "metadata": {},
     "output_type": "execute_result"
    }
   ],
   "source": [
    "# calculate lowerwhisker\n",
    "lowerwhisker_Unit_Price = (q1_Unit_Price - (1.5*IQR_Unit_Price)).astype(int)\n",
    "lowerwhisker_Unit_Price"
   ]
  },
  {
   "cell_type": "code",
   "execution_count": null,
   "metadata": {},
   "outputs": [
    {
     "data": {
      "text/plain": [
       "0"
      ]
     },
     "execution_count": 55,
     "metadata": {},
     "output_type": "execute_result"
    }
   ],
   "source": [
    "out_Unit_PriceL = len (df[df['Unit_Price'] < lowerwhisker_Unit_Price]['Unit_Price'])\n",
    "out_Unit_PriceL\n"
   ]
  },
  {
   "cell_type": "code",
   "execution_count": null,
   "metadata": {},
   "outputs": [],
   "source": [
    "# identify all the outliers in age column\n",
    "df[df['Unit_Price'] > upperwhisker_Unit_Price]['Unit_Price']\n",
    "\n",
    "\n",
    "out_Unit_Price = len (df[df['Unit_Price'] > upperwhisker_Unit_Price]['Unit_Price'])\n",
    "#out_Unit_Price\n",
    "\n",
    "\n",
    "#If percent is more than 0.3% we need to handle the outlier\n",
    "percent_Unit_Price = round((out_Unit_Price/df.shape[0])*100 , 2)\n",
    "percent_Unit_Price\n",
    "# Inference :  If percent is more than 0.3% we need to handle the outlier . \n",
    "\n",
    "df['Unit_Price'] = np.where(df['Unit_Price'] > upperwhisker_Unit_Price , upperwhisker_Unit_Price , df['Unit_Price'] )"
   ]
  },
  {
   "cell_type": "code",
   "execution_count": null,
   "metadata": {},
   "outputs": [
    {
     "data": {
      "text/plain": [
       "<AxesSubplot:>"
      ]
     },
     "execution_count": 57,
     "metadata": {},
     "output_type": "execute_result"
    },
    {
     "data": {
      "image/png": "[encoded data removed]",
      "text/plain": [
       "<Figure size 1130.4x595.44 with 1 Axes>"
      ]
     },
     "metadata": {},
     "output_type": "display_data"
    }
   ],
   "source": [
    "df.boxplot(\"Unit_Price\")"
   ]
  },
  {
   "cell_type": "code",
   "execution_count": null,
   "metadata": {},
   "outputs": [
    {
     "data": {
      "text/plain": [
       "<AxesSubplot:>"
      ]
     },
     "execution_count": 58,
     "metadata": {},
     "output_type": "execute_result"
    },
    {
     "data": {
      "image/png": "[encoded data removed]",
      "text/plain": [
       "<Figure size 1130.4x595.44 with 1 Axes>"
      ]
     },
     "metadata": {},
     "output_type": "display_data"
    }
   ],
   "source": [
    "df.boxplot(\"Volume\")"
   ]
  },
  {
   "cell_type": "code",
   "execution_count": null,
   "metadata": {},
   "outputs": [
    {
     "data": {
      "text/plain": [
       "4923400.0"
      ]
     },
     "execution_count": 59,
     "metadata": {},
     "output_type": "execute_result"
    }
   ],
   "source": [
    "q1_Volume = df['Volume'].describe()[4]\n",
    "q3_Volume = df['Volume'].describe()[6]\n",
    "IQR_Volume = q3_Volume - q1_Volume\n",
    "IQR_Volume"
   ]
  },
  {
   "cell_type": "code",
   "execution_count": null,
   "metadata": {},
   "outputs": [
    {
     "data": {
      "text/plain": [
       "13590200"
      ]
     },
     "execution_count": 60,
     "metadata": {},
     "output_type": "execute_result"
    }
   ],
   "source": [
    "# calculate upperwhisker\n",
    "upperwhisker_Volume = (q3_Volume + (1.5*IQR_Volume)).astype(int)\n",
    "upperwhisker_Volume"
   ]
  },
  {
   "cell_type": "code",
   "execution_count": null,
   "metadata": {},
   "outputs": [
    {
     "data": {
      "text/plain": [
       "-6103400"
      ]
     },
     "execution_count": 61,
     "metadata": {},
     "output_type": "execute_result"
    }
   ],
   "source": [
    "# calculate lowerwhisker\n",
    "lowerwhisker_Volume = (q1_Volume - (1.5*IQR_Volume)).astype(int)\n",
    "lowerwhisker_Volume"
   ]
  },
  {
   "cell_type": "code",
   "execution_count": null,
   "metadata": {},
   "outputs": [
    {
     "data": {
      "text/plain": [
       "0"
      ]
     },
     "execution_count": 62,
     "metadata": {},
     "output_type": "execute_result"
    }
   ],
   "source": [
    "out_VolumeL = len (df[df['Volume'] < lowerwhisker_Volume]['Volume'])\n",
    "out_VolumeL"
   ]
  },
  {
   "cell_type": "code",
   "execution_count": null,
   "metadata": {},
   "outputs": [],
   "source": [
    "# identify all the outliers in age column\n",
    "df[df['Volume'] > upperwhisker_Volume]['Volume']\n",
    "\n",
    "\n",
    "out_Volume = len (df[df['Volume'] > upperwhisker_Volume]['Volume'])\n",
    "#out_Unit_Price\n",
    "\n",
    "\n",
    "#If percent is more than 0.3% we need to handle the outlier\n",
    "percent_Volume = round((out_Volume/df.shape[0])*100 , 2)\n",
    "percent_Volume\n",
    "# Inference :  If percent is more than 0.3% we need to handle the outlier . \n",
    "df['Volume'] = np.where(df['Volume'] > upperwhisker_Volume , upperwhisker_Volume, df['Volume'] )"
   ]
  },
  {
   "cell_type": "code",
   "execution_count": null,
   "metadata": {},
   "outputs": [
    {
     "data": {
      "text/plain": [
       "<AxesSubplot:>"
      ]
     },
     "execution_count": 64,
     "metadata": {},
     "output_type": "execute_result"
    },
    {
     "data": {
      "image/png": "[encoded data removed]",
      "text/plain": [
       "<Figure size 1130.4x595.44 with 1 Axes>"
      ]
     },
     "metadata": {},
     "output_type": "display_data"
    }
   ],
   "source": [
    "df.boxplot(\"Volume\")"
   ]
  },
  {
   "cell_type": "code",
   "execution_count": null,
   "metadata": {},
   "outputs": [
    {
     "data": {
      "text/plain": [
       "<AxesSubplot:>"
      ]
     },
     "execution_count": 65,
     "metadata": {},
     "output_type": "execute_result"
    },
    {
     "data": {
      "image/png": "[encoded data removed]",
      "text/plain": [
       "<Figure size 1130.4x595.44 with 1 Axes>"
      ]
     },
     "metadata": {},
     "output_type": "display_data"
    }
   ],
   "source": [
    "df.boxplot(\"openingbalance\")"
   ]
  },
  {
   "cell_type": "code",
   "execution_count": null,
   "metadata": {},
   "outputs": [
    {
     "data": {
      "text/plain": [
       "29.150001"
      ]
     },
     "execution_count": 66,
     "metadata": {},
     "output_type": "execute_result"
    }
   ],
   "source": [
    "q1_openingbalance = df['openingbalance'].describe()[4]\n",
    "q3_openingbalance = df['openingbalance'].describe()[6]\n",
    "IQR_openingbalance = q3_openingbalance - q1_openingbalance\n",
    "IQR_openingbalance"
   ]
  },
  {
   "cell_type": "code",
   "execution_count": null,
   "metadata": {},
   "outputs": [
    {
     "data": {
      "text/plain": [
       "94"
      ]
     },
     "execution_count": 67,
     "metadata": {},
     "output_type": "execute_result"
    }
   ],
   "source": [
    "# calculate upperwhisker\n",
    "upperwhisker_openingbalance = (q3_openingbalance + (1.5*IQR_openingbalance)).astype(int)\n",
    "upperwhisker_openingbalance"
   ]
  },
  {
   "cell_type": "code",
   "execution_count": null,
   "metadata": {},
   "outputs": [
    {
     "data": {
      "text/plain": [
       "-21"
      ]
     },
     "execution_count": 68,
     "metadata": {},
     "output_type": "execute_result"
    }
   ],
   "source": [
    "# calculate lowerwhisker\n",
    "lowerwhisker_openingbalance = (q1_openingbalance - (1.5*IQR_openingbalance)).astype(int)\n",
    "lowerwhisker_openingbalance"
   ]
  },
  {
   "cell_type": "code",
   "execution_count": null,
   "metadata": {},
   "outputs": [
    {
     "data": {
      "text/plain": [
       "0"
      ]
     },
     "execution_count": 69,
     "metadata": {},
     "output_type": "execute_result"
    }
   ],
   "source": [
    "out_openingbalanceL = len (df[df['openingbalance'] < lowerwhisker_openingbalance]['openingbalance'])\n",
    "out_openingbalanceL"
   ]
  },
  {
   "cell_type": "code",
   "execution_count": null,
   "metadata": {},
   "outputs": [
    {
     "data": {
      "text/plain": [
       "401"
      ]
     },
     "execution_count": 70,
     "metadata": {},
     "output_type": "execute_result"
    }
   ],
   "source": [
    "# identify all the outliers in age column\n",
    "df[df['openingbalance'] > upperwhisker_openingbalance]['openingbalance']\n",
    "\n",
    "\n",
    "out_openingbalance = len (df[df['openingbalance'] > upperwhisker_openingbalance]['openingbalance'])\n",
    "out_openingbalance\n",
    "\n",
    "\n",
    "\n",
    "\n"
   ]
  },
  {
   "cell_type": "code",
   "execution_count": null,
   "metadata": {},
   "outputs": [
    {
     "data": {
      "text/plain": [
       "7.94"
      ]
     },
     "execution_count": 71,
     "metadata": {},
     "output_type": "execute_result"
    }
   ],
   "source": [
    "#If percent is more than 0.3% we need to handle the outlier\n",
    "percent_openingbalance = round((out_openingbalance/df.shape[0])*100 , 2)\n",
    "percent_openingbalance\n",
    "# Inference :  If percent is more than 0.3% we need to handle the outlier . "
   ]
  },
  {
   "cell_type": "code",
   "execution_count": null,
   "metadata": {},
   "outputs": [],
   "source": [
    "df['openingbalance'] = np.where(df['openingbalance'] > upperwhisker_openingbalance , upperwhisker_openingbalance, df['openingbalance'] )"
   ]
  },
  {
   "cell_type": "code",
   "execution_count": null,
   "metadata": {},
   "outputs": [
    {
     "data": {
      "text/plain": [
       "<AxesSubplot:>"
      ]
     },
     "execution_count": 73,
     "metadata": {},
     "output_type": "execute_result"
    },
    {
     "data": {
      "image/png": "[encoded data removed]",
      "text/plain": [
       "<Figure size 1130.4x595.44 with 1 Axes>"
      ]
     },
     "metadata": {},
     "output_type": "display_data"
    }
   ],
   "source": [
    "df.boxplot(\"openingbalance\")"
   ]
  },
  {
   "cell_type": "markdown",
   "metadata": {},
   "source": [
    "# Feature Engineering"
   ]
  },
  {
   "cell_type": "code",
   "execution_count": null,
   "metadata": {},
   "outputs": [
    {
     "data": {
      "text/html": [
       "<div>\n",
       "<style scoped>\n",
       "    .dataframe tbody tr th:only-of-type {\n",
       "        vertical-align: middle;\n",
       "    }\n",
       "\n",
       "    .dataframe tbody tr th {\n",
       "        vertical-align: top;\n",
       "    }\n",
       "\n",
       "    .dataframe thead th {\n",
       "        text-align: right;\n",
       "    }\n",
       "</style>\n",
       "<table border=\"1\" class=\"dataframe\">\n",
       "  <thead>\n",
       "    <tr style=\"text-align: right;\">\n",
       "      <th></th>\n",
       "      <th>Male</th>\n",
       "    </tr>\n",
       "  </thead>\n",
       "  <tbody>\n",
       "    <tr>\n",
       "      <th>0</th>\n",
       "      <td>0</td>\n",
       "    </tr>\n",
       "    <tr>\n",
       "      <th>1</th>\n",
       "      <td>1</td>\n",
       "    </tr>\n",
       "    <tr>\n",
       "      <th>2</th>\n",
       "      <td>1</td>\n",
       "    </tr>\n",
       "    <tr>\n",
       "      <th>3</th>\n",
       "      <td>1</td>\n",
       "    </tr>\n",
       "    <tr>\n",
       "      <th>4</th>\n",
       "      <td>0</td>\n",
       "    </tr>\n",
       "  </tbody>\n",
       "</table>\n",
       "</div>"
      ],
      "text/plain": [
       "   Male\n",
       "0     0\n",
       "1     1\n",
       "2     1\n",
       "3     1\n",
       "4     0"
      ]
     },
     "execution_count": 74,
     "metadata": {},
     "output_type": "execute_result"
    }
   ],
   "source": [
    "# Convert the \"Gender\" column into a categorical data and drop the female column as with Male column we can know F/M . \n",
    "#Using get_dummies which is equivalent to One hot encoding\n",
    "\n",
    "gender = pd.get_dummies(df['Gender'], drop_first=True)\n",
    "gender.head(5)"
   ]
  },
  {
   "cell_type": "code",
   "execution_count": null,
   "metadata": {},
   "outputs": [
    {
     "data": {
      "text/html": [
       "<div>\n",
       "<style scoped>\n",
       "    .dataframe tbody tr th:only-of-type {\n",
       "        vertical-align: middle;\n",
       "    }\n",
       "\n",
       "    .dataframe tbody tr th {\n",
       "        vertical-align: top;\n",
       "    }\n",
       "\n",
       "    .dataframe thead th {\n",
       "        text-align: right;\n",
       "    }\n",
       "</style>\n",
       "<table border=\"1\" class=\"dataframe\">\n",
       "  <thead>\n",
       "    <tr style=\"text-align: right;\">\n",
       "      <th></th>\n",
       "      <th>One year</th>\n",
       "      <th>Two year</th>\n",
       "    </tr>\n",
       "  </thead>\n",
       "  <tbody>\n",
       "    <tr>\n",
       "      <th>0</th>\n",
       "      <td>0</td>\n",
       "      <td>0</td>\n",
       "    </tr>\n",
       "    <tr>\n",
       "      <th>1</th>\n",
       "      <td>1</td>\n",
       "      <td>0</td>\n",
       "    </tr>\n",
       "    <tr>\n",
       "      <th>2</th>\n",
       "      <td>0</td>\n",
       "      <td>0</td>\n",
       "    </tr>\n",
       "    <tr>\n",
       "      <th>3</th>\n",
       "      <td>1</td>\n",
       "      <td>0</td>\n",
       "    </tr>\n",
       "    <tr>\n",
       "      <th>4</th>\n",
       "      <td>0</td>\n",
       "      <td>0</td>\n",
       "    </tr>\n",
       "  </tbody>\n",
       "</table>\n",
       "</div>"
      ],
      "text/plain": [
       "   One year  Two year\n",
       "0         0         0\n",
       "1         1         0\n",
       "2         0         0\n",
       "3         1         0\n",
       "4         0         0"
      ]
     },
     "execution_count": 75,
     "metadata": {},
     "output_type": "execute_result"
    }
   ],
   "source": [
    "# Convert the \"Type\" column into a categorical data and drop the month to month column as with One year and Two year column we can know whether the type in month to month or not\n",
    "#Using get_dummies which is equivalent to One hot encoding\n",
    "\n",
    "Type = pd.get_dummies(df['Type'], drop_first=True)\n",
    "Type.head(5)"
   ]
  },
  {
   "cell_type": "code",
   "execution_count": null,
   "metadata": {},
   "outputs": [
    {
     "data": {
      "text/html": [
       "<div>\n",
       "<style scoped>\n",
       "    .dataframe tbody tr th:only-of-type {\n",
       "        vertical-align: middle;\n",
       "    }\n",
       "\n",
       "    .dataframe tbody tr th {\n",
       "        vertical-align: top;\n",
       "    }\n",
       "\n",
       "    .dataframe thead th {\n",
       "        text-align: right;\n",
       "    }\n",
       "</style>\n",
       "<table border=\"1\" class=\"dataframe\">\n",
       "  <thead>\n",
       "    <tr style=\"text-align: right;\">\n",
       "      <th></th>\n",
       "      <th>Gender</th>\n",
       "      <th>Business</th>\n",
       "      <th>Age</th>\n",
       "      <th>Salary</th>\n",
       "      <th>Dependancies</th>\n",
       "      <th>Months</th>\n",
       "      <th>Calls</th>\n",
       "      <th>Type</th>\n",
       "      <th>Billing</th>\n",
       "      <th>Unit_Sales</th>\n",
       "      <th>Total_Sales</th>\n",
       "      <th>Rating</th>\n",
       "      <th>Bonus</th>\n",
       "      <th>BasePay</th>\n",
       "      <th>Unit_Price</th>\n",
       "      <th>Volume</th>\n",
       "      <th>openingbalance</th>\n",
       "    </tr>\n",
       "  </thead>\n",
       "  <tbody>\n",
       "    <tr>\n",
       "      <th>0</th>\n",
       "      <td>Female</td>\n",
       "      <td>0</td>\n",
       "      <td>42</td>\n",
       "      <td>101348.88</td>\n",
       "      <td>No</td>\n",
       "      <td>1</td>\n",
       "      <td>No</td>\n",
       "      <td>Month-to-month</td>\n",
       "      <td>Yes</td>\n",
       "      <td>29.85</td>\n",
       "      <td>29.85</td>\n",
       "      <td>No</td>\n",
       "      <td>38334.0</td>\n",
       "      <td>167411.18</td>\n",
       "      <td>107.0</td>\n",
       "      <td>2163600</td>\n",
       "      <td>94.0</td>\n",
       "    </tr>\n",
       "    <tr>\n",
       "      <th>1</th>\n",
       "      <td>Male</td>\n",
       "      <td>0</td>\n",
       "      <td>41</td>\n",
       "      <td>112542.58</td>\n",
       "      <td>No</td>\n",
       "      <td>34</td>\n",
       "      <td>Yes</td>\n",
       "      <td>One year</td>\n",
       "      <td>No</td>\n",
       "      <td>56.95</td>\n",
       "      <td>1889.5</td>\n",
       "      <td>No</td>\n",
       "      <td>38334.0</td>\n",
       "      <td>155966.02</td>\n",
       "      <td>107.0</td>\n",
       "      <td>2386400</td>\n",
       "      <td>94.0</td>\n",
       "    </tr>\n",
       "    <tr>\n",
       "      <th>2</th>\n",
       "      <td>Male</td>\n",
       "      <td>0</td>\n",
       "      <td>42</td>\n",
       "      <td>113931.57</td>\n",
       "      <td>No</td>\n",
       "      <td>2</td>\n",
       "      <td>Yes</td>\n",
       "      <td>Month-to-month</td>\n",
       "      <td>Yes</td>\n",
       "      <td>53.85</td>\n",
       "      <td>108.15</td>\n",
       "      <td>Yes</td>\n",
       "      <td>16452.6</td>\n",
       "      <td>188234.00</td>\n",
       "      <td>107.0</td>\n",
       "      <td>2489500</td>\n",
       "      <td>94.0</td>\n",
       "    </tr>\n",
       "    <tr>\n",
       "      <th>3</th>\n",
       "      <td>Male</td>\n",
       "      <td>0</td>\n",
       "      <td>39</td>\n",
       "      <td>93826.63</td>\n",
       "      <td>No</td>\n",
       "      <td>45</td>\n",
       "      <td>No</td>\n",
       "      <td>One year</td>\n",
       "      <td>No</td>\n",
       "      <td>42.30</td>\n",
       "      <td>1840.75</td>\n",
       "      <td>No</td>\n",
       "      <td>38334.0</td>\n",
       "      <td>77916.00</td>\n",
       "      <td>107.0</td>\n",
       "      <td>2006300</td>\n",
       "      <td>94.0</td>\n",
       "    </tr>\n",
       "    <tr>\n",
       "      <th>4</th>\n",
       "      <td>Female</td>\n",
       "      <td>0</td>\n",
       "      <td>43</td>\n",
       "      <td>79084.10</td>\n",
       "      <td>No</td>\n",
       "      <td>2</td>\n",
       "      <td>Yes</td>\n",
       "      <td>Month-to-month</td>\n",
       "      <td>Yes</td>\n",
       "      <td>70.70</td>\n",
       "      <td>151.65</td>\n",
       "      <td>Yes</td>\n",
       "      <td>38334.0</td>\n",
       "      <td>134401.60</td>\n",
       "      <td>107.0</td>\n",
       "      <td>1408600</td>\n",
       "      <td>94.0</td>\n",
       "    </tr>\n",
       "  </tbody>\n",
       "</table>\n",
       "</div>"
      ],
      "text/plain": [
       "   Gender  Business  Age     Salary Dependancies  Months Calls  \\\n",
       "0  Female         0   42  101348.88           No       1    No   \n",
       "1    Male         0   41  112542.58           No      34   Yes   \n",
       "2    Male         0   42  113931.57           No       2   Yes   \n",
       "3    Male         0   39   93826.63           No      45    No   \n",
       "4  Female         0   43   79084.10           No       2   Yes   \n",
       "\n",
       "             Type Billing  Unit_Sales Total_Sales Rating    Bonus    BasePay  \\\n",
       "0  Month-to-month     Yes       29.85       29.85     No  38334.0  167411.18   \n",
       "1        One year      No       56.95      1889.5     No  38334.0  155966.02   \n",
       "2  Month-to-month     Yes       53.85      108.15    Yes  16452.6  188234.00   \n",
       "3        One year      No       42.30     1840.75     No  38334.0   77916.00   \n",
       "4  Month-to-month     Yes       70.70      151.65    Yes  38334.0  134401.60   \n",
       "\n",
       "   Unit_Price   Volume  openingbalance  \n",
       "0       107.0  2163600            94.0  \n",
       "1       107.0  2386400            94.0  \n",
       "2       107.0  2489500            94.0  \n",
       "3       107.0  2006300            94.0  \n",
       "4       107.0  1408600            94.0  "
      ]
     },
     "execution_count": 76,
     "metadata": {},
     "output_type": "execute_result"
    }
   ],
   "source": [
    "df.head()"
   ]
  },
  {
   "cell_type": "code",
   "execution_count": null,
   "metadata": {},
   "outputs": [],
   "source": [
    "# Replace the Text based  Binary data to 0/1"
   ]
  },
  {
   "cell_type": "code",
   "execution_count": null,
   "metadata": {},
   "outputs": [],
   "source": [
    "df.Calls.replace(to_replace=['No', 'Yes'], value=[0, 1],inplace=True )\n",
    "df.Billing.replace(to_replace=['No', 'Yes'], value=[0, 1],inplace=True )\n",
    "df.Rating.replace(to_replace=['No', 'Yes'], value=[0, 1],inplace=True )\n",
    "df.Dependancies.replace(to_replace=['No', 'Yes'], value=[0, 1],inplace=True )\n"
   ]
  },
  {
   "cell_type": "code",
   "execution_count": null,
   "metadata": {},
   "outputs": [
    {
     "data": {
      "text/html": [
       "<div>\n",
       "<style scoped>\n",
       "    .dataframe tbody tr th:only-of-type {\n",
       "        vertical-align: middle;\n",
       "    }\n",
       "\n",
       "    .dataframe tbody tr th {\n",
       "        vertical-align: top;\n",
       "    }\n",
       "\n",
       "    .dataframe thead th {\n",
       "        text-align: right;\n",
       "    }\n",
       "</style>\n",
       "<table border=\"1\" class=\"dataframe\">\n",
       "  <thead>\n",
       "    <tr style=\"text-align: right;\">\n",
       "      <th></th>\n",
       "      <th>Gender</th>\n",
       "      <th>Business</th>\n",
       "      <th>Age</th>\n",
       "      <th>Salary</th>\n",
       "      <th>Dependancies</th>\n",
       "      <th>Months</th>\n",
       "      <th>Calls</th>\n",
       "      <th>Type</th>\n",
       "      <th>Billing</th>\n",
       "      <th>Unit_Sales</th>\n",
       "      <th>Total_Sales</th>\n",
       "      <th>Rating</th>\n",
       "      <th>Bonus</th>\n",
       "      <th>BasePay</th>\n",
       "      <th>Unit_Price</th>\n",
       "      <th>Volume</th>\n",
       "      <th>openingbalance</th>\n",
       "    </tr>\n",
       "  </thead>\n",
       "  <tbody>\n",
       "    <tr>\n",
       "      <th>0</th>\n",
       "      <td>Female</td>\n",
       "      <td>0</td>\n",
       "      <td>42</td>\n",
       "      <td>101348.88</td>\n",
       "      <td>0</td>\n",
       "      <td>1</td>\n",
       "      <td>0</td>\n",
       "      <td>Month-to-month</td>\n",
       "      <td>1</td>\n",
       "      <td>29.85</td>\n",
       "      <td>29.85</td>\n",
       "      <td>0</td>\n",
       "      <td>38334.0</td>\n",
       "      <td>167411.18</td>\n",
       "      <td>107.0</td>\n",
       "      <td>2163600</td>\n",
       "      <td>94.0</td>\n",
       "    </tr>\n",
       "    <tr>\n",
       "      <th>1</th>\n",
       "      <td>Male</td>\n",
       "      <td>0</td>\n",
       "      <td>41</td>\n",
       "      <td>112542.58</td>\n",
       "      <td>0</td>\n",
       "      <td>34</td>\n",
       "      <td>1</td>\n",
       "      <td>One year</td>\n",
       "      <td>0</td>\n",
       "      <td>56.95</td>\n",
       "      <td>1889.5</td>\n",
       "      <td>0</td>\n",
       "      <td>38334.0</td>\n",
       "      <td>155966.02</td>\n",
       "      <td>107.0</td>\n",
       "      <td>2386400</td>\n",
       "      <td>94.0</td>\n",
       "    </tr>\n",
       "    <tr>\n",
       "      <th>2</th>\n",
       "      <td>Male</td>\n",
       "      <td>0</td>\n",
       "      <td>42</td>\n",
       "      <td>113931.57</td>\n",
       "      <td>0</td>\n",
       "      <td>2</td>\n",
       "      <td>1</td>\n",
       "      <td>Month-to-month</td>\n",
       "      <td>1</td>\n",
       "      <td>53.85</td>\n",
       "      <td>108.15</td>\n",
       "      <td>1</td>\n",
       "      <td>16452.6</td>\n",
       "      <td>188234.00</td>\n",
       "      <td>107.0</td>\n",
       "      <td>2489500</td>\n",
       "      <td>94.0</td>\n",
       "    </tr>\n",
       "    <tr>\n",
       "      <th>3</th>\n",
       "      <td>Male</td>\n",
       "      <td>0</td>\n",
       "      <td>39</td>\n",
       "      <td>93826.63</td>\n",
       "      <td>0</td>\n",
       "      <td>45</td>\n",
       "      <td>0</td>\n",
       "      <td>One year</td>\n",
       "      <td>0</td>\n",
       "      <td>42.30</td>\n",
       "      <td>1840.75</td>\n",
       "      <td>0</td>\n",
       "      <td>38334.0</td>\n",
       "      <td>77916.00</td>\n",
       "      <td>107.0</td>\n",
       "      <td>2006300</td>\n",
       "      <td>94.0</td>\n",
       "    </tr>\n",
       "    <tr>\n",
       "      <th>4</th>\n",
       "      <td>Female</td>\n",
       "      <td>0</td>\n",
       "      <td>43</td>\n",
       "      <td>79084.10</td>\n",
       "      <td>0</td>\n",
       "      <td>2</td>\n",
       "      <td>1</td>\n",
       "      <td>Month-to-month</td>\n",
       "      <td>1</td>\n",
       "      <td>70.70</td>\n",
       "      <td>151.65</td>\n",
       "      <td>1</td>\n",
       "      <td>38334.0</td>\n",
       "      <td>134401.60</td>\n",
       "      <td>107.0</td>\n",
       "      <td>1408600</td>\n",
       "      <td>94.0</td>\n",
       "    </tr>\n",
       "  </tbody>\n",
       "</table>\n",
       "</div>"
      ],
      "text/plain": [
       "   Gender  Business  Age     Salary  Dependancies  Months  Calls  \\\n",
       "0  Female         0   42  101348.88             0       1      0   \n",
       "1    Male         0   41  112542.58             0      34      1   \n",
       "2    Male         0   42  113931.57             0       2      1   \n",
       "3    Male         0   39   93826.63             0      45      0   \n",
       "4  Female         0   43   79084.10             0       2      1   \n",
       "\n",
       "             Type  Billing  Unit_Sales Total_Sales  Rating    Bonus  \\\n",
       "0  Month-to-month        1       29.85       29.85       0  38334.0   \n",
       "1        One year        0       56.95      1889.5       0  38334.0   \n",
       "2  Month-to-month        1       53.85      108.15       1  16452.6   \n",
       "3        One year        0       42.30     1840.75       0  38334.0   \n",
       "4  Month-to-month        1       70.70      151.65       1  38334.0   \n",
       "\n",
       "     BasePay  Unit_Price   Volume  openingbalance  \n",
       "0  167411.18       107.0  2163600            94.0  \n",
       "1  155966.02       107.0  2386400            94.0  \n",
       "2  188234.00       107.0  2489500            94.0  \n",
       "3   77916.00       107.0  2006300            94.0  \n",
       "4  134401.60       107.0  1408600            94.0  "
      ]
     },
     "execution_count": 79,
     "metadata": {},
     "output_type": "execute_result"
    }
   ],
   "source": [
    "df.head()"
   ]
  },
  {
   "cell_type": "code",
   "execution_count": null,
   "metadata": {},
   "outputs": [
    {
     "data": {
      "text/html": [
       "<div>\n",
       "<style scoped>\n",
       "    .dataframe tbody tr th:only-of-type {\n",
       "        vertical-align: middle;\n",
       "    }\n",
       "\n",
       "    .dataframe tbody tr th {\n",
       "        vertical-align: top;\n",
       "    }\n",
       "\n",
       "    .dataframe thead th {\n",
       "        text-align: right;\n",
       "    }\n",
       "</style>\n",
       "<table border=\"1\" class=\"dataframe\">\n",
       "  <thead>\n",
       "    <tr style=\"text-align: right;\">\n",
       "      <th></th>\n",
       "      <th>Gender</th>\n",
       "      <th>Business</th>\n",
       "      <th>Age</th>\n",
       "      <th>Salary</th>\n",
       "      <th>Dependancies</th>\n",
       "      <th>Months</th>\n",
       "      <th>Calls</th>\n",
       "      <th>Type</th>\n",
       "      <th>Billing</th>\n",
       "      <th>Unit_Sales</th>\n",
       "      <th>Total_Sales</th>\n",
       "      <th>Rating</th>\n",
       "      <th>Bonus</th>\n",
       "      <th>BasePay</th>\n",
       "      <th>Unit_Price</th>\n",
       "      <th>Volume</th>\n",
       "      <th>openingbalance</th>\n",
       "      <th>Male</th>\n",
       "      <th>One year</th>\n",
       "      <th>Two year</th>\n",
       "    </tr>\n",
       "  </thead>\n",
       "  <tbody>\n",
       "    <tr>\n",
       "      <th>0</th>\n",
       "      <td>Female</td>\n",
       "      <td>0</td>\n",
       "      <td>42</td>\n",
       "      <td>101348.88</td>\n",
       "      <td>0</td>\n",
       "      <td>1</td>\n",
       "      <td>0</td>\n",
       "      <td>Month-to-month</td>\n",
       "      <td>1</td>\n",
       "      <td>29.85</td>\n",
       "      <td>29.85</td>\n",
       "      <td>0</td>\n",
       "      <td>38334.0</td>\n",
       "      <td>167411.18</td>\n",
       "      <td>107.0</td>\n",
       "      <td>2163600</td>\n",
       "      <td>94.0</td>\n",
       "      <td>0</td>\n",
       "      <td>0</td>\n",
       "      <td>0</td>\n",
       "    </tr>\n",
       "    <tr>\n",
       "      <th>1</th>\n",
       "      <td>Male</td>\n",
       "      <td>0</td>\n",
       "      <td>41</td>\n",
       "      <td>112542.58</td>\n",
       "      <td>0</td>\n",
       "      <td>34</td>\n",
       "      <td>1</td>\n",
       "      <td>One year</td>\n",
       "      <td>0</td>\n",
       "      <td>56.95</td>\n",
       "      <td>1889.5</td>\n",
       "      <td>0</td>\n",
       "      <td>38334.0</td>\n",
       "      <td>155966.02</td>\n",
       "      <td>107.0</td>\n",
       "      <td>2386400</td>\n",
       "      <td>94.0</td>\n",
       "      <td>1</td>\n",
       "      <td>1</td>\n",
       "      <td>0</td>\n",
       "    </tr>\n",
       "    <tr>\n",
       "      <th>2</th>\n",
       "      <td>Male</td>\n",
       "      <td>0</td>\n",
       "      <td>42</td>\n",
       "      <td>113931.57</td>\n",
       "      <td>0</td>\n",
       "      <td>2</td>\n",
       "      <td>1</td>\n",
       "      <td>Month-to-month</td>\n",
       "      <td>1</td>\n",
       "      <td>53.85</td>\n",
       "      <td>108.15</td>\n",
       "      <td>1</td>\n",
       "      <td>16452.6</td>\n",
       "      <td>188234.00</td>\n",
       "      <td>107.0</td>\n",
       "      <td>2489500</td>\n",
       "      <td>94.0</td>\n",
       "      <td>1</td>\n",
       "      <td>0</td>\n",
       "      <td>0</td>\n",
       "    </tr>\n",
       "    <tr>\n",
       "      <th>3</th>\n",
       "      <td>Male</td>\n",
       "      <td>0</td>\n",
       "      <td>39</td>\n",
       "      <td>93826.63</td>\n",
       "      <td>0</td>\n",
       "      <td>45</td>\n",
       "      <td>0</td>\n",
       "      <td>One year</td>\n",
       "      <td>0</td>\n",
       "      <td>42.30</td>\n",
       "      <td>1840.75</td>\n",
       "      <td>0</td>\n",
       "      <td>38334.0</td>\n",
       "      <td>77916.00</td>\n",
       "      <td>107.0</td>\n",
       "      <td>2006300</td>\n",
       "      <td>94.0</td>\n",
       "      <td>1</td>\n",
       "      <td>1</td>\n",
       "      <td>0</td>\n",
       "    </tr>\n",
       "    <tr>\n",
       "      <th>4</th>\n",
       "      <td>Female</td>\n",
       "      <td>0</td>\n",
       "      <td>43</td>\n",
       "      <td>79084.10</td>\n",
       "      <td>0</td>\n",
       "      <td>2</td>\n",
       "      <td>1</td>\n",
       "      <td>Month-to-month</td>\n",
       "      <td>1</td>\n",
       "      <td>70.70</td>\n",
       "      <td>151.65</td>\n",
       "      <td>1</td>\n",
       "      <td>38334.0</td>\n",
       "      <td>134401.60</td>\n",
       "      <td>107.0</td>\n",
       "      <td>1408600</td>\n",
       "      <td>94.0</td>\n",
       "      <td>0</td>\n",
       "      <td>0</td>\n",
       "      <td>0</td>\n",
       "    </tr>\n",
       "  </tbody>\n",
       "</table>\n",
       "</div>"
      ],
      "text/plain": [
       "   Gender  Business  Age     Salary  Dependancies  Months  Calls  \\\n",
       "0  Female         0   42  101348.88             0       1      0   \n",
       "1    Male         0   41  112542.58             0      34      1   \n",
       "2    Male         0   42  113931.57             0       2      1   \n",
       "3    Male         0   39   93826.63             0      45      0   \n",
       "4  Female         0   43   79084.10             0       2      1   \n",
       "\n",
       "             Type  Billing  Unit_Sales Total_Sales  Rating    Bonus  \\\n",
       "0  Month-to-month        1       29.85       29.85       0  38334.0   \n",
       "1        One year        0       56.95      1889.5       0  38334.0   \n",
       "2  Month-to-month        1       53.85      108.15       1  16452.6   \n",
       "3        One year        0       42.30     1840.75       0  38334.0   \n",
       "4  Month-to-month        1       70.70      151.65       1  38334.0   \n",
       "\n",
       "     BasePay  Unit_Price   Volume  openingbalance  Male  One year  Two year  \n",
       "0  167411.18       107.0  2163600            94.0     0         0         0  \n",
       "1  155966.02       107.0  2386400            94.0     1         1         0  \n",
       "2  188234.00       107.0  2489500            94.0     1         0         0  \n",
       "3   77916.00       107.0  2006300            94.0     1         1         0  \n",
       "4  134401.60       107.0  1408600            94.0     0         0         0  "
      ]
     },
     "execution_count": 80,
     "metadata": {},
     "output_type": "execute_result"
    }
   ],
   "source": [
    "# Concat the new columns of Gender and Type to the dataset\n",
    "\n",
    "df2 = pd.concat([df,gender,Type],axis=1)\n",
    "df2.head(5)"
   ]
  },
  {
   "cell_type": "code",
   "execution_count": null,
   "metadata": {},
   "outputs": [],
   "source": [
    "#Drop the old columns of Gender and Type - Text based  \n",
    "df2.drop(['Gender','Type'], axis=1 , inplace=True)"
   ]
  },
  {
   "cell_type": "code",
   "execution_count": null,
   "metadata": {},
   "outputs": [
    {
     "data": {
      "text/html": [
       "<div>\n",
       "<style scoped>\n",
       "    .dataframe tbody tr th:only-of-type {\n",
       "        vertical-align: middle;\n",
       "    }\n",
       "\n",
       "    .dataframe tbody tr th {\n",
       "        vertical-align: top;\n",
       "    }\n",
       "\n",
       "    .dataframe thead th {\n",
       "        text-align: right;\n",
       "    }\n",
       "</style>\n",
       "<table border=\"1\" class=\"dataframe\">\n",
       "  <thead>\n",
       "    <tr style=\"text-align: right;\">\n",
       "      <th></th>\n",
       "      <th>Business</th>\n",
       "      <th>Age</th>\n",
       "      <th>Salary</th>\n",
       "      <th>Dependancies</th>\n",
       "      <th>Months</th>\n",
       "      <th>Calls</th>\n",
       "      <th>Billing</th>\n",
       "      <th>Unit_Sales</th>\n",
       "      <th>Total_Sales</th>\n",
       "      <th>Rating</th>\n",
       "      <th>Bonus</th>\n",
       "      <th>BasePay</th>\n",
       "      <th>Unit_Price</th>\n",
       "      <th>Volume</th>\n",
       "      <th>openingbalance</th>\n",
       "      <th>Male</th>\n",
       "      <th>One year</th>\n",
       "      <th>Two year</th>\n",
       "    </tr>\n",
       "  </thead>\n",
       "  <tbody>\n",
       "    <tr>\n",
       "      <th>0</th>\n",
       "      <td>0</td>\n",
       "      <td>42</td>\n",
       "      <td>101348.88</td>\n",
       "      <td>0</td>\n",
       "      <td>1</td>\n",
       "      <td>0</td>\n",
       "      <td>1</td>\n",
       "      <td>29.85</td>\n",
       "      <td>29.85</td>\n",
       "      <td>0</td>\n",
       "      <td>38334.0</td>\n",
       "      <td>167411.18</td>\n",
       "      <td>107.0</td>\n",
       "      <td>2163600</td>\n",
       "      <td>94.0</td>\n",
       "      <td>0</td>\n",
       "      <td>0</td>\n",
       "      <td>0</td>\n",
       "    </tr>\n",
       "    <tr>\n",
       "      <th>1</th>\n",
       "      <td>0</td>\n",
       "      <td>41</td>\n",
       "      <td>112542.58</td>\n",
       "      <td>0</td>\n",
       "      <td>34</td>\n",
       "      <td>1</td>\n",
       "      <td>0</td>\n",
       "      <td>56.95</td>\n",
       "      <td>1889.5</td>\n",
       "      <td>0</td>\n",
       "      <td>38334.0</td>\n",
       "      <td>155966.02</td>\n",
       "      <td>107.0</td>\n",
       "      <td>2386400</td>\n",
       "      <td>94.0</td>\n",
       "      <td>1</td>\n",
       "      <td>1</td>\n",
       "      <td>0</td>\n",
       "    </tr>\n",
       "    <tr>\n",
       "      <th>2</th>\n",
       "      <td>0</td>\n",
       "      <td>42</td>\n",
       "      <td>113931.57</td>\n",
       "      <td>0</td>\n",
       "      <td>2</td>\n",
       "      <td>1</td>\n",
       "      <td>1</td>\n",
       "      <td>53.85</td>\n",
       "      <td>108.15</td>\n",
       "      <td>1</td>\n",
       "      <td>16452.6</td>\n",
       "      <td>188234.00</td>\n",
       "      <td>107.0</td>\n",
       "      <td>2489500</td>\n",
       "      <td>94.0</td>\n",
       "      <td>1</td>\n",
       "      <td>0</td>\n",
       "      <td>0</td>\n",
       "    </tr>\n",
       "    <tr>\n",
       "      <th>3</th>\n",
       "      <td>0</td>\n",
       "      <td>39</td>\n",
       "      <td>93826.63</td>\n",
       "      <td>0</td>\n",
       "      <td>45</td>\n",
       "      <td>0</td>\n",
       "      <td>0</td>\n",
       "      <td>42.30</td>\n",
       "      <td>1840.75</td>\n",
       "      <td>0</td>\n",
       "      <td>38334.0</td>\n",
       "      <td>77916.00</td>\n",
       "      <td>107.0</td>\n",
       "      <td>2006300</td>\n",
       "      <td>94.0</td>\n",
       "      <td>1</td>\n",
       "      <td>1</td>\n",
       "      <td>0</td>\n",
       "    </tr>\n",
       "    <tr>\n",
       "      <th>4</th>\n",
       "      <td>0</td>\n",
       "      <td>43</td>\n",
       "      <td>79084.10</td>\n",
       "      <td>0</td>\n",
       "      <td>2</td>\n",
       "      <td>1</td>\n",
       "      <td>1</td>\n",
       "      <td>70.70</td>\n",
       "      <td>151.65</td>\n",
       "      <td>1</td>\n",
       "      <td>38334.0</td>\n",
       "      <td>134401.60</td>\n",
       "      <td>107.0</td>\n",
       "      <td>1408600</td>\n",
       "      <td>94.0</td>\n",
       "      <td>0</td>\n",
       "      <td>0</td>\n",
       "      <td>0</td>\n",
       "    </tr>\n",
       "  </tbody>\n",
       "</table>\n",
       "</div>"
      ],
      "text/plain": [
       "   Business  Age     Salary  Dependancies  Months  Calls  Billing  Unit_Sales  \\\n",
       "0         0   42  101348.88             0       1      0        1       29.85   \n",
       "1         0   41  112542.58             0      34      1        0       56.95   \n",
       "2         0   42  113931.57             0       2      1        1       53.85   \n",
       "3         0   39   93826.63             0      45      0        0       42.30   \n",
       "4         0   43   79084.10             0       2      1        1       70.70   \n",
       "\n",
       "  Total_Sales  Rating    Bonus    BasePay  Unit_Price   Volume  \\\n",
       "0       29.85       0  38334.0  167411.18       107.0  2163600   \n",
       "1      1889.5       0  38334.0  155966.02       107.0  2386400   \n",
       "2      108.15       1  16452.6  188234.00       107.0  2489500   \n",
       "3     1840.75       0  38334.0   77916.00       107.0  2006300   \n",
       "4      151.65       1  38334.0  134401.60       107.0  1408600   \n",
       "\n",
       "   openingbalance  Male  One year  Two year  \n",
       "0            94.0     0         0         0  \n",
       "1            94.0     1         1         0  \n",
       "2            94.0     1         0         0  \n",
       "3            94.0     1         1         0  \n",
       "4            94.0     0         0         0  "
      ]
     },
     "execution_count": 82,
     "metadata": {},
     "output_type": "execute_result"
    }
   ],
   "source": [
    "df2.head()"
   ]
  },
  {
   "cell_type": "markdown",
   "metadata": {},
   "source": [
    "# Visualisation of Data"
   ]
  },
  {
   "cell_type": "code",
   "execution_count": null,
   "metadata": {},
   "outputs": [
    {
     "data": {
      "text/plain": [
       "<AxesSubplot:xlabel='Business', ylabel='count'>"
      ]
     },
     "execution_count": 83,
     "metadata": {},
     "output_type": "execute_result"
    },
    {
     "data": {
      "image/png": "[encoded data removed]",
      "text/plain": [
       "<Figure size 842.4x595.44 with 1 Axes>"
      ]
     },
     "metadata": {},
     "output_type": "display_data"
    }
   ],
   "source": [
    "sns.set({'figure.figsize':(11.7,8.27)})\n",
    "\n",
    "sns.countplot(x=\"Business\", hue=\"Male\", data=df2)\n",
    "\n",
    "# Inference : Most of the employees do not have their business and almost Equal number of male and female employee have business of their own"
   ]
  },
  {
   "cell_type": "code",
   "execution_count": null,
   "metadata": {},
   "outputs": [
    {
     "data": {
      "text/plain": [
       "<AxesSubplot:xlabel='Male', ylabel='Age'>"
      ]
     },
     "execution_count": 84,
     "metadata": {},
     "output_type": "execute_result"
    },
    {
     "data": {
      "image/png": "[encoded data removed]",
      "text/plain": [
       "<Figure size 842.4x595.44 with 1 Axes>"
      ]
     },
     "metadata": {},
     "output_type": "display_data"
    }
   ],
   "source": [
    "# Using a box plot will be plotting for Male and age (check the outliers).\n",
    "sns.boxplot(x=\"Male\", y=\"Age\", data= df2)\n",
    "# Inference : Most of the employees are between the age bracket of  32 to 45 years "
   ]
  },
  {
   "cell_type": "code",
   "execution_count": null,
   "metadata": {},
   "outputs": [
    {
     "data": {
      "text/plain": [
       "<AxesSubplot:ylabel='Frequency'>"
      ]
     },
     "execution_count": 85,
     "metadata": {},
     "output_type": "execute_result"
    },
    {
     "data": {
      "image/png": "[encoded data removed]",
      "text/plain": [
       "<Figure size 842.4x595.44 with 1 Axes>"
      ]
     },
     "metadata": {},
     "output_type": "display_data"
    }
   ],
   "source": [
    "#  Plot a graph for salary\n",
    "df2[\"Salary\"].plot.hist(bins=30)\n",
    "\n",
    "#Inference: The salary is between 0 to 200000"
   ]
  },
  {
   "cell_type": "code",
   "execution_count": null,
   "metadata": {},
   "outputs": [
    {
     "data": {
      "text/plain": [
       "<AxesSubplot:ylabel='Frequency'>"
      ]
     },
     "execution_count": 86,
     "metadata": {},
     "output_type": "execute_result"
    },
    {
     "data": {
      "image/png": "[encoded data removed]",
      "text/plain": [
       "<Figure size 842.4x595.44 with 1 Axes>"
      ]
     },
     "metadata": {},
     "output_type": "display_data"
    }
   ],
   "source": [
    "#  Plot a graph for bonus\n",
    "df2[\"Bonus\"].plot.hist(bins=30)\n",
    "\n",
    "#Inference: The bonus is between 0 to 370000"
   ]
  },
  {
   "cell_type": "code",
   "execution_count": null,
   "metadata": {},
   "outputs": [
    {
     "data": {
      "text/plain": [
       "3"
      ]
     },
     "execution_count": 87,
     "metadata": {},
     "output_type": "execute_result"
    },
    {
     "data": {
      "image/png": "[encoded data removed]",
      "text/plain": [
       "<Figure size 842.4x595.44 with 1 Axes>"
      ]
     },
     "metadata": {},
     "output_type": "display_data"
    }
   ],
   "source": [
    "#  Plot a graph for basepay\n",
    "df2[\"BasePay\"].plot.hist(bins=30)\n",
    "\n",
    "3#Inference: The basepay is between 60000 to 180000"
   ]
  },
  {
   "cell_type": "markdown",
   "metadata": {},
   "source": [
    "# Feature Scaling - Normalization"
   ]
  },
  {
   "cell_type": "code",
   "execution_count": null,
   "metadata": {},
   "outputs": [],
   "source": [
    "# Convert the datatype of Total_Sales to Float\n",
    "df2[\"Total_Sales\"] = pd.to_numeric(df2[\"Total_Sales\"], errors='coerce')"
   ]
  },
  {
   "cell_type": "code",
   "execution_count": null,
   "metadata": {},
   "outputs": [
    {
     "name": "stdout",
     "output_type": "stream",
     "text": [
      "<class 'pandas.core.frame.DataFrame'>\n",
      "RangeIndex: 5049 entries, 0 to 5048\n",
      "Data columns (total 18 columns):\n",
      " #   Column          Non-Null Count  Dtype  \n",
      "---  ------          --------------  -----  \n",
      " 0   Business        5049 non-null   int64  \n",
      " 1   Age             5049 non-null   int64  \n",
      " 2   Salary          5049 non-null   float64\n",
      " 3   Dependancies    5049 non-null   int64  \n",
      " 4   Months          5049 non-null   int64  \n",
      " 5   Calls           5049 non-null   int64  \n",
      " 6   Billing         5049 non-null   int64  \n",
      " 7   Unit_Sales      5049 non-null   float64\n",
      " 8   Total_Sales     5041 non-null   float64\n",
      " 9   Rating          5049 non-null   int64  \n",
      " 10  Bonus           5049 non-null   float64\n",
      " 11  BasePay         5049 non-null   float64\n",
      " 12  Unit_Price      5049 non-null   float64\n",
      " 13  Volume          5049 non-null   int64  \n",
      " 14  openingbalance  5049 non-null   float64\n",
      " 15  Male            5049 non-null   uint8  \n",
      " 16  One year        5049 non-null   uint8  \n",
      " 17  Two year        5049 non-null   uint8  \n",
      "dtypes: float64(7), int64(8), uint8(3)\n",
      "memory usage: 606.6 KB\n"
     ]
    }
   ],
   "source": [
    "df2.info()"
   ]
  },
  {
   "cell_type": "code",
   "execution_count": null,
   "metadata": {},
   "outputs": [
    {
     "data": {
      "text/plain": [
       "Business          0\n",
       "Age               0\n",
       "Salary            0\n",
       "Dependancies      0\n",
       "Months            0\n",
       "Calls             0\n",
       "Billing           0\n",
       "Unit_Sales        0\n",
       "Total_Sales       8\n",
       "Rating            0\n",
       "Bonus             0\n",
       "BasePay           0\n",
       "Unit_Price        0\n",
       "Volume            0\n",
       "openingbalance    0\n",
       "Male              0\n",
       "One year          0\n",
       "Two year          0\n",
       "dtype: int64"
      ]
     },
     "execution_count": 90,
     "metadata": {},
     "output_type": "execute_result"
    }
   ],
   "source": [
    "#Check for null values after the datatype conversion . \n",
    "df2.isnull().sum()"
   ]
  },
  {
   "cell_type": "code",
   "execution_count": null,
   "metadata": {},
   "outputs": [],
   "source": [
    "#Replace the null values in 'Total_sales' column with the mean value.\n",
    "df2[\"Total_Sales\"].fillna(df2[\"Total_Sales\"].mean(), inplace=True)"
   ]
  },
  {
   "cell_type": "code",
   "execution_count": null,
   "metadata": {},
   "outputs": [
    {
     "data": {
      "text/plain": [
       "Business          0\n",
       "Age               0\n",
       "Salary            0\n",
       "Dependancies      0\n",
       "Months            0\n",
       "Calls             0\n",
       "Billing           0\n",
       "Unit_Sales        0\n",
       "Total_Sales       0\n",
       "Rating            0\n",
       "Bonus             0\n",
       "BasePay           0\n",
       "Unit_Price        0\n",
       "Volume            0\n",
       "openingbalance    0\n",
       "Male              0\n",
       "One year          0\n",
       "Two year          0\n",
       "dtype: int64"
      ]
     },
     "execution_count": 92,
     "metadata": {},
     "output_type": "execute_result"
    }
   ],
   "source": [
    "# Check if null values are eliminated.\n",
    "df2.isnull().sum()"
   ]
  },
  {
   "cell_type": "code",
   "execution_count": null,
   "metadata": {},
   "outputs": [],
   "source": [
    "# Normalisation - Import Scaling library \n",
    "from sklearn.preprocessing import MinMaxScaler\n",
    "scale= MinMaxScaler()"
   ]
  },
  {
   "cell_type": "code",
   "execution_count": null,
   "metadata": {},
   "outputs": [],
   "source": [
    "#Normalise the dataset  - (range of all values between 0-1)\n",
    "\n",
    "#set the rounding for the dataset to 4 decimal places\n",
    "pd.options.display.float_format = \"{:,.4f}\".format\n",
    "\n",
    "dfs=scale.fit_transform(df2)\n",
    "df2= pd.DataFrame(dfs , columns= ['Business' , 'Age'  ,'Salary' ,'Dependancies','Months','Calls' ,'Billing' ,'Unit_Sales'  ,'Total_Sales' ,'Rating','Bonus','BasePay' ,'Unit_Price' ,'Volume' ,'openingbalance' ,'Male' , 'One year' ,'Two year' ])\n"
   ]
  },
  {
   "cell_type": "code",
   "execution_count": null,
   "metadata": {},
   "outputs": [
    {
     "name": "stdout",
     "output_type": "stream",
     "text": [
      "<class 'pandas.core.frame.DataFrame'>\n",
      "RangeIndex: 5049 entries, 0 to 5048\n",
      "Data columns (total 18 columns):\n",
      " #   Column          Non-Null Count  Dtype  \n",
      "---  ------          --------------  -----  \n",
      " 0   Business        5049 non-null   float64\n",
      " 1   Age             5049 non-null   float64\n",
      " 2   Salary          5049 non-null   float64\n",
      " 3   Dependancies    5049 non-null   float64\n",
      " 4   Months          5049 non-null   float64\n",
      " 5   Calls           5049 non-null   float64\n",
      " 6   Billing         5049 non-null   float64\n",
      " 7   Unit_Sales      5049 non-null   float64\n",
      " 8   Total_Sales     5049 non-null   float64\n",
      " 9   Rating          5049 non-null   float64\n",
      " 10  Bonus           5049 non-null   float64\n",
      " 11  BasePay         5049 non-null   float64\n",
      " 12  Unit_Price      5049 non-null   float64\n",
      " 13  Volume          5049 non-null   float64\n",
      " 14  openingbalance  5049 non-null   float64\n",
      " 15  Male            5049 non-null   float64\n",
      " 16  One year        5049 non-null   float64\n",
      " 17  Two year        5049 non-null   float64\n",
      "dtypes: float64(18)\n",
      "memory usage: 710.1 KB\n"
     ]
    }
   ],
   "source": [
    "df2.info()"
   ]
  },
  {
   "cell_type": "code",
   "execution_count": null,
   "metadata": {},
   "outputs": [
    {
     "data": {
      "text/html": [
       "<div>\n",
       "<style scoped>\n",
       "    .dataframe tbody tr th:only-of-type {\n",
       "        vertical-align: middle;\n",
       "    }\n",
       "\n",
       "    .dataframe tbody tr th {\n",
       "        vertical-align: top;\n",
       "    }\n",
       "\n",
       "    .dataframe thead th {\n",
       "        text-align: right;\n",
       "    }\n",
       "</style>\n",
       "<table border=\"1\" class=\"dataframe\">\n",
       "  <thead>\n",
       "    <tr style=\"text-align: right;\">\n",
       "      <th></th>\n",
       "      <th>Business</th>\n",
       "      <th>Age</th>\n",
       "      <th>Salary</th>\n",
       "      <th>Dependancies</th>\n",
       "      <th>Months</th>\n",
       "      <th>Calls</th>\n",
       "      <th>Billing</th>\n",
       "      <th>Unit_Sales</th>\n",
       "      <th>Total_Sales</th>\n",
       "      <th>Rating</th>\n",
       "      <th>Bonus</th>\n",
       "      <th>BasePay</th>\n",
       "      <th>Unit_Price</th>\n",
       "      <th>Volume</th>\n",
       "      <th>openingbalance</th>\n",
       "      <th>Male</th>\n",
       "      <th>One year</th>\n",
       "      <th>Two year</th>\n",
       "    </tr>\n",
       "  </thead>\n",
       "  <tbody>\n",
       "    <tr>\n",
       "      <th>0</th>\n",
       "      <td>0.0000</td>\n",
       "      <td>0.5455</td>\n",
       "      <td>0.5068</td>\n",
       "      <td>0.0000</td>\n",
       "      <td>0.0139</td>\n",
       "      <td>0.0000</td>\n",
       "      <td>1.0000</td>\n",
       "      <td>0.1154</td>\n",
       "      <td>0.0013</td>\n",
       "      <td>0.0000</td>\n",
       "      <td>1.0000</td>\n",
       "      <td>0.8419</td>\n",
       "      <td>1.0000</td>\n",
       "      <td>0.1592</td>\n",
       "      <td>1.0000</td>\n",
       "      <td>0.0000</td>\n",
       "      <td>0.0000</td>\n",
       "      <td>0.0000</td>\n",
       "    </tr>\n",
       "    <tr>\n",
       "      <th>1</th>\n",
       "      <td>0.0000</td>\n",
       "      <td>0.5227</td>\n",
       "      <td>0.5628</td>\n",
       "      <td>0.0000</td>\n",
       "      <td>0.4722</td>\n",
       "      <td>1.0000</td>\n",
       "      <td>0.0000</td>\n",
       "      <td>0.3851</td>\n",
       "      <td>0.2159</td>\n",
       "      <td>0.0000</td>\n",
       "      <td>1.0000</td>\n",
       "      <td>0.7550</td>\n",
       "      <td>1.0000</td>\n",
       "      <td>0.1756</td>\n",
       "      <td>1.0000</td>\n",
       "      <td>1.0000</td>\n",
       "      <td>1.0000</td>\n",
       "      <td>0.0000</td>\n",
       "    </tr>\n",
       "    <tr>\n",
       "      <th>2</th>\n",
       "      <td>0.0000</td>\n",
       "      <td>0.5455</td>\n",
       "      <td>0.5697</td>\n",
       "      <td>0.0000</td>\n",
       "      <td>0.0278</td>\n",
       "      <td>1.0000</td>\n",
       "      <td>1.0000</td>\n",
       "      <td>0.3542</td>\n",
       "      <td>0.0103</td>\n",
       "      <td>1.0000</td>\n",
       "      <td>0.4292</td>\n",
       "      <td>1.0000</td>\n",
       "      <td>1.0000</td>\n",
       "      <td>0.1832</td>\n",
       "      <td>1.0000</td>\n",
       "      <td>1.0000</td>\n",
       "      <td>0.0000</td>\n",
       "      <td>0.0000</td>\n",
       "    </tr>\n",
       "    <tr>\n",
       "      <th>3</th>\n",
       "      <td>0.0000</td>\n",
       "      <td>0.4773</td>\n",
       "      <td>0.4692</td>\n",
       "      <td>0.0000</td>\n",
       "      <td>0.6250</td>\n",
       "      <td>0.0000</td>\n",
       "      <td>0.0000</td>\n",
       "      <td>0.2393</td>\n",
       "      <td>0.2102</td>\n",
       "      <td>0.0000</td>\n",
       "      <td>1.0000</td>\n",
       "      <td>0.1622</td>\n",
       "      <td>1.0000</td>\n",
       "      <td>0.1476</td>\n",
       "      <td>1.0000</td>\n",
       "      <td>1.0000</td>\n",
       "      <td>1.0000</td>\n",
       "      <td>0.0000</td>\n",
       "    </tr>\n",
       "    <tr>\n",
       "      <th>4</th>\n",
       "      <td>0.0000</td>\n",
       "      <td>0.5682</td>\n",
       "      <td>0.3954</td>\n",
       "      <td>0.0000</td>\n",
       "      <td>0.0278</td>\n",
       "      <td>1.0000</td>\n",
       "      <td>1.0000</td>\n",
       "      <td>0.5219</td>\n",
       "      <td>0.0153</td>\n",
       "      <td>1.0000</td>\n",
       "      <td>1.0000</td>\n",
       "      <td>0.5912</td>\n",
       "      <td>1.0000</td>\n",
       "      <td>0.1036</td>\n",
       "      <td>1.0000</td>\n",
       "      <td>0.0000</td>\n",
       "      <td>0.0000</td>\n",
       "      <td>0.0000</td>\n",
       "    </tr>\n",
       "    <tr>\n",
       "      <th>...</th>\n",
       "      <td>...</td>\n",
       "      <td>...</td>\n",
       "      <td>...</td>\n",
       "      <td>...</td>\n",
       "      <td>...</td>\n",
       "      <td>...</td>\n",
       "      <td>...</td>\n",
       "      <td>...</td>\n",
       "      <td>...</td>\n",
       "      <td>...</td>\n",
       "      <td>...</td>\n",
       "      <td>...</td>\n",
       "      <td>...</td>\n",
       "      <td>...</td>\n",
       "      <td>...</td>\n",
       "      <td>...</td>\n",
       "      <td>...</td>\n",
       "      <td>...</td>\n",
       "    </tr>\n",
       "    <tr>\n",
       "      <th>5044</th>\n",
       "      <td>0.0000</td>\n",
       "      <td>0.2727</td>\n",
       "      <td>0.7033</td>\n",
       "      <td>0.0000</td>\n",
       "      <td>0.3056</td>\n",
       "      <td>1.0000</td>\n",
       "      <td>1.0000</td>\n",
       "      <td>0.8592</td>\n",
       "      <td>0.2495</td>\n",
       "      <td>0.0000</td>\n",
       "      <td>0.1245</td>\n",
       "      <td>0.3760</td>\n",
       "      <td>0.4146</td>\n",
       "      <td>0.0429</td>\n",
       "      <td>0.4475</td>\n",
       "      <td>1.0000</td>\n",
       "      <td>0.0000</td>\n",
       "      <td>0.0000</td>\n",
       "    </tr>\n",
       "    <tr>\n",
       "      <th>5045</th>\n",
       "      <td>0.0000</td>\n",
       "      <td>0.2500</td>\n",
       "      <td>0.0236</td>\n",
       "      <td>0.0000</td>\n",
       "      <td>0.4861</td>\n",
       "      <td>1.0000</td>\n",
       "      <td>0.0000</td>\n",
       "      <td>0.6149</td>\n",
       "      <td>0.3251</td>\n",
       "      <td>0.0000</td>\n",
       "      <td>0.4451</td>\n",
       "      <td>0.3810</td>\n",
       "      <td>0.3600</td>\n",
       "      <td>0.1131</td>\n",
       "      <td>0.3899</td>\n",
       "      <td>0.0000</td>\n",
       "      <td>0.0000</td>\n",
       "      <td>0.0000</td>\n",
       "    </tr>\n",
       "    <tr>\n",
       "      <th>5046</th>\n",
       "      <td>0.0000</td>\n",
       "      <td>0.1591</td>\n",
       "      <td>0.0529</td>\n",
       "      <td>0.0000</td>\n",
       "      <td>0.0139</td>\n",
       "      <td>1.0000</td>\n",
       "      <td>0.0000</td>\n",
       "      <td>0.2677</td>\n",
       "      <td>0.0030</td>\n",
       "      <td>0.0000</td>\n",
       "      <td>0.4685</td>\n",
       "      <td>0.3750</td>\n",
       "      <td>0.1123</td>\n",
       "      <td>0.7238</td>\n",
       "      <td>0.1010</td>\n",
       "      <td>0.0000</td>\n",
       "      <td>0.0000</td>\n",
       "      <td>0.0000</td>\n",
       "    </tr>\n",
       "    <tr>\n",
       "      <th>5047</th>\n",
       "      <td>0.0000</td>\n",
       "      <td>0.1818</td>\n",
       "      <td>0.8984</td>\n",
       "      <td>0.0000</td>\n",
       "      <td>0.5417</td>\n",
       "      <td>1.0000</td>\n",
       "      <td>1.0000</td>\n",
       "      <td>0.5463</td>\n",
       "      <td>0.3130</td>\n",
       "      <td>0.0000</td>\n",
       "      <td>0.1686</td>\n",
       "      <td>0.4623</td>\n",
       "      <td>0.3168</td>\n",
       "      <td>0.4397</td>\n",
       "      <td>0.3161</td>\n",
       "      <td>1.0000</td>\n",
       "      <td>0.0000</td>\n",
       "      <td>0.0000</td>\n",
       "    </tr>\n",
       "    <tr>\n",
       "      <th>5048</th>\n",
       "      <td>1.0000</td>\n",
       "      <td>0.5455</td>\n",
       "      <td>0.3875</td>\n",
       "      <td>0.0000</td>\n",
       "      <td>0.7500</td>\n",
       "      <td>1.0000</td>\n",
       "      <td>1.0000</td>\n",
       "      <td>0.8045</td>\n",
       "      <td>0.6252</td>\n",
       "      <td>0.0000</td>\n",
       "      <td>0.2785</td>\n",
       "      <td>0.3578</td>\n",
       "      <td>0.3168</td>\n",
       "      <td>0.4397</td>\n",
       "      <td>0.3161</td>\n",
       "      <td>0.0000</td>\n",
       "      <td>1.0000</td>\n",
       "      <td>0.0000</td>\n",
       "    </tr>\n",
       "  </tbody>\n",
       "</table>\n",
       "<p>5049 rows × 18 columns</p>\n",
       "</div>"
      ],
      "text/plain": [
       "      Business    Age  Salary  Dependancies  Months  Calls  Billing  \\\n",
       "0       0.0000 0.5455  0.5068        0.0000  0.0139 0.0000   1.0000   \n",
       "1       0.0000 0.5227  0.5628        0.0000  0.4722 1.0000   0.0000   \n",
       "2       0.0000 0.5455  0.5697        0.0000  0.0278 1.0000   1.0000   \n",
       "3       0.0000 0.4773  0.4692        0.0000  0.6250 0.0000   0.0000   \n",
       "4       0.0000 0.5682  0.3954        0.0000  0.0278 1.0000   1.0000   \n",
       "...        ...    ...     ...           ...     ...    ...      ...   \n",
       "5044    0.0000 0.2727  0.7033        0.0000  0.3056 1.0000   1.0000   \n",
       "5045    0.0000 0.2500  0.0236        0.0000  0.4861 1.0000   0.0000   \n",
       "5046    0.0000 0.1591  0.0529        0.0000  0.0139 1.0000   0.0000   \n",
       "5047    0.0000 0.1818  0.8984        0.0000  0.5417 1.0000   1.0000   \n",
       "5048    1.0000 0.5455  0.3875        0.0000  0.7500 1.0000   1.0000   \n",
       "\n",
       "      Unit_Sales  Total_Sales  Rating  Bonus  BasePay  Unit_Price  Volume  \\\n",
       "0         0.1154       0.0013  0.0000 1.0000   0.8419      1.0000  0.1592   \n",
       "1         0.3851       0.2159  0.0000 1.0000   0.7550      1.0000  0.1756   \n",
       "2         0.3542       0.0103  1.0000 0.4292   1.0000      1.0000  0.1832   \n",
       "3         0.2393       0.2102  0.0000 1.0000   0.1622      1.0000  0.1476   \n",
       "4         0.5219       0.0153  1.0000 1.0000   0.5912      1.0000  0.1036   \n",
       "...          ...          ...     ...    ...      ...         ...     ...   \n",
       "5044      0.8592       0.2495  0.0000 0.1245   0.3760      0.4146  0.0429   \n",
       "5045      0.6149       0.3251  0.0000 0.4451   0.3810      0.3600  0.1131   \n",
       "5046      0.2677       0.0030  0.0000 0.4685   0.3750      0.1123  0.7238   \n",
       "5047      0.5463       0.3130  0.0000 0.1686   0.4623      0.3168  0.4397   \n",
       "5048      0.8045       0.6252  0.0000 0.2785   0.3578      0.3168  0.4397   \n",
       "\n",
       "      openingbalance   Male  One year  Two year  \n",
       "0             1.0000 0.0000    0.0000    0.0000  \n",
       "1             1.0000 1.0000    1.0000    0.0000  \n",
       "2             1.0000 1.0000    0.0000    0.0000  \n",
       "3             1.0000 1.0000    1.0000    0.0000  \n",
       "4             1.0000 0.0000    0.0000    0.0000  \n",
       "...              ...    ...       ...       ...  \n",
       "5044          0.4475 1.0000    0.0000    0.0000  \n",
       "5045          0.3899 0.0000    0.0000    0.0000  \n",
       "5046          0.1010 0.0000    0.0000    0.0000  \n",
       "5047          0.3161 1.0000    0.0000    0.0000  \n",
       "5048          0.3161 0.0000    1.0000    0.0000  \n",
       "\n",
       "[5049 rows x 18 columns]"
      ]
     },
     "execution_count": 96,
     "metadata": {},
     "output_type": "execute_result"
    }
   ],
   "source": [
    "df2"
   ]
  },
  {
   "cell_type": "markdown",
   "metadata": {},
   "source": [
    "# Choosing the ML model "
   ]
  },
  {
   "cell_type": "code",
   "execution_count": null,
   "metadata": {},
   "outputs": [],
   "source": [
    "#import sys\n",
    "#!{sys.executable} --version"
   ]
  },
  {
   "cell_type": "code",
   "execution_count": null,
   "metadata": {},
   "outputs": [],
   "source": [
    "#!{sys.executable} -m pip install lazypredict --user\n"
   ]
  },
  {
   "cell_type": "code",
   "execution_count": null,
   "metadata": {},
   "outputs": [],
   "source": [
    "# import necessary modules\n",
    "import warnings\n",
    "warnings.filterwarnings('ignore')\n",
    "import time \n",
    "from sklearn.model_selection import train_test_split\n",
    "from lazypredict.Supervised import LazyRegressor\n",
    "\n",
    "#warnings: Package to handle warnings and ‘ignore’ is used when we need to filter out all the warnings\n",
    "#time: Package to handle time manipulation\n",
    "#sklearn.model_selection.train_test_split:Used to split the dataset into train and split\n",
    "#lazypredict:this is the package we gonna use for our analysis. In lazypredict.Supervised there are two main functions LazyClassifier for Classification and LazyRegressor for Regression ."
   ]
  },
  {
   "cell_type": "code",
   "execution_count": null,
   "metadata": {},
   "outputs": [],
   "source": [
    "# load the  dataset\n",
    "#set the rounding for the dataset to 4 decimal places\n",
    "pd.options.display.float_format = \"{:,.4f}\".format\n",
    "\n",
    "X1= df2.drop(\"Salary\", axis=1)\n",
    "Y1= df2[\"Salary\"]"
   ]
  },
  {
   "cell_type": "code",
   "execution_count": null,
   "metadata": {},
   "outputs": [
    {
     "data": {
      "text/html": [
       "<div>\n",
       "<style scoped>\n",
       "    .dataframe tbody tr th:only-of-type {\n",
       "        vertical-align: middle;\n",
       "    }\n",
       "\n",
       "    .dataframe tbody tr th {\n",
       "        vertical-align: top;\n",
       "    }\n",
       "\n",
       "    .dataframe thead th {\n",
       "        text-align: right;\n",
       "    }\n",
       "</style>\n",
       "<table border=\"1\" class=\"dataframe\">\n",
       "  <thead>\n",
       "    <tr style=\"text-align: right;\">\n",
       "      <th></th>\n",
       "      <th>Business</th>\n",
       "      <th>Age</th>\n",
       "      <th>Dependancies</th>\n",
       "      <th>Months</th>\n",
       "      <th>Calls</th>\n",
       "      <th>Billing</th>\n",
       "      <th>Unit_Sales</th>\n",
       "      <th>Total_Sales</th>\n",
       "      <th>Rating</th>\n",
       "      <th>Bonus</th>\n",
       "      <th>BasePay</th>\n",
       "      <th>Unit_Price</th>\n",
       "      <th>Volume</th>\n",
       "      <th>openingbalance</th>\n",
       "      <th>Male</th>\n",
       "      <th>One year</th>\n",
       "      <th>Two year</th>\n",
       "    </tr>\n",
       "  </thead>\n",
       "  <tbody>\n",
       "    <tr>\n",
       "      <th>0</th>\n",
       "      <td>0.0000</td>\n",
       "      <td>0.5455</td>\n",
       "      <td>0.0000</td>\n",
       "      <td>0.0139</td>\n",
       "      <td>0.0000</td>\n",
       "      <td>1.0000</td>\n",
       "      <td>0.1154</td>\n",
       "      <td>0.0013</td>\n",
       "      <td>0.0000</td>\n",
       "      <td>1.0000</td>\n",
       "      <td>0.8419</td>\n",
       "      <td>1.0000</td>\n",
       "      <td>0.1592</td>\n",
       "      <td>1.0000</td>\n",
       "      <td>0.0000</td>\n",
       "      <td>0.0000</td>\n",
       "      <td>0.0000</td>\n",
       "    </tr>\n",
       "    <tr>\n",
       "      <th>1</th>\n",
       "      <td>0.0000</td>\n",
       "      <td>0.5227</td>\n",
       "      <td>0.0000</td>\n",
       "      <td>0.4722</td>\n",
       "      <td>1.0000</td>\n",
       "      <td>0.0000</td>\n",
       "      <td>0.3851</td>\n",
       "      <td>0.2159</td>\n",
       "      <td>0.0000</td>\n",
       "      <td>1.0000</td>\n",
       "      <td>0.7550</td>\n",
       "      <td>1.0000</td>\n",
       "      <td>0.1756</td>\n",
       "      <td>1.0000</td>\n",
       "      <td>1.0000</td>\n",
       "      <td>1.0000</td>\n",
       "      <td>0.0000</td>\n",
       "    </tr>\n",
       "    <tr>\n",
       "      <th>2</th>\n",
       "      <td>0.0000</td>\n",
       "      <td>0.5455</td>\n",
       "      <td>0.0000</td>\n",
       "      <td>0.0278</td>\n",
       "      <td>1.0000</td>\n",
       "      <td>1.0000</td>\n",
       "      <td>0.3542</td>\n",
       "      <td>0.0103</td>\n",
       "      <td>1.0000</td>\n",
       "      <td>0.4292</td>\n",
       "      <td>1.0000</td>\n",
       "      <td>1.0000</td>\n",
       "      <td>0.1832</td>\n",
       "      <td>1.0000</td>\n",
       "      <td>1.0000</td>\n",
       "      <td>0.0000</td>\n",
       "      <td>0.0000</td>\n",
       "    </tr>\n",
       "    <tr>\n",
       "      <th>3</th>\n",
       "      <td>0.0000</td>\n",
       "      <td>0.4773</td>\n",
       "      <td>0.0000</td>\n",
       "      <td>0.6250</td>\n",
       "      <td>0.0000</td>\n",
       "      <td>0.0000</td>\n",
       "      <td>0.2393</td>\n",
       "      <td>0.2102</td>\n",
       "      <td>0.0000</td>\n",
       "      <td>1.0000</td>\n",
       "      <td>0.1622</td>\n",
       "      <td>1.0000</td>\n",
       "      <td>0.1476</td>\n",
       "      <td>1.0000</td>\n",
       "      <td>1.0000</td>\n",
       "      <td>1.0000</td>\n",
       "      <td>0.0000</td>\n",
       "    </tr>\n",
       "    <tr>\n",
       "      <th>4</th>\n",
       "      <td>0.0000</td>\n",
       "      <td>0.5682</td>\n",
       "      <td>0.0000</td>\n",
       "      <td>0.0278</td>\n",
       "      <td>1.0000</td>\n",
       "      <td>1.0000</td>\n",
       "      <td>0.5219</td>\n",
       "      <td>0.0153</td>\n",
       "      <td>1.0000</td>\n",
       "      <td>1.0000</td>\n",
       "      <td>0.5912</td>\n",
       "      <td>1.0000</td>\n",
       "      <td>0.1036</td>\n",
       "      <td>1.0000</td>\n",
       "      <td>0.0000</td>\n",
       "      <td>0.0000</td>\n",
       "      <td>0.0000</td>\n",
       "    </tr>\n",
       "    <tr>\n",
       "      <th>...</th>\n",
       "      <td>...</td>\n",
       "      <td>...</td>\n",
       "      <td>...</td>\n",
       "      <td>...</td>\n",
       "      <td>...</td>\n",
       "      <td>...</td>\n",
       "      <td>...</td>\n",
       "      <td>...</td>\n",
       "      <td>...</td>\n",
       "      <td>...</td>\n",
       "      <td>...</td>\n",
       "      <td>...</td>\n",
       "      <td>...</td>\n",
       "      <td>...</td>\n",
       "      <td>...</td>\n",
       "      <td>...</td>\n",
       "      <td>...</td>\n",
       "    </tr>\n",
       "    <tr>\n",
       "      <th>5044</th>\n",
       "      <td>0.0000</td>\n",
       "      <td>0.2727</td>\n",
       "      <td>0.0000</td>\n",
       "      <td>0.3056</td>\n",
       "      <td>1.0000</td>\n",
       "      <td>1.0000</td>\n",
       "      <td>0.8592</td>\n",
       "      <td>0.2495</td>\n",
       "      <td>0.0000</td>\n",
       "      <td>0.1245</td>\n",
       "      <td>0.3760</td>\n",
       "      <td>0.4146</td>\n",
       "      <td>0.0429</td>\n",
       "      <td>0.4475</td>\n",
       "      <td>1.0000</td>\n",
       "      <td>0.0000</td>\n",
       "      <td>0.0000</td>\n",
       "    </tr>\n",
       "    <tr>\n",
       "      <th>5045</th>\n",
       "      <td>0.0000</td>\n",
       "      <td>0.2500</td>\n",
       "      <td>0.0000</td>\n",
       "      <td>0.4861</td>\n",
       "      <td>1.0000</td>\n",
       "      <td>0.0000</td>\n",
       "      <td>0.6149</td>\n",
       "      <td>0.3251</td>\n",
       "      <td>0.0000</td>\n",
       "      <td>0.4451</td>\n",
       "      <td>0.3810</td>\n",
       "      <td>0.3600</td>\n",
       "      <td>0.1131</td>\n",
       "      <td>0.3899</td>\n",
       "      <td>0.0000</td>\n",
       "      <td>0.0000</td>\n",
       "      <td>0.0000</td>\n",
       "    </tr>\n",
       "    <tr>\n",
       "      <th>5046</th>\n",
       "      <td>0.0000</td>\n",
       "      <td>0.1591</td>\n",
       "      <td>0.0000</td>\n",
       "      <td>0.0139</td>\n",
       "      <td>1.0000</td>\n",
       "      <td>0.0000</td>\n",
       "      <td>0.2677</td>\n",
       "      <td>0.0030</td>\n",
       "      <td>0.0000</td>\n",
       "      <td>0.4685</td>\n",
       "      <td>0.3750</td>\n",
       "      <td>0.1123</td>\n",
       "      <td>0.7238</td>\n",
       "      <td>0.1010</td>\n",
       "      <td>0.0000</td>\n",
       "      <td>0.0000</td>\n",
       "      <td>0.0000</td>\n",
       "    </tr>\n",
       "    <tr>\n",
       "      <th>5047</th>\n",
       "      <td>0.0000</td>\n",
       "      <td>0.1818</td>\n",
       "      <td>0.0000</td>\n",
       "      <td>0.5417</td>\n",
       "      <td>1.0000</td>\n",
       "      <td>1.0000</td>\n",
       "      <td>0.5463</td>\n",
       "      <td>0.3130</td>\n",
       "      <td>0.0000</td>\n",
       "      <td>0.1686</td>\n",
       "      <td>0.4623</td>\n",
       "      <td>0.3168</td>\n",
       "      <td>0.4397</td>\n",
       "      <td>0.3161</td>\n",
       "      <td>1.0000</td>\n",
       "      <td>0.0000</td>\n",
       "      <td>0.0000</td>\n",
       "    </tr>\n",
       "    <tr>\n",
       "      <th>5048</th>\n",
       "      <td>1.0000</td>\n",
       "      <td>0.5455</td>\n",
       "      <td>0.0000</td>\n",
       "      <td>0.7500</td>\n",
       "      <td>1.0000</td>\n",
       "      <td>1.0000</td>\n",
       "      <td>0.8045</td>\n",
       "      <td>0.6252</td>\n",
       "      <td>0.0000</td>\n",
       "      <td>0.2785</td>\n",
       "      <td>0.3578</td>\n",
       "      <td>0.3168</td>\n",
       "      <td>0.4397</td>\n",
       "      <td>0.3161</td>\n",
       "      <td>0.0000</td>\n",
       "      <td>1.0000</td>\n",
       "      <td>0.0000</td>\n",
       "    </tr>\n",
       "  </tbody>\n",
       "</table>\n",
       "<p>5049 rows × 17 columns</p>\n",
       "</div>"
      ],
      "text/plain": [
       "      Business    Age  Dependancies  Months  Calls  Billing  Unit_Sales  \\\n",
       "0       0.0000 0.5455        0.0000  0.0139 0.0000   1.0000      0.1154   \n",
       "1       0.0000 0.5227        0.0000  0.4722 1.0000   0.0000      0.3851   \n",
       "2       0.0000 0.5455        0.0000  0.0278 1.0000   1.0000      0.3542   \n",
       "3       0.0000 0.4773        0.0000  0.6250 0.0000   0.0000      0.2393   \n",
       "4       0.0000 0.5682        0.0000  0.0278 1.0000   1.0000      0.5219   \n",
       "...        ...    ...           ...     ...    ...      ...         ...   \n",
       "5044    0.0000 0.2727        0.0000  0.3056 1.0000   1.0000      0.8592   \n",
       "5045    0.0000 0.2500        0.0000  0.4861 1.0000   0.0000      0.6149   \n",
       "5046    0.0000 0.1591        0.0000  0.0139 1.0000   0.0000      0.2677   \n",
       "5047    0.0000 0.1818        0.0000  0.5417 1.0000   1.0000      0.5463   \n",
       "5048    1.0000 0.5455        0.0000  0.7500 1.0000   1.0000      0.8045   \n",
       "\n",
       "      Total_Sales  Rating  Bonus  BasePay  Unit_Price  Volume  openingbalance  \\\n",
       "0          0.0013  0.0000 1.0000   0.8419      1.0000  0.1592          1.0000   \n",
       "1          0.2159  0.0000 1.0000   0.7550      1.0000  0.1756          1.0000   \n",
       "2          0.0103  1.0000 0.4292   1.0000      1.0000  0.1832          1.0000   \n",
       "3          0.2102  0.0000 1.0000   0.1622      1.0000  0.1476          1.0000   \n",
       "4          0.0153  1.0000 1.0000   0.5912      1.0000  0.1036          1.0000   \n",
       "...           ...     ...    ...      ...         ...     ...             ...   \n",
       "5044       0.2495  0.0000 0.1245   0.3760      0.4146  0.0429          0.4475   \n",
       "5045       0.3251  0.0000 0.4451   0.3810      0.3600  0.1131          0.3899   \n",
       "5046       0.0030  0.0000 0.4685   0.3750      0.1123  0.7238          0.1010   \n",
       "5047       0.3130  0.0000 0.1686   0.4623      0.3168  0.4397          0.3161   \n",
       "5048       0.6252  0.0000 0.2785   0.3578      0.3168  0.4397          0.3161   \n",
       "\n",
       "       Male  One year  Two year  \n",
       "0    0.0000    0.0000    0.0000  \n",
       "1    1.0000    1.0000    0.0000  \n",
       "2    1.0000    0.0000    0.0000  \n",
       "3    1.0000    1.0000    0.0000  \n",
       "4    0.0000    0.0000    0.0000  \n",
       "...     ...       ...       ...  \n",
       "5044 1.0000    0.0000    0.0000  \n",
       "5045 0.0000    0.0000    0.0000  \n",
       "5046 0.0000    0.0000    0.0000  \n",
       "5047 1.0000    0.0000    0.0000  \n",
       "5048 0.0000    1.0000    0.0000  \n",
       "\n",
       "[5049 rows x 17 columns]"
      ]
     },
     "execution_count": 101,
     "metadata": {},
     "output_type": "execute_result"
    }
   ],
   "source": [
    "X1"
   ]
  },
  {
   "cell_type": "code",
   "execution_count": null,
   "metadata": {},
   "outputs": [
    {
     "data": {
      "text/plain": [
       "0      0.5068\n",
       "1      0.5628\n",
       "2      0.5697\n",
       "3      0.4692\n",
       "4      0.3954\n",
       "        ...  \n",
       "5044   0.7033\n",
       "5045   0.0236\n",
       "5046   0.0529\n",
       "5047   0.8984\n",
       "5048   0.3875\n",
       "Name: Salary, Length: 5049, dtype: float64"
      ]
     },
     "execution_count": 102,
     "metadata": {},
     "output_type": "execute_result"
    }
   ],
   "source": [
    "Y1"
   ]
  },
  {
   "cell_type": "code",
   "execution_count": null,
   "metadata": {},
   "outputs": [],
   "source": [
    "# split the dataset \n",
    "X_train1, X_test1, Y_train1, Y_test1 =train_test_split(X1,Y1,test_size=0.2,random_state = 0)\n",
    "regr=LazyRegressor(verbose=0,predictions=True)\n",
    "#regr= LazyRegressor(verbose=0,ignore_warnings=True,custom_metric=None, predictions=True)"
   ]
  },
  {
   "cell_type": "code",
   "execution_count": null,
   "metadata": {},
   "outputs": [
    {
     "name": "stderr",
     "output_type": "stream",
     "text": [
      "100%|██████████| 42/42 [00:25<00:00,  1.64it/s]\n"
     ]
    }
   ],
   "source": [
    "# fit and train the model \n",
    "start_time_2=time.time()\n",
    "models_r,predictions_r=regr.fit(X_train1, X_test1, Y_train1, Y_test1)\n",
    "end_time_2=time.time()"
   ]
  },
  {
   "cell_type": "code",
   "execution_count": null,
   "metadata": {},
   "outputs": [
    {
     "data": {
      "text/html": [
       "<div>\n",
       "<style scoped>\n",
       "    .dataframe tbody tr th:only-of-type {\n",
       "        vertical-align: middle;\n",
       "    }\n",
       "\n",
       "    .dataframe tbody tr th {\n",
       "        vertical-align: top;\n",
       "    }\n",
       "\n",
       "    .dataframe thead th {\n",
       "        text-align: right;\n",
       "    }\n",
       "</style>\n",
       "<table border=\"1\" class=\"dataframe\">\n",
       "  <thead>\n",
       "    <tr style=\"text-align: right;\">\n",
       "      <th></th>\n",
       "      <th>Adjusted R-Squared</th>\n",
       "      <th>R-Squared</th>\n",
       "      <th>RMSE</th>\n",
       "      <th>Time Taken</th>\n",
       "    </tr>\n",
       "    <tr>\n",
       "      <th>Model</th>\n",
       "      <th></th>\n",
       "      <th></th>\n",
       "      <th></th>\n",
       "      <th></th>\n",
       "    </tr>\n",
       "  </thead>\n",
       "  <tbody>\n",
       "    <tr>\n",
       "      <th>AdaBoostRegressor</th>\n",
       "      <td>-0.0138</td>\n",
       "      <td>0.0032</td>\n",
       "      <td>0.2855</td>\n",
       "      <td>0.2269</td>\n",
       "    </tr>\n",
       "    <tr>\n",
       "      <th>LassoLarsCV</th>\n",
       "      <td>-0.0179</td>\n",
       "      <td>-0.0007</td>\n",
       "      <td>0.2861</td>\n",
       "      <td>0.0740</td>\n",
       "    </tr>\n",
       "    <tr>\n",
       "      <th>LarsCV</th>\n",
       "      <td>-0.0179</td>\n",
       "      <td>-0.0007</td>\n",
       "      <td>0.2861</td>\n",
       "      <td>0.0710</td>\n",
       "    </tr>\n",
       "    <tr>\n",
       "      <th>ElasticNetCV</th>\n",
       "      <td>-0.0180</td>\n",
       "      <td>-0.0009</td>\n",
       "      <td>0.2861</td>\n",
       "      <td>0.1319</td>\n",
       "    </tr>\n",
       "    <tr>\n",
       "      <th>LassoCV</th>\n",
       "      <td>-0.0180</td>\n",
       "      <td>-0.0009</td>\n",
       "      <td>0.2861</td>\n",
       "      <td>0.1419</td>\n",
       "    </tr>\n",
       "    <tr>\n",
       "      <th>Lars</th>\n",
       "      <td>-0.0181</td>\n",
       "      <td>-0.0009</td>\n",
       "      <td>0.2861</td>\n",
       "      <td>0.0320</td>\n",
       "    </tr>\n",
       "    <tr>\n",
       "      <th>PoissonRegressor</th>\n",
       "      <td>-0.0181</td>\n",
       "      <td>-0.0010</td>\n",
       "      <td>0.2861</td>\n",
       "      <td>0.0189</td>\n",
       "    </tr>\n",
       "    <tr>\n",
       "      <th>BayesianRidge</th>\n",
       "      <td>-0.0183</td>\n",
       "      <td>-0.0011</td>\n",
       "      <td>0.2861</td>\n",
       "      <td>0.0280</td>\n",
       "    </tr>\n",
       "    <tr>\n",
       "      <th>TweedieRegressor</th>\n",
       "      <td>-0.0184</td>\n",
       "      <td>-0.0013</td>\n",
       "      <td>0.2862</td>\n",
       "      <td>0.0193</td>\n",
       "    </tr>\n",
       "    <tr>\n",
       "      <th>GeneralizedLinearRegressor</th>\n",
       "      <td>-0.0184</td>\n",
       "      <td>-0.0013</td>\n",
       "      <td>0.2862</td>\n",
       "      <td>0.0287</td>\n",
       "    </tr>\n",
       "    <tr>\n",
       "      <th>Lasso</th>\n",
       "      <td>-0.0185</td>\n",
       "      <td>-0.0013</td>\n",
       "      <td>0.2862</td>\n",
       "      <td>0.0230</td>\n",
       "    </tr>\n",
       "    <tr>\n",
       "      <th>LassoLars</th>\n",
       "      <td>-0.0185</td>\n",
       "      <td>-0.0013</td>\n",
       "      <td>0.2862</td>\n",
       "      <td>0.0300</td>\n",
       "    </tr>\n",
       "    <tr>\n",
       "      <th>DummyRegressor</th>\n",
       "      <td>-0.0185</td>\n",
       "      <td>-0.0013</td>\n",
       "      <td>0.2862</td>\n",
       "      <td>0.0190</td>\n",
       "    </tr>\n",
       "    <tr>\n",
       "      <th>ElasticNet</th>\n",
       "      <td>-0.0185</td>\n",
       "      <td>-0.0013</td>\n",
       "      <td>0.2862</td>\n",
       "      <td>0.0170</td>\n",
       "    </tr>\n",
       "    <tr>\n",
       "      <th>TransformedTargetRegressor</th>\n",
       "      <td>-0.0189</td>\n",
       "      <td>-0.0017</td>\n",
       "      <td>0.2862</td>\n",
       "      <td>0.0242</td>\n",
       "    </tr>\n",
       "    <tr>\n",
       "      <th>LinearRegression</th>\n",
       "      <td>-0.0189</td>\n",
       "      <td>-0.0017</td>\n",
       "      <td>0.2862</td>\n",
       "      <td>0.0190</td>\n",
       "    </tr>\n",
       "    <tr>\n",
       "      <th>Ridge</th>\n",
       "      <td>-0.0189</td>\n",
       "      <td>-0.0017</td>\n",
       "      <td>0.2862</td>\n",
       "      <td>0.0250</td>\n",
       "    </tr>\n",
       "    <tr>\n",
       "      <th>RidgeCV</th>\n",
       "      <td>-0.0189</td>\n",
       "      <td>-0.0018</td>\n",
       "      <td>0.2862</td>\n",
       "      <td>0.0240</td>\n",
       "    </tr>\n",
       "    <tr>\n",
       "      <th>LassoLarsIC</th>\n",
       "      <td>-0.0190</td>\n",
       "      <td>-0.0018</td>\n",
       "      <td>0.2862</td>\n",
       "      <td>0.0370</td>\n",
       "    </tr>\n",
       "    <tr>\n",
       "      <th>OrthogonalMatchingPursuit</th>\n",
       "      <td>-0.0195</td>\n",
       "      <td>-0.0023</td>\n",
       "      <td>0.2863</td>\n",
       "      <td>0.0250</td>\n",
       "    </tr>\n",
       "    <tr>\n",
       "      <th>OrthogonalMatchingPursuitCV</th>\n",
       "      <td>-0.0196</td>\n",
       "      <td>-0.0024</td>\n",
       "      <td>0.2863</td>\n",
       "      <td>0.0399</td>\n",
       "    </tr>\n",
       "    <tr>\n",
       "      <th>GradientBoostingRegressor</th>\n",
       "      <td>-0.0220</td>\n",
       "      <td>-0.0048</td>\n",
       "      <td>0.2867</td>\n",
       "      <td>1.1333</td>\n",
       "    </tr>\n",
       "    <tr>\n",
       "      <th>HuberRegressor</th>\n",
       "      <td>-0.0228</td>\n",
       "      <td>-0.0056</td>\n",
       "      <td>0.2868</td>\n",
       "      <td>0.0780</td>\n",
       "    </tr>\n",
       "    <tr>\n",
       "      <th>SGDRegressor</th>\n",
       "      <td>-0.0287</td>\n",
       "      <td>-0.0114</td>\n",
       "      <td>0.2876</td>\n",
       "      <td>0.0190</td>\n",
       "    </tr>\n",
       "    <tr>\n",
       "      <th>LinearSVR</th>\n",
       "      <td>-0.0350</td>\n",
       "      <td>-0.0176</td>\n",
       "      <td>0.2885</td>\n",
       "      <td>0.1639</td>\n",
       "    </tr>\n",
       "    <tr>\n",
       "      <th>RandomForestRegressor</th>\n",
       "      <td>-0.0506</td>\n",
       "      <td>-0.0329</td>\n",
       "      <td>0.2907</td>\n",
       "      <td>3.7189</td>\n",
       "    </tr>\n",
       "    <tr>\n",
       "      <th>LGBMRegressor</th>\n",
       "      <td>-0.0759</td>\n",
       "      <td>-0.0577</td>\n",
       "      <td>0.2941</td>\n",
       "      <td>0.3538</td>\n",
       "    </tr>\n",
       "    <tr>\n",
       "      <th>HistGradientBoostingRegressor</th>\n",
       "      <td>-0.0789</td>\n",
       "      <td>-0.0607</td>\n",
       "      <td>0.2945</td>\n",
       "      <td>1.6980</td>\n",
       "    </tr>\n",
       "    <tr>\n",
       "      <th>ExtraTreesRegressor</th>\n",
       "      <td>-0.0811</td>\n",
       "      <td>-0.0628</td>\n",
       "      <td>0.2948</td>\n",
       "      <td>1.9889</td>\n",
       "    </tr>\n",
       "    <tr>\n",
       "      <th>NuSVR</th>\n",
       "      <td>-0.1249</td>\n",
       "      <td>-0.1060</td>\n",
       "      <td>0.3008</td>\n",
       "      <td>1.2443</td>\n",
       "    </tr>\n",
       "    <tr>\n",
       "      <th>BaggingRegressor</th>\n",
       "      <td>-0.1296</td>\n",
       "      <td>-0.1105</td>\n",
       "      <td>0.3014</td>\n",
       "      <td>0.4278</td>\n",
       "    </tr>\n",
       "    <tr>\n",
       "      <th>SVR</th>\n",
       "      <td>-0.1688</td>\n",
       "      <td>-0.1491</td>\n",
       "      <td>0.3066</td>\n",
       "      <td>1.2183</td>\n",
       "    </tr>\n",
       "    <tr>\n",
       "      <th>MLPRegressor</th>\n",
       "      <td>-0.1997</td>\n",
       "      <td>-0.1795</td>\n",
       "      <td>0.3106</td>\n",
       "      <td>6.1061</td>\n",
       "    </tr>\n",
       "    <tr>\n",
       "      <th>XGBRegressor</th>\n",
       "      <td>-0.2049</td>\n",
       "      <td>-0.1846</td>\n",
       "      <td>0.3113</td>\n",
       "      <td>0.6372</td>\n",
       "    </tr>\n",
       "    <tr>\n",
       "      <th>KNeighborsRegressor</th>\n",
       "      <td>-0.2462</td>\n",
       "      <td>-0.2252</td>\n",
       "      <td>0.3166</td>\n",
       "      <td>0.2249</td>\n",
       "    </tr>\n",
       "    <tr>\n",
       "      <th>PassiveAggressiveRegressor</th>\n",
       "      <td>-0.8534</td>\n",
       "      <td>-0.8222</td>\n",
       "      <td>0.3861</td>\n",
       "      <td>0.0190</td>\n",
       "    </tr>\n",
       "    <tr>\n",
       "      <th>GaussianProcessRegressor</th>\n",
       "      <td>-1.0329</td>\n",
       "      <td>-0.9987</td>\n",
       "      <td>0.4043</td>\n",
       "      <td>3.5335</td>\n",
       "    </tr>\n",
       "    <tr>\n",
       "      <th>ExtraTreeRegressor</th>\n",
       "      <td>-1.0635</td>\n",
       "      <td>-1.0288</td>\n",
       "      <td>0.4073</td>\n",
       "      <td>0.0450</td>\n",
       "    </tr>\n",
       "    <tr>\n",
       "      <th>DecisionTreeRegressor</th>\n",
       "      <td>-1.1043</td>\n",
       "      <td>-1.0689</td>\n",
       "      <td>0.4113</td>\n",
       "      <td>0.0720</td>\n",
       "    </tr>\n",
       "    <tr>\n",
       "      <th>RANSACRegressor</th>\n",
       "      <td>-1.3962</td>\n",
       "      <td>-1.3558</td>\n",
       "      <td>0.4390</td>\n",
       "      <td>0.1295</td>\n",
       "    </tr>\n",
       "    <tr>\n",
       "      <th>KernelRidge</th>\n",
       "      <td>-3.0573</td>\n",
       "      <td>-2.9889</td>\n",
       "      <td>0.5712</td>\n",
       "      <td>1.6331</td>\n",
       "    </tr>\n",
       "  </tbody>\n",
       "</table>\n",
       "</div>"
      ],
      "text/plain": [
       "                               Adjusted R-Squared  R-Squared   RMSE  \\\n",
       "Model                                                                 \n",
       "AdaBoostRegressor                         -0.0138     0.0032 0.2855   \n",
       "LassoLarsCV                               -0.0179    -0.0007 0.2861   \n",
       "LarsCV                                    -0.0179    -0.0007 0.2861   \n",
       "ElasticNetCV                              -0.0180    -0.0009 0.2861   \n",
       "LassoCV                                   -0.0180    -0.0009 0.2861   \n",
       "Lars                                      -0.0181    -0.0009 0.2861   \n",
       "PoissonRegressor                          -0.0181    -0.0010 0.2861   \n",
       "BayesianRidge                             -0.0183    -0.0011 0.2861   \n",
       "TweedieRegressor                          -0.0184    -0.0013 0.2862   \n",
       "GeneralizedLinearRegressor                -0.0184    -0.0013 0.2862   \n",
       "Lasso                                     -0.0185    -0.0013 0.2862   \n",
       "LassoLars                                 -0.0185    -0.0013 0.2862   \n",
       "DummyRegressor                            -0.0185    -0.0013 0.2862   \n",
       "ElasticNet                                -0.0185    -0.0013 0.2862   \n",
       "TransformedTargetRegressor                -0.0189    -0.0017 0.2862   \n",
       "LinearRegression                          -0.0189    -0.0017 0.2862   \n",
       "Ridge                                     -0.0189    -0.0017 0.2862   \n",
       "RidgeCV                                   -0.0189    -0.0018 0.2862   \n",
       "LassoLarsIC                               -0.0190    -0.0018 0.2862   \n",
       "OrthogonalMatchingPursuit                 -0.0195    -0.0023 0.2863   \n",
       "OrthogonalMatchingPursuitCV               -0.0196    -0.0024 0.2863   \n",
       "GradientBoostingRegressor                 -0.0220    -0.0048 0.2867   \n",
       "HuberRegressor                            -0.0228    -0.0056 0.2868   \n",
       "SGDRegressor                              -0.0287    -0.0114 0.2876   \n",
       "LinearSVR                                 -0.0350    -0.0176 0.2885   \n",
       "RandomForestRegressor                     -0.0506    -0.0329 0.2907   \n",
       "LGBMRegressor                             -0.0759    -0.0577 0.2941   \n",
       "HistGradientBoostingRegressor             -0.0789    -0.0607 0.2945   \n",
       "ExtraTreesRegressor                       -0.0811    -0.0628 0.2948   \n",
       "NuSVR                                     -0.1249    -0.1060 0.3008   \n",
       "BaggingRegressor                          -0.1296    -0.1105 0.3014   \n",
       "SVR                                       -0.1688    -0.1491 0.3066   \n",
       "MLPRegressor                              -0.1997    -0.1795 0.3106   \n",
       "XGBRegressor                              -0.2049    -0.1846 0.3113   \n",
       "KNeighborsRegressor                       -0.2462    -0.2252 0.3166   \n",
       "PassiveAggressiveRegressor                -0.8534    -0.8222 0.3861   \n",
       "GaussianProcessRegressor                  -1.0329    -0.9987 0.4043   \n",
       "ExtraTreeRegressor                        -1.0635    -1.0288 0.4073   \n",
       "DecisionTreeRegressor                     -1.1043    -1.0689 0.4113   \n",
       "RANSACRegressor                           -1.3962    -1.3558 0.4390   \n",
       "KernelRidge                               -3.0573    -2.9889 0.5712   \n",
       "\n",
       "                               Time Taken  \n",
       "Model                                      \n",
       "AdaBoostRegressor                  0.2269  \n",
       "LassoLarsCV                        0.0740  \n",
       "LarsCV                             0.0710  \n",
       "ElasticNetCV                       0.1319  \n",
       "LassoCV                            0.1419  \n",
       "Lars                               0.0320  \n",
       "PoissonRegressor                   0.0189  \n",
       "BayesianRidge                      0.0280  \n",
       "TweedieRegressor                   0.0193  \n",
       "GeneralizedLinearRegressor         0.0287  \n",
       "Lasso                              0.0230  \n",
       "LassoLars                          0.0300  \n",
       "DummyRegressor                     0.0190  \n",
       "ElasticNet                         0.0170  \n",
       "TransformedTargetRegressor         0.0242  \n",
       "LinearRegression                   0.0190  \n",
       "Ridge                              0.0250  \n",
       "RidgeCV                            0.0240  \n",
       "LassoLarsIC                        0.0370  \n",
       "OrthogonalMatchingPursuit          0.0250  \n",
       "OrthogonalMatchingPursuitCV        0.0399  \n",
       "GradientBoostingRegressor          1.1333  \n",
       "HuberRegressor                     0.0780  \n",
       "SGDRegressor                       0.0190  \n",
       "LinearSVR                          0.1639  \n",
       "RandomForestRegressor              3.7189  \n",
       "LGBMRegressor                      0.3538  \n",
       "HistGradientBoostingRegressor      1.6980  \n",
       "ExtraTreesRegressor                1.9889  \n",
       "NuSVR                              1.2443  \n",
       "BaggingRegressor                   0.4278  \n",
       "SVR                                1.2183  \n",
       "MLPRegressor                       6.1061  \n",
       "XGBRegressor                       0.6372  \n",
       "KNeighborsRegressor                0.2249  \n",
       "PassiveAggressiveRegressor         0.0190  \n",
       "GaussianProcessRegressor           3.5335  \n",
       "ExtraTreeRegressor                 0.0450  \n",
       "DecisionTreeRegressor              0.0720  \n",
       "RANSACRegressor                    0.1295  \n",
       "KernelRidge                        1.6331  "
      ]
     },
     "execution_count": 105,
     "metadata": {},
     "output_type": "execute_result"
    }
   ],
   "source": [
    "# to check which model did better on the  dataset\n",
    "models_r"
   ]
  },
  {
   "cell_type": "code",
   "execution_count": null,
   "metadata": {},
   "outputs": [
    {
     "data": {
      "text/html": [
       "<div>\n",
       "<style scoped>\n",
       "    .dataframe tbody tr th:only-of-type {\n",
       "        vertical-align: middle;\n",
       "    }\n",
       "\n",
       "    .dataframe tbody tr th {\n",
       "        vertical-align: top;\n",
       "    }\n",
       "\n",
       "    .dataframe thead th {\n",
       "        text-align: right;\n",
       "    }\n",
       "</style>\n",
       "<table border=\"1\" class=\"dataframe\">\n",
       "  <thead>\n",
       "    <tr style=\"text-align: right;\">\n",
       "      <th></th>\n",
       "      <th>AdaBoostRegressor</th>\n",
       "      <th>BaggingRegressor</th>\n",
       "      <th>BayesianRidge</th>\n",
       "      <th>DecisionTreeRegressor</th>\n",
       "      <th>DummyRegressor</th>\n",
       "      <th>ElasticNet</th>\n",
       "      <th>ElasticNetCV</th>\n",
       "      <th>ExtraTreeRegressor</th>\n",
       "      <th>ExtraTreesRegressor</th>\n",
       "      <th>GaussianProcessRegressor</th>\n",
       "      <th>...</th>\n",
       "      <th>RANSACRegressor</th>\n",
       "      <th>RandomForestRegressor</th>\n",
       "      <th>Ridge</th>\n",
       "      <th>RidgeCV</th>\n",
       "      <th>SGDRegressor</th>\n",
       "      <th>SVR</th>\n",
       "      <th>TransformedTargetRegressor</th>\n",
       "      <th>TweedieRegressor</th>\n",
       "      <th>XGBRegressor</th>\n",
       "      <th>LGBMRegressor</th>\n",
       "    </tr>\n",
       "  </thead>\n",
       "  <tbody>\n",
       "    <tr>\n",
       "      <th>0</th>\n",
       "      <td>0.4973</td>\n",
       "      <td>0.6400</td>\n",
       "      <td>0.5020</td>\n",
       "      <td>0.8147</td>\n",
       "      <td>0.5038</td>\n",
       "      <td>0.5038</td>\n",
       "      <td>0.5042</td>\n",
       "      <td>0.2015</td>\n",
       "      <td>0.5510</td>\n",
       "      <td>0.5522</td>\n",
       "      <td>...</td>\n",
       "      <td>0.1414</td>\n",
       "      <td>0.5700</td>\n",
       "      <td>0.5035</td>\n",
       "      <td>0.5034</td>\n",
       "      <td>0.5245</td>\n",
       "      <td>0.5603</td>\n",
       "      <td>0.5035</td>\n",
       "      <td>0.5020</td>\n",
       "      <td>0.6609</td>\n",
       "      <td>0.6391</td>\n",
       "    </tr>\n",
       "    <tr>\n",
       "      <th>1</th>\n",
       "      <td>0.4901</td>\n",
       "      <td>0.5453</td>\n",
       "      <td>0.4848</td>\n",
       "      <td>0.3219</td>\n",
       "      <td>0.5038</td>\n",
       "      <td>0.5038</td>\n",
       "      <td>0.4879</td>\n",
       "      <td>0.1829</td>\n",
       "      <td>0.4420</td>\n",
       "      <td>0.4619</td>\n",
       "      <td>...</td>\n",
       "      <td>0.4028</td>\n",
       "      <td>0.4442</td>\n",
       "      <td>0.4622</td>\n",
       "      <td>0.4623</td>\n",
       "      <td>0.4635</td>\n",
       "      <td>0.4223</td>\n",
       "      <td>0.4622</td>\n",
       "      <td>0.4820</td>\n",
       "      <td>0.5077</td>\n",
       "      <td>0.4351</td>\n",
       "    </tr>\n",
       "    <tr>\n",
       "      <th>2</th>\n",
       "      <td>0.4951</td>\n",
       "      <td>0.4357</td>\n",
       "      <td>0.4824</td>\n",
       "      <td>0.2208</td>\n",
       "      <td>0.5038</td>\n",
       "      <td>0.5038</td>\n",
       "      <td>0.4866</td>\n",
       "      <td>0.3207</td>\n",
       "      <td>0.4230</td>\n",
       "      <td>0.0941</td>\n",
       "      <td>...</td>\n",
       "      <td>0.3722</td>\n",
       "      <td>0.4118</td>\n",
       "      <td>0.4474</td>\n",
       "      <td>0.4480</td>\n",
       "      <td>0.4914</td>\n",
       "      <td>0.4684</td>\n",
       "      <td>0.4474</td>\n",
       "      <td>0.4794</td>\n",
       "      <td>0.4154</td>\n",
       "      <td>0.5145</td>\n",
       "    </tr>\n",
       "    <tr>\n",
       "      <th>3</th>\n",
       "      <td>0.4973</td>\n",
       "      <td>0.4625</td>\n",
       "      <td>0.5038</td>\n",
       "      <td>0.7469</td>\n",
       "      <td>0.5038</td>\n",
       "      <td>0.5038</td>\n",
       "      <td>0.4940</td>\n",
       "      <td>0.7178</td>\n",
       "      <td>0.5869</td>\n",
       "      <td>0.6992</td>\n",
       "      <td>...</td>\n",
       "      <td>0.1107</td>\n",
       "      <td>0.5811</td>\n",
       "      <td>0.4941</td>\n",
       "      <td>0.4943</td>\n",
       "      <td>0.4995</td>\n",
       "      <td>0.5951</td>\n",
       "      <td>0.4940</td>\n",
       "      <td>0.5033</td>\n",
       "      <td>0.6085</td>\n",
       "      <td>0.5517</td>\n",
       "    </tr>\n",
       "    <tr>\n",
       "      <th>4</th>\n",
       "      <td>0.4972</td>\n",
       "      <td>0.3818</td>\n",
       "      <td>0.4944</td>\n",
       "      <td>0.7846</td>\n",
       "      <td>0.5038</td>\n",
       "      <td>0.5038</td>\n",
       "      <td>0.4873</td>\n",
       "      <td>0.9881</td>\n",
       "      <td>0.6532</td>\n",
       "      <td>0.6609</td>\n",
       "      <td>...</td>\n",
       "      <td>0.5064</td>\n",
       "      <td>0.5722</td>\n",
       "      <td>0.4885</td>\n",
       "      <td>0.4882</td>\n",
       "      <td>0.5168</td>\n",
       "      <td>0.6448</td>\n",
       "      <td>0.4885</td>\n",
       "      <td>0.4930</td>\n",
       "      <td>0.7407</td>\n",
       "      <td>0.6543</td>\n",
       "    </tr>\n",
       "    <tr>\n",
       "      <th>...</th>\n",
       "      <td>...</td>\n",
       "      <td>...</td>\n",
       "      <td>...</td>\n",
       "      <td>...</td>\n",
       "      <td>...</td>\n",
       "      <td>...</td>\n",
       "      <td>...</td>\n",
       "      <td>...</td>\n",
       "      <td>...</td>\n",
       "      <td>...</td>\n",
       "      <td>...</td>\n",
       "      <td>...</td>\n",
       "      <td>...</td>\n",
       "      <td>...</td>\n",
       "      <td>...</td>\n",
       "      <td>...</td>\n",
       "      <td>...</td>\n",
       "      <td>...</td>\n",
       "      <td>...</td>\n",
       "      <td>...</td>\n",
       "      <td>...</td>\n",
       "    </tr>\n",
       "    <tr>\n",
       "      <th>1005</th>\n",
       "      <td>0.5266</td>\n",
       "      <td>0.6594</td>\n",
       "      <td>0.5321</td>\n",
       "      <td>0.5704</td>\n",
       "      <td>0.5038</td>\n",
       "      <td>0.5038</td>\n",
       "      <td>0.5305</td>\n",
       "      <td>0.6294</td>\n",
       "      <td>0.5463</td>\n",
       "      <td>0.7048</td>\n",
       "      <td>...</td>\n",
       "      <td>-0.0481</td>\n",
       "      <td>0.5407</td>\n",
       "      <td>0.5582</td>\n",
       "      <td>0.5582</td>\n",
       "      <td>0.5560</td>\n",
       "      <td>0.6743</td>\n",
       "      <td>0.5582</td>\n",
       "      <td>0.5359</td>\n",
       "      <td>0.6002</td>\n",
       "      <td>0.5912</td>\n",
       "    </tr>\n",
       "    <tr>\n",
       "      <th>1006</th>\n",
       "      <td>0.4910</td>\n",
       "      <td>0.5121</td>\n",
       "      <td>0.4844</td>\n",
       "      <td>0.7992</td>\n",
       "      <td>0.5038</td>\n",
       "      <td>0.5038</td>\n",
       "      <td>0.4878</td>\n",
       "      <td>0.8815</td>\n",
       "      <td>0.5756</td>\n",
       "      <td>0.7481</td>\n",
       "      <td>...</td>\n",
       "      <td>0.8680</td>\n",
       "      <td>0.5692</td>\n",
       "      <td>0.4686</td>\n",
       "      <td>0.4687</td>\n",
       "      <td>0.4767</td>\n",
       "      <td>0.6361</td>\n",
       "      <td>0.4686</td>\n",
       "      <td>0.4820</td>\n",
       "      <td>0.5098</td>\n",
       "      <td>0.5331</td>\n",
       "    </tr>\n",
       "    <tr>\n",
       "      <th>1007</th>\n",
       "      <td>0.4910</td>\n",
       "      <td>0.2104</td>\n",
       "      <td>0.4936</td>\n",
       "      <td>0.3062</td>\n",
       "      <td>0.5038</td>\n",
       "      <td>0.5038</td>\n",
       "      <td>0.4869</td>\n",
       "      <td>0.0559</td>\n",
       "      <td>0.4422</td>\n",
       "      <td>0.5440</td>\n",
       "      <td>...</td>\n",
       "      <td>0.8368</td>\n",
       "      <td>0.4096</td>\n",
       "      <td>0.4980</td>\n",
       "      <td>0.4977</td>\n",
       "      <td>0.5315</td>\n",
       "      <td>0.3178</td>\n",
       "      <td>0.4981</td>\n",
       "      <td>0.4927</td>\n",
       "      <td>0.4236</td>\n",
       "      <td>0.4021</td>\n",
       "    </tr>\n",
       "    <tr>\n",
       "      <th>1008</th>\n",
       "      <td>0.4910</td>\n",
       "      <td>0.5632</td>\n",
       "      <td>0.5154</td>\n",
       "      <td>0.4080</td>\n",
       "      <td>0.5038</td>\n",
       "      <td>0.5038</td>\n",
       "      <td>0.5183</td>\n",
       "      <td>0.8015</td>\n",
       "      <td>0.6640</td>\n",
       "      <td>0.5609</td>\n",
       "      <td>...</td>\n",
       "      <td>-0.0523</td>\n",
       "      <td>0.5109</td>\n",
       "      <td>0.5239</td>\n",
       "      <td>0.5241</td>\n",
       "      <td>0.5474</td>\n",
       "      <td>0.5083</td>\n",
       "      <td>0.5239</td>\n",
       "      <td>0.5171</td>\n",
       "      <td>0.3586</td>\n",
       "      <td>0.5159</td>\n",
       "    </tr>\n",
       "    <tr>\n",
       "      <th>1009</th>\n",
       "      <td>0.4972</td>\n",
       "      <td>0.5512</td>\n",
       "      <td>0.5165</td>\n",
       "      <td>0.8882</td>\n",
       "      <td>0.5038</td>\n",
       "      <td>0.5038</td>\n",
       "      <td>0.5125</td>\n",
       "      <td>0.3682</td>\n",
       "      <td>0.3443</td>\n",
       "      <td>0.0024</td>\n",
       "      <td>...</td>\n",
       "      <td>0.3389</td>\n",
       "      <td>0.4618</td>\n",
       "      <td>0.5276</td>\n",
       "      <td>0.5277</td>\n",
       "      <td>0.5568</td>\n",
       "      <td>0.2185</td>\n",
       "      <td>0.5276</td>\n",
       "      <td>0.5186</td>\n",
       "      <td>0.4953</td>\n",
       "      <td>0.3760</td>\n",
       "    </tr>\n",
       "  </tbody>\n",
       "</table>\n",
       "<p>1010 rows × 41 columns</p>\n",
       "</div>"
      ],
      "text/plain": [
       "      AdaBoostRegressor  BaggingRegressor  BayesianRidge  \\\n",
       "0                0.4973            0.6400         0.5020   \n",
       "1                0.4901            0.5453         0.4848   \n",
       "2                0.4951            0.4357         0.4824   \n",
       "3                0.4973            0.4625         0.5038   \n",
       "4                0.4972            0.3818         0.4944   \n",
       "...                 ...               ...            ...   \n",
       "1005             0.5266            0.6594         0.5321   \n",
       "1006             0.4910            0.5121         0.4844   \n",
       "1007             0.4910            0.2104         0.4936   \n",
       "1008             0.4910            0.5632         0.5154   \n",
       "1009             0.4972            0.5512         0.5165   \n",
       "\n",
       "      DecisionTreeRegressor  DummyRegressor  ElasticNet  ElasticNetCV  \\\n",
       "0                    0.8147          0.5038      0.5038        0.5042   \n",
       "1                    0.3219          0.5038      0.5038        0.4879   \n",
       "2                    0.2208          0.5038      0.5038        0.4866   \n",
       "3                    0.7469          0.5038      0.5038        0.4940   \n",
       "4                    0.7846          0.5038      0.5038        0.4873   \n",
       "...                     ...             ...         ...           ...   \n",
       "1005                 0.5704          0.5038      0.5038        0.5305   \n",
       "1006                 0.7992          0.5038      0.5038        0.4878   \n",
       "1007                 0.3062          0.5038      0.5038        0.4869   \n",
       "1008                 0.4080          0.5038      0.5038        0.5183   \n",
       "1009                 0.8882          0.5038      0.5038        0.5125   \n",
       "\n",
       "      ExtraTreeRegressor  ExtraTreesRegressor  GaussianProcessRegressor  ...  \\\n",
       "0                 0.2015               0.5510                    0.5522  ...   \n",
       "1                 0.1829               0.4420                    0.4619  ...   \n",
       "2                 0.3207               0.4230                    0.0941  ...   \n",
       "3                 0.7178               0.5869                    0.6992  ...   \n",
       "4                 0.9881               0.6532                    0.6609  ...   \n",
       "...                  ...                  ...                       ...  ...   \n",
       "1005              0.6294               0.5463                    0.7048  ...   \n",
       "1006              0.8815               0.5756                    0.7481  ...   \n",
       "1007              0.0559               0.4422                    0.5440  ...   \n",
       "1008              0.8015               0.6640                    0.5609  ...   \n",
       "1009              0.3682               0.3443                    0.0024  ...   \n",
       "\n",
       "      RANSACRegressor  RandomForestRegressor  Ridge  RidgeCV  SGDRegressor  \\\n",
       "0              0.1414                 0.5700 0.5035   0.5034        0.5245   \n",
       "1              0.4028                 0.4442 0.4622   0.4623        0.4635   \n",
       "2              0.3722                 0.4118 0.4474   0.4480        0.4914   \n",
       "3              0.1107                 0.5811 0.4941   0.4943        0.4995   \n",
       "4              0.5064                 0.5722 0.4885   0.4882        0.5168   \n",
       "...               ...                    ...    ...      ...           ...   \n",
       "1005          -0.0481                 0.5407 0.5582   0.5582        0.5560   \n",
       "1006           0.8680                 0.5692 0.4686   0.4687        0.4767   \n",
       "1007           0.8368                 0.4096 0.4980   0.4977        0.5315   \n",
       "1008          -0.0523                 0.5109 0.5239   0.5241        0.5474   \n",
       "1009           0.3389                 0.4618 0.5276   0.5277        0.5568   \n",
       "\n",
       "        SVR  TransformedTargetRegressor  TweedieRegressor  XGBRegressor  \\\n",
       "0    0.5603                      0.5035            0.5020        0.6609   \n",
       "1    0.4223                      0.4622            0.4820        0.5077   \n",
       "2    0.4684                      0.4474            0.4794        0.4154   \n",
       "3    0.5951                      0.4940            0.5033        0.6085   \n",
       "4    0.6448                      0.4885            0.4930        0.7407   \n",
       "...     ...                         ...               ...           ...   \n",
       "1005 0.6743                      0.5582            0.5359        0.6002   \n",
       "1006 0.6361                      0.4686            0.4820        0.5098   \n",
       "1007 0.3178                      0.4981            0.4927        0.4236   \n",
       "1008 0.5083                      0.5239            0.5171        0.3586   \n",
       "1009 0.2185                      0.5276            0.5186        0.4953   \n",
       "\n",
       "      LGBMRegressor  \n",
       "0            0.6391  \n",
       "1            0.4351  \n",
       "2            0.5145  \n",
       "3            0.5517  \n",
       "4            0.6543  \n",
       "...             ...  \n",
       "1005         0.5912  \n",
       "1006         0.5331  \n",
       "1007         0.4021  \n",
       "1008         0.5159  \n",
       "1009         0.3760  \n",
       "\n",
       "[1010 rows x 41 columns]"
      ]
     },
     "execution_count": 106,
     "metadata": {},
     "output_type": "execute_result"
    }
   ],
   "source": [
    "# to check the predications for the models \n",
    "predictions_r"
   ]
  },
  {
   "cell_type": "code",
   "execution_count": null,
   "metadata": {},
   "outputs": [],
   "source": [
    "#Inferences : \n",
    "\n",
    "#Using the lazypredict library it has following advantages as found on the internet once reasearched \n",
    "   #1.It applies preprocessing to the dataset.\n",
    "    #(a) It imputes missing values using SimpleImputer (using the mean for numeric features & a constant ‘missing’ value for categorical ones). \n",
    "    #(b) It uses StandardScaler for numeric features , either OneHotEncoder or OrdinalEncoder for the categorical features (depending on the cardinality — number of unique values)\n",
    "\n",
    "#Observation: The preprocessing advantage however was not what I experienced . \n",
    "   # 1.I had forgotten to change the type for \"Total_Sales\" features from Object to float,\n",
    "   # when I applied the lazyregressor model  it  returned  empty result. \n",
    "   # 2.It is better to carryout preprocessing task at our side prior to applying the lazyregressor model for better performance\n",
    "\n",
    "#2. It is easy to train all the models available in scikit-learn with a single line of code and get a list of models with the performance paramters.\n",
    "\n",
    "#3. Based on the result list from Lazypredictor I select the below two models to work further for the below reason\n",
    "    \n",
    "     #RandomForest as my first model \n",
    "     #Multiple Linear Regression as my second model\n",
    "\n",
    "   #(a) I am familiar with both these model among all the other models so it will be idle to implement. \n",
    "   #(b) I will also confirm/validate  whether the RMSE values available from Lazypredict for these two models are correct or not\n",
    "   #(c) As per my research I found that generally Random Forest model works fairly well for many datasets , so it is an appropriate choice as my first model.\n",
    "   #(d) LinearRegression will be my second model of choice as its RMSE value(0.2862) is better than RandomForest RMSE value(0.2907) \n",
    "        #Since , I am not sure if Lazypredict is using Multiple Linear Regression(which works for Non linear)  or Linear regression , so I select this as my second model.  \n",
    "        #I couldn't find/establish a linear relationship between the salary and the other features which is a must for Linear Regression , so I select this as my second model assuming it is a multiple regression.\n",
    "    \n",
    "    "
   ]
  },
  {
   "cell_type": "markdown",
   "metadata": {},
   "source": [
    "# Model 1: RandomForest ML Alogorithm "
   ]
  },
  {
   "cell_type": "code",
   "execution_count": null,
   "metadata": {},
   "outputs": [],
   "source": [
    "from sklearn.ensemble import RandomForestRegressor\n",
    "from sklearn.metrics import r2_score,mean_squared_error\n"
   ]
  },
  {
   "cell_type": "code",
   "execution_count": null,
   "metadata": {},
   "outputs": [],
   "source": [
    "#x11= df2.drop(\"Total_Sales\", axis=1)\n",
    "#X1 = df2.drop(\"Salary\", axis=1)\n",
    "#Y1 = df2[\"Salary\"]\n",
    "#x_train, x_test, y_train, y_test = train_test_split(X1, Y1, test_size=0.20, random_state=0)"
   ]
  },
  {
   "cell_type": "code",
   "execution_count": null,
   "metadata": {},
   "outputs": [],
   "source": [
    "Randomforestmodel= RandomForestRegressor()"
   ]
  },
  {
   "cell_type": "code",
   "execution_count": null,
   "metadata": {},
   "outputs": [
    {
     "data": {
      "text/plain": [
       "RandomForestRegressor()"
      ]
     },
     "execution_count": 111,
     "metadata": {},
     "output_type": "execute_result"
    }
   ],
   "source": [
    "#Randomforestmodel.fit(x_train,y_train)\n",
    "\n",
    "Randomforestmodel.fit(X_train1, Y_train1)\n",
    "\n",
    "#Note: Using the same Train and Test set as used by Lazypredict to avoid any data  difference."
   ]
  },
  {
   "cell_type": "code",
   "execution_count": null,
   "metadata": {},
   "outputs": [
    {
     "data": {
      "text/plain": [
       "array([0.6312944 , 0.46693411, 0.47664132, ..., 0.39391683, 0.55315634,\n",
       "       0.53344821])"
      ]
     },
     "execution_count": 112,
     "metadata": {},
     "output_type": "execute_result"
    }
   ],
   "source": [
    "y_pred= Randomforestmodel.predict(X_test1)\n",
    "y_pred"
   ]
  },
  {
   "cell_type": "code",
   "execution_count": null,
   "metadata": {},
   "outputs": [
    {
     "name": "stdout",
     "output_type": "stream",
     "text": [
      "Model performance for testing set \n",
      "\n",
      "RMSE is 0.2911247310830165\n",
      "R2 Score -0.0362543336735508\n",
      "\n",
      "\n"
     ]
    }
   ],
   "source": [
    "# Check the performance parameter\n",
    "mse= mean_squared_error(Y_test1,y_pred)\n",
    "rmse=np.sqrt(mse)\n",
    "rmse\n",
    "\n",
    "r2=r2_score(Y_test1,y_pred)\n",
    "\n",
    "print(\"Model performance for testing set \\n\")\n",
    "print(\"RMSE is {}\" .format(rmse))\n",
    "print (\"R2 Score {}\".format(r2))\n",
    "print(\"\\n\")\n",
    "\n",
    "\n",
    "#Inference : \n",
    " #Lazypredict(RandomForest) RMSE :0.2907\n",
    " #RandomForest ML RMSE           :0.2911 \n",
    " #Both the values are almost similar \n",
    "    \n",
    " #Lazypredict(RandomForest) R2 :-0.0329\n",
    " #RandomForest ML R2           :-0.0363\n",
    " #Both the values are almost similar \n",
    "    \n"
   ]
  },
  {
   "cell_type": "markdown",
   "metadata": {},
   "source": [
    "# Output Visualisation"
   ]
  },
  {
   "cell_type": "code",
   "execution_count": null,
   "metadata": {},
   "outputs": [
    {
     "data": {
      "text/html": [
       "<div>\n",
       "<style scoped>\n",
       "    .dataframe tbody tr th:only-of-type {\n",
       "        vertical-align: middle;\n",
       "    }\n",
       "\n",
       "    .dataframe tbody tr th {\n",
       "        vertical-align: top;\n",
       "    }\n",
       "\n",
       "    .dataframe thead th {\n",
       "        text-align: right;\n",
       "    }\n",
       "</style>\n",
       "<table border=\"1\" class=\"dataframe\">\n",
       "  <thead>\n",
       "    <tr style=\"text-align: right;\">\n",
       "      <th></th>\n",
       "      <th>Actual Test Values</th>\n",
       "      <th>Predicted Values</th>\n",
       "    </tr>\n",
       "  </thead>\n",
       "  <tbody>\n",
       "    <tr>\n",
       "      <th>1115</th>\n",
       "      <td>0.4283</td>\n",
       "      <td>0.6313</td>\n",
       "    </tr>\n",
       "    <tr>\n",
       "      <th>1688</th>\n",
       "      <td>0.8031</td>\n",
       "      <td>0.4669</td>\n",
       "    </tr>\n",
       "    <tr>\n",
       "      <th>4633</th>\n",
       "      <td>0.7898</td>\n",
       "      <td>0.4766</td>\n",
       "    </tr>\n",
       "    <tr>\n",
       "      <th>4739</th>\n",
       "      <td>0.9805</td>\n",
       "      <td>0.5052</td>\n",
       "    </tr>\n",
       "    <tr>\n",
       "      <th>4552</th>\n",
       "      <td>0.6187</td>\n",
       "      <td>0.5170</td>\n",
       "    </tr>\n",
       "    <tr>\n",
       "      <th>...</th>\n",
       "      <td>...</td>\n",
       "      <td>...</td>\n",
       "    </tr>\n",
       "    <tr>\n",
       "      <th>122</th>\n",
       "      <td>0.7054</td>\n",
       "      <td>0.5372</td>\n",
       "    </tr>\n",
       "    <tr>\n",
       "      <th>4914</th>\n",
       "      <td>0.6943</td>\n",
       "      <td>0.5925</td>\n",
       "    </tr>\n",
       "    <tr>\n",
       "      <th>2540</th>\n",
       "      <td>0.4882</td>\n",
       "      <td>0.3939</td>\n",
       "    </tr>\n",
       "    <tr>\n",
       "      <th>4240</th>\n",
       "      <td>0.7174</td>\n",
       "      <td>0.5532</td>\n",
       "    </tr>\n",
       "    <tr>\n",
       "      <th>829</th>\n",
       "      <td>0.0527</td>\n",
       "      <td>0.5334</td>\n",
       "    </tr>\n",
       "  </tbody>\n",
       "</table>\n",
       "<p>1010 rows × 2 columns</p>\n",
       "</div>"
      ],
      "text/plain": [
       "      Actual Test Values  Predicted Values\n",
       "1115              0.4283            0.6313\n",
       "1688              0.8031            0.4669\n",
       "4633              0.7898            0.4766\n",
       "4739              0.9805            0.5052\n",
       "4552              0.6187            0.5170\n",
       "...                  ...               ...\n",
       "122               0.7054            0.5372\n",
       "4914              0.6943            0.5925\n",
       "2540              0.4882            0.3939\n",
       "4240              0.7174            0.5532\n",
       "829               0.0527            0.5334\n",
       "\n",
       "[1010 rows x 2 columns]"
      ]
     },
     "execution_count": 114,
     "metadata": {},
     "output_type": "execute_result"
    }
   ],
   "source": [
    "# Printing the tested and predicted values from RandomForest ML model\n",
    "print_df = pd.DataFrame({'Actual Test Values' : Y_test1 , 'Predicted Values' : y_pred})\n",
    "print_df"
   ]
  },
  {
   "cell_type": "code",
   "execution_count": null,
   "metadata": {},
   "outputs": [
    {
     "data": {
      "image/png": "[encoded data removed]",
      "text/plain": [
       "<Figure size 842.4x595.44 with 1 Axes>"
      ]
     },
     "metadata": {},
     "output_type": "display_data"
    }
   ],
   "source": [
    "#Visualise the result from Randomforest Model \n",
    "\n",
    "\n",
    "plt.scatter(X_test1['Bonus'],Y_test1, color='red')\n",
    "plt.scatter(X_test1['Bonus'],y_pred, color='blue')\n",
    "\n",
    "plt.show()\n",
    "\n",
    "#Inference : \n",
    "#  The predictions are not very accurate wrt to the test data .Not the best model.\n",
    "#  Will now try to implement Multiple Linear Regression to check if it will be a better model \n"
   ]
  },
  {
   "cell_type": "markdown",
   "metadata": {},
   "source": [
    "# Visual Plot on Predictons from Lazypredict and RandomForest ML model"
   ]
  },
  {
   "cell_type": "code",
   "execution_count": null,
   "metadata": {},
   "outputs": [
    {
     "data": {
      "image/png": "[encoded data removed]",
      "text/plain": [
       "<Figure size 842.4x595.44 with 1 Axes>"
      ]
     },
     "metadata": {},
     "output_type": "display_data"
    }
   ],
   "source": [
    "# Visualise the predictions from LazrPredictor for Randomforest and from  Randomforest Model \n",
    "\n",
    "\n",
    "\n",
    "plt.scatter(X_test1['Bonus'],y_pred, color='blue')\n",
    "plt.scatter(X_test1['Bonus'],predictions_r['RandomForestRegressor'], color='orange')\n",
    "\n",
    "\n",
    "plt.show()\n",
    "\n",
    "#Inference : The predictions from both the models Lazypredic(RandomForest) and RandomForest are similar .\n"
   ]
  },
  {
   "cell_type": "markdown",
   "metadata": {},
   "source": [
    "# Model 2:  Multiple Linear Regression"
   ]
  },
  {
   "cell_type": "code",
   "execution_count": null,
   "metadata": {},
   "outputs": [],
   "source": [
    " #  Why do we select Multiple Linear Regression\n",
    "    #1. It is a broader class of regression and is used for both linear and non linear regressions with multiple independent variables.\n",
    "    #2. No major correlation is found between the independent variables in the dataset.\n",
    "    "
   ]
  },
  {
   "cell_type": "code",
   "execution_count": null,
   "metadata": {},
   "outputs": [
    {
     "data": {
      "text/plain": [
       "LinearRegression()"
      ]
     },
     "execution_count": 118,
     "metadata": {},
     "output_type": "execute_result"
    }
   ],
   "source": [
    "# Train and fit the model\n",
    "from sklearn import linear_model\n",
    "regr = linear_model.LinearRegression()\n",
    "regr.fit(X_train1, Y_train1)"
   ]
  },
  {
   "cell_type": "code",
   "execution_count": null,
   "metadata": {},
   "outputs": [
    {
     "data": {
      "text/plain": [
       "array([0.50345438, 0.46217528, 0.44737075, ..., 0.49808438, 0.52391655,\n",
       "       0.52755705])"
      ]
     },
     "execution_count": 119,
     "metadata": {},
     "output_type": "execute_result"
    }
   ],
   "source": [
    "# Predicting with the model\n",
    "y_pred_linear= regr.predict(X_test1)\n",
    "y_pred_linear"
   ]
  },
  {
   "cell_type": "code",
   "execution_count": null,
   "metadata": {},
   "outputs": [
    {
     "name": "stdout",
     "output_type": "stream",
     "text": [
      "Model performance for testing set \n",
      "\n",
      "RMSE is 0.2862299119419362\n",
      "R2 Score -0.0017011975222382958\n",
      "\n",
      "\n"
     ]
    }
   ],
   "source": [
    "# Check the performance parameter\n",
    "mse_linear= mean_squared_error(Y_test1,y_pred_linear)\n",
    "rmse_linear=np.sqrt(mse_linear)\n",
    "#rmse_linear\n",
    "r2_linear=r2_score(Y_test1,y_pred_linear)\n",
    "\n",
    "print(\"Model performance for testing set \\n\")\n",
    "print(\"RMSE is {}\" .format(rmse_linear))\n",
    "print (\"R2 Score {}\".format(r2_linear))\n",
    "print(\"\\n\")\n",
    "\n",
    "\n",
    "#Inference : \n",
    " #Lazypredict(LinearRegression) RMSE :0.2862\n",
    " # Multiple Regression ML RMSE       :0.2862\n",
    " #Both values are same \n",
    "    \n",
    "#Lazypredict(LinearRegression) R2 :-0.0017\n",
    "# Multiple Regression ML R2       :-0.0017 \n",
    " #Both values are same  \n",
    " "
   ]
  },
  {
   "cell_type": "markdown",
   "metadata": {},
   "source": [
    "# Output Visualisation"
   ]
  },
  {
   "cell_type": "code",
   "execution_count": null,
   "metadata": {},
   "outputs": [
    {
     "data": {
      "text/html": [
       "<div>\n",
       "<style scoped>\n",
       "    .dataframe tbody tr th:only-of-type {\n",
       "        vertical-align: middle;\n",
       "    }\n",
       "\n",
       "    .dataframe tbody tr th {\n",
       "        vertical-align: top;\n",
       "    }\n",
       "\n",
       "    .dataframe thead th {\n",
       "        text-align: right;\n",
       "    }\n",
       "</style>\n",
       "<table border=\"1\" class=\"dataframe\">\n",
       "  <thead>\n",
       "    <tr style=\"text-align: right;\">\n",
       "      <th></th>\n",
       "      <th>Actual Test Values</th>\n",
       "      <th>Predicted Values</th>\n",
       "    </tr>\n",
       "  </thead>\n",
       "  <tbody>\n",
       "    <tr>\n",
       "      <th>1115</th>\n",
       "      <td>0.4283</td>\n",
       "      <td>0.5035</td>\n",
       "    </tr>\n",
       "    <tr>\n",
       "      <th>1688</th>\n",
       "      <td>0.8031</td>\n",
       "      <td>0.4622</td>\n",
       "    </tr>\n",
       "    <tr>\n",
       "      <th>4633</th>\n",
       "      <td>0.7898</td>\n",
       "      <td>0.4474</td>\n",
       "    </tr>\n",
       "    <tr>\n",
       "      <th>4739</th>\n",
       "      <td>0.9805</td>\n",
       "      <td>0.4940</td>\n",
       "    </tr>\n",
       "    <tr>\n",
       "      <th>4552</th>\n",
       "      <td>0.6187</td>\n",
       "      <td>0.4885</td>\n",
       "    </tr>\n",
       "    <tr>\n",
       "      <th>...</th>\n",
       "      <td>...</td>\n",
       "      <td>...</td>\n",
       "    </tr>\n",
       "    <tr>\n",
       "      <th>122</th>\n",
       "      <td>0.7054</td>\n",
       "      <td>0.5582</td>\n",
       "    </tr>\n",
       "    <tr>\n",
       "      <th>4914</th>\n",
       "      <td>0.6943</td>\n",
       "      <td>0.4686</td>\n",
       "    </tr>\n",
       "    <tr>\n",
       "      <th>2540</th>\n",
       "      <td>0.4882</td>\n",
       "      <td>0.4981</td>\n",
       "    </tr>\n",
       "    <tr>\n",
       "      <th>4240</th>\n",
       "      <td>0.7174</td>\n",
       "      <td>0.5239</td>\n",
       "    </tr>\n",
       "    <tr>\n",
       "      <th>829</th>\n",
       "      <td>0.0527</td>\n",
       "      <td>0.5276</td>\n",
       "    </tr>\n",
       "  </tbody>\n",
       "</table>\n",
       "<p>1010 rows × 2 columns</p>\n",
       "</div>"
      ],
      "text/plain": [
       "      Actual Test Values  Predicted Values\n",
       "1115              0.4283            0.5035\n",
       "1688              0.8031            0.4622\n",
       "4633              0.7898            0.4474\n",
       "4739              0.9805            0.4940\n",
       "4552              0.6187            0.4885\n",
       "...                  ...               ...\n",
       "122               0.7054            0.5582\n",
       "4914              0.6943            0.4686\n",
       "2540              0.4882            0.4981\n",
       "4240              0.7174            0.5239\n",
       "829               0.0527            0.5276\n",
       "\n",
       "[1010 rows x 2 columns]"
      ]
     },
     "execution_count": 121,
     "metadata": {},
     "output_type": "execute_result"
    }
   ],
   "source": [
    "# Printing the tested and predicted values from Multiple Regression ML model\n",
    "print_df_linear = pd.DataFrame({'Actual Test Values' : Y_test1 , 'Predicted Values' : y_pred_linear})\n",
    "print_df_linear"
   ]
  },
  {
   "cell_type": "code",
   "execution_count": null,
   "metadata": {},
   "outputs": [
    {
     "data": {
      "image/png": "[encoded data removed]",
      "text/plain": [
       "<Figure size 842.4x595.44 with 1 Axes>"
      ]
     },
     "metadata": {},
     "output_type": "display_data"
    }
   ],
   "source": [
    "#Visualise the result from Multiple Linear Regression Model \n",
    "\n",
    "\n",
    "plt.scatter(X_test1['Bonus'],Y_test1, color='red')\n",
    "plt.scatter(X_test1['Bonus'],y_pred_linear, color='blue')\n",
    "\n",
    "plt.show()\n",
    "\n",
    "#Inference : The predictions are not very accurate wrt to the test data . Not the best model.\n",
    "# Should try to implement the top 2 models as per lazypredict models result for better model performance."
   ]
  },
  {
   "cell_type": "markdown",
   "metadata": {},
   "source": [
    "# Visual Plot on predictons from Lazypredict and Multiple Regression ML model"
   ]
  },
  {
   "cell_type": "code",
   "execution_count": null,
   "metadata": {},
   "outputs": [
    {
     "data": {
      "image/png": "[encoded data removed]",
      "text/plain": [
       "<Figure size 842.4x595.44 with 1 Axes>"
      ]
     },
     "metadata": {},
     "output_type": "display_data"
    }
   ],
   "source": [
    "\n",
    "\n",
    "plt.scatter(X_test1['Bonus'],y_pred_linear, color='blue')\n",
    "plt.scatter(X_test1['Bonus'],predictions_r['LinearRegression'], color='orange')\n",
    "\n",
    "\n",
    "plt.show()\n",
    "\n",
    "#Inference : \n",
    "#1. The predictions made from Lazypredict(LinearRegression) and Multiple Linear Regression model is exact . \n",
    "#2. The RMSE values(0.2862) from Lazypredict and Multiple Linear model is same."
   ]
  },
  {
   "cell_type": "markdown",
   "metadata": {},
   "source": [
    "# Conclusion"
   ]
  },
  {
   "cell_type": "code",
   "execution_count": null,
   "metadata": {},
   "outputs": [],
   "source": [
    "#1. Multiple Linear Regression model has a better model performance than the RandomForestModel on the given dataset.\n",
    "#2. We can rely on Lazypredict to identify the best model and iterate further on the chosen model.\n",
    "#3. My next challenge is to educate myself on the top 2 regressors  from the Lazypredictregressor result and execute them separately.\n",
    "    #These models have the least RMSE value and the model prediction will  definitely be better and will be better models.\n",
    "\n",
    "#End Of Project"
   ]
  },
  {
   "cell_type": "code",
   "execution_count": null,
   "metadata": {},
   "outputs": [],
   "source": []
  }
 ],
 "metadata": {
  "interpreter": {
   "hash": "aee8b7b246df8f9039afb4144a1f6fd8d2ca17a180786b69acc140d282b71a49"
  },
  "kernelspec": {
   "display_name": "Python 3.9.6 64-bit",
   "name": "python3"
  },
  "language_info": {
   "codemirror_mode": {
    "name": "ipython",
    "version": 3
   },
   "file_extension": ".py",
   "mimetype": "text/x-python",
   "name": "python",
   "nbconvert_exporter": "python",
   "pygments_lexer": "ipython3",
   "version": "3.7.3"
  }
 },
 "nbformat": 4,
 "nbformat_minor": 4
}
