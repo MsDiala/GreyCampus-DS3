{
 "cells": [
  {
   "cell_type": "markdown",
   "metadata": {
    "_uuid": "89ef93231815456f4e0bc5dcc00b094aee800993"
   },
   "source": [
    "**In this task you should use Pandas to answer a few questions about the Adult Dataset(provided)."
   ]
  },
  {
   "cell_type": "markdown",
   "metadata": {
    "_uuid": "c322301ac858c748f8f80e63cf6f734fc70dde30"
   },
   "source": [
    "Unique values of all features:\n",
    "- `age`: continuous.\n",
    "- `workclass`: Private, Self-emp-not-inc, Self-emp-inc, Federal-gov, Local-gov, State-gov, Without-pay, Never-worked.\n",
    "- `fnlwgt`: continuous.\n",
    "- `education`: Bachelors, Some-college, 11th, HS-grad, Prof-school, Assoc-acdm, Assoc-voc, 9th, 7th-8th, 12th, Masters, 1st-4th, 10th, Doctorate, 5th-6th, Preschool.\n",
    "- `education-num`: continuous.\n",
    "- `marital-status`: Married-civ-spouse, Divorced, Never-married, Separated, Widowed, Married-spouse-absent, Married-AF-spouse.\n",
    "- `occupation`: Tech-support, Craft-repair, Other-service, Sales, Exec-managerial, Prof-specialty, Handlers-cleaners, Machine-op-inspct, Adm-clerical, Farming-fishing, Transport-moving, Priv-house-serv, Protective-serv, Armed-Forces.\n",
    "- `relationship`: Wife, Own-child, Husband, Not-in-family, Other-relative, Unmarried.\n",
    "- `race`: White, Asian-Pac-Islander, Amer-Indian-Eskimo, Other, Black.\n",
    "- `sex`: Female, Male.\n",
    "- `capital-gain`: continuous.\n",
    "- `capital-loss`: continuous.\n",
    "- `hours-per-week`: continuous.\n",
    "- `native-country`: United-States, Cambodia, England, Puerto-Rico, Canada, Germany, Outlying-US(Guam-USVI-etc), India, Japan, Greece, South, China, Cuba, Iran, Honduras, Philippines, Italy, Poland, Jamaica, Vietnam, Mexico, Portugal, Ireland, France, Dominican-Republic, Laos, Ecuador, Taiwan, Haiti, Columbia, Hungary, Guatemala, Nicaragua, Scotland, Thailand, Yugoslavia, El-Salvador, Trinadad&Tobago, Peru, Hong, Holand-Netherlands.   \n",
    "- `salary`: >50K,<=50K"
   ]
  },
  {
   "cell_type": "code",
   "execution_count": 7,
   "metadata": {
    "_uuid": "d3eb2411e23b7db11e4cbbb498a42752442a6f4c",
    "collapsed": true
   },
   "outputs": [],
   "source": [
    "import pandas as pd"
   ]
  },
  {
   "cell_type": "code",
   "execution_count": 8,
   "metadata": {
    "_uuid": "c5119d1b8151029b4ff57735c4279b795ae492a2",
    "collapsed": true
   },
   "outputs": [
    {
     "output_type": "execute_result",
     "data": {
      "text/plain": [
       "   age         workclass  fnlwgt  education  education-num  \\\n",
       "0    2         State-gov   77516  Bachelors             13   \n",
       "1    3  Self-emp-not-inc   83311  Bachelors             13   \n",
       "2    2           Private  215646    HS-grad              9   \n",
       "3    3           Private  234721       11th              7   \n",
       "4    1           Private  338409  Bachelors             13   \n",
       "\n",
       "       marital-status         occupation   relationship   race     sex  \\\n",
       "0       Never-married       Adm-clerical  Not-in-family  White    Male   \n",
       "1  Married-civ-spouse    Exec-managerial        Husband  White    Male   \n",
       "2            Divorced  Handlers-cleaners  Not-in-family  White    Male   \n",
       "3  Married-civ-spouse  Handlers-cleaners        Husband  Black    Male   \n",
       "4  Married-civ-spouse     Prof-specialty           Wife  Black  Female   \n",
       "\n",
       "   capitalgain  capitalloss  hoursperweek native-country  class  \n",
       "0            1            0             2  United-States  <=50K  \n",
       "1            0            0             0  United-States  <=50K  \n",
       "2            0            0             2  United-States  <=50K  \n",
       "3            0            0             2  United-States  <=50K  \n",
       "4            0            0             2           Cuba  <=50K  "
      ],
      "text/html": "<div>\n<style scoped>\n    .dataframe tbody tr th:only-of-type {\n        vertical-align: middle;\n    }\n\n    .dataframe tbody tr th {\n        vertical-align: top;\n    }\n\n    .dataframe thead th {\n        text-align: right;\n    }\n</style>\n<table border=\"1\" class=\"dataframe\">\n  <thead>\n    <tr style=\"text-align: right;\">\n      <th></th>\n      <th>age</th>\n      <th>workclass</th>\n      <th>fnlwgt</th>\n      <th>education</th>\n      <th>education-num</th>\n      <th>marital-status</th>\n      <th>occupation</th>\n      <th>relationship</th>\n      <th>race</th>\n      <th>sex</th>\n      <th>capitalgain</th>\n      <th>capitalloss</th>\n      <th>hoursperweek</th>\n      <th>native-country</th>\n      <th>class</th>\n    </tr>\n  </thead>\n  <tbody>\n    <tr>\n      <th>0</th>\n      <td>2</td>\n      <td>State-gov</td>\n      <td>77516</td>\n      <td>Bachelors</td>\n      <td>13</td>\n      <td>Never-married</td>\n      <td>Adm-clerical</td>\n      <td>Not-in-family</td>\n      <td>White</td>\n      <td>Male</td>\n      <td>1</td>\n      <td>0</td>\n      <td>2</td>\n      <td>United-States</td>\n      <td>&lt;=50K</td>\n    </tr>\n    <tr>\n      <th>1</th>\n      <td>3</td>\n      <td>Self-emp-not-inc</td>\n      <td>83311</td>\n      <td>Bachelors</td>\n      <td>13</td>\n      <td>Married-civ-spouse</td>\n      <td>Exec-managerial</td>\n      <td>Husband</td>\n      <td>White</td>\n      <td>Male</td>\n      <td>0</td>\n      <td>0</td>\n      <td>0</td>\n      <td>United-States</td>\n      <td>&lt;=50K</td>\n    </tr>\n    <tr>\n      <th>2</th>\n      <td>2</td>\n      <td>Private</td>\n      <td>215646</td>\n      <td>HS-grad</td>\n      <td>9</td>\n      <td>Divorced</td>\n      <td>Handlers-cleaners</td>\n      <td>Not-in-family</td>\n      <td>White</td>\n      <td>Male</td>\n      <td>0</td>\n      <td>0</td>\n      <td>2</td>\n      <td>United-States</td>\n      <td>&lt;=50K</td>\n    </tr>\n    <tr>\n      <th>3</th>\n      <td>3</td>\n      <td>Private</td>\n      <td>234721</td>\n      <td>11th</td>\n      <td>7</td>\n      <td>Married-civ-spouse</td>\n      <td>Handlers-cleaners</td>\n      <td>Husband</td>\n      <td>Black</td>\n      <td>Male</td>\n      <td>0</td>\n      <td>0</td>\n      <td>2</td>\n      <td>United-States</td>\n      <td>&lt;=50K</td>\n    </tr>\n    <tr>\n      <th>4</th>\n      <td>1</td>\n      <td>Private</td>\n      <td>338409</td>\n      <td>Bachelors</td>\n      <td>13</td>\n      <td>Married-civ-spouse</td>\n      <td>Prof-specialty</td>\n      <td>Wife</td>\n      <td>Black</td>\n      <td>Female</td>\n      <td>0</td>\n      <td>0</td>\n      <td>2</td>\n      <td>Cuba</td>\n      <td>&lt;=50K</td>\n    </tr>\n  </tbody>\n</table>\n</div>"
     },
     "metadata": {},
     "execution_count": 8
    }
   ],
   "source": [
    "data = pd.read_csv('adult_csv.csv')\n",
    "data.head()"
   ]
  },
  {
   "cell_type": "markdown",
   "metadata": {
    "_uuid": "6b19853f936853d40971b56f4d298ab55ee78cac"
   },
   "source": [
    "**1. How many men and women (*sex* feature) are represented in this dataset?** "
   ]
  },
  {
   "cell_type": "code",
   "execution_count": 9,
   "metadata": {
    "_uuid": "d32cafcbe966dbdfa40c3017d16d6f8c96bfb3e2",
    "collapsed": true
   },
   "outputs": [
    {
     "output_type": "execute_result",
     "data": {
      "text/plain": [
       "Male      32650\n",
       "Female    16192\n",
       "Name: sex, dtype: int64"
      ]
     },
     "metadata": {},
     "execution_count": 9
    }
   ],
   "source": [
    "# You code here\n",
    "data['sex'].value_counts()\n"
   ]
  },
  {
   "cell_type": "markdown",
   "metadata": {
    "_uuid": "4748793234a5d325ea60d13331ecf93e29774523"
   },
   "source": [
    "**2. What is the average age (*age* feature) of women?**"
   ]
  },
  {
   "cell_type": "code",
   "execution_count": 10,
   "metadata": {
    "_uuid": "64f60d928855107d8980875656dcdf3587d91646",
    "collapsed": true
   },
   "outputs": [
    {
     "output_type": "execute_result",
     "data": {
      "text/plain": [
       "<bound method NDFrame._add_numeric_operations.<locals>.mean of 4        1\n",
       "5        2\n",
       "6        3\n",
       "8        1\n",
       "12       0\n",
       "        ..\n",
       "48826    3\n",
       "48827    3\n",
       "48828    2\n",
       "48834    0\n",
       "48837    2\n",
       "Name: age, Length: 16192, dtype: int64>"
      ]
     },
     "metadata": {},
     "execution_count": 10
    }
   ],
   "source": [
    "# You code here\n",
    "data.loc[data['sex']== 'Female','age'].mean"
   ]
  },
  {
   "cell_type": "markdown",
   "metadata": {
    "_uuid": "80e87c421c348067e88769c64e554206c51727d1"
   },
   "source": [
    "*3. What is the percentage of German citizens (*native-country* feature)?**"
   ]
  },
  {
   "cell_type": "code",
   "execution_count": 11,
   "metadata": {
    "_uuid": "ca9807509692638bd945671ed7d8b4a5ad1f3626",
    "collapsed": true
   },
   "outputs": [
    {
     "output_type": "execute_result",
     "data": {
      "text/plain": [
       "0.00421768150362393"
      ]
     },
     "metadata": {},
     "execution_count": 11
    }
   ],
   "source": [
    "# You code here\n",
    "float((data['native-country']=='Germany').sum())/data.shape[0]\n"
   ]
  },
  {
   "cell_type": "markdown",
   "metadata": {
    "_uuid": "be9911cf525df4fca2c1d14b8720bc8a82f462e7"
   },
   "source": [
    "**4-5. What are the mean and standard deviation of age for those who earn more than 50K per year (*salary* feature) and those who earn less than 50K per year? **"
   ]
  },
  {
   "cell_type": "code",
   "execution_count": 14,
   "metadata": {},
   "outputs": [
    {
     "output_type": "stream",
     "name": "stdout",
     "text": [
      "The average age of for those who earn more than 50K per year: 2 +- 1.0 years,and those who earn less than 50K per year - 2 +- 1.3 years.\n"
     ]
    }
   ],
   "source": [
    "ages1 = data.loc[data['class'] == '>50K', 'age']\n",
    "ages2 = data.loc[data['class'] == '<=50K', 'age']\n",
    "print(\"The average age of for those who earn more than 50K per year: {0} +- {1} years,and those who earn less than 50K per year - {2} +- {3} years.\".format(\n",
    "    round(ages1.mean()), round(ages1.std(), 1),\n",
    "    round(ages2.mean()), round(ages2.std(), 1)))"
   ]
  },
  {
   "cell_type": "markdown",
   "metadata": {
    "_uuid": "180c3fe6f8b250b877c1d86866067b80acabdb64"
   },
   "source": [
    "**6. Is it true that people who earn more than 50K have at least high school education? (*education – Bachelors, Prof-school, Assoc-acdm, Assoc-voc, Masters* or *Doctorate* feature)**"
   ]
  },
  {
   "cell_type": "code",
   "execution_count": 16,
   "metadata": {
    "_uuid": "58f38ebfa2b0e1418a6a1a680d0743697f9876a2",
    "collapsed": true
   },
   "outputs": [
    {
     "output_type": "execute_result",
     "data": {
      "text/plain": [
       "array(['HS-grad', 'Masters', 'Bachelors', 'Some-college', 'Assoc-voc',\n",
       "       'Doctorate', 'Prof-school', 'Assoc-acdm', '7th-8th', '12th',\n",
       "       '10th', '11th', '9th', '5th-6th', '1st-4th', 'Preschool'],\n",
       "      dtype=object)"
      ]
     },
     "metadata": {},
     "execution_count": 16
    }
   ],
   "source": [
    "# You code here\n",
    "data.loc[data['class'] == '>50K', 'education'].unique()\n",
    "\n"
   ]
  },
  {
   "cell_type": "markdown",
   "metadata": {
    "_uuid": "87d6bc9ec1c230e66416ce94533ea250368009cc"
   },
   "source": [
    "**7. Display age statistics for each race (*race* feature) and each gender (*sex* feature). Use *groupby()* and *describe()*. Find the maximum age of men of *Amer-Indian-Eskimo* race.**"
   ]
  },
  {
   "cell_type": "code",
   "execution_count": 17,
   "metadata": {
    "_uuid": "a4567b72200b583f7f2ee1583405d636c12169db",
    "collapsed": true
   },
   "outputs": [
    {
     "output_type": "stream",
     "name": "stdout",
     "text": [
      "Race: Amer-Indian-Eskimo, sex: Female\ncount    185.000000\nmean       1.583784\nstd        1.274651\nmin        0.000000\n25%        1.000000\n50%        1.000000\n75%        3.000000\nmax        4.000000\nName: age, dtype: float64\nRace: Amer-Indian-Eskimo, sex: Male\ncount    285.000000\nmean       1.603509\nstd        1.135528\nmin        0.000000\n25%        1.000000\n50%        1.000000\n75%        2.000000\nmax        4.000000\nName: age, dtype: float64\nRace: Asian-Pac-Islander, sex: Female\ncount    517.000000\nmean       1.481625\nstd        1.211281\nmin        0.000000\n25%        0.000000\n50%        1.000000\n75%        2.000000\nmax        4.000000\nName: age, dtype: float64\nRace: Asian-Pac-Islander, sex: Male\ncount    1002.000000\nmean        1.782435\nstd         1.197137\nmin         0.000000\n25%         1.000000\n50%         2.000000\n75%         3.000000\nmax         4.000000\nName: age, dtype: float64\nRace: Black, sex: Female\ncount    2308.000000\nmean        1.712738\nstd         1.240228\nmin         0.000000\n25%         1.000000\n50%         2.000000\n75%         3.000000\nmax         4.000000\nName: age, dtype: float64\nRace: Black, sex: Male\ncount    2377.000000\nmean        1.711822\nstd         1.254554\nmin         0.000000\n25%         1.000000\n50%         2.000000\n75%         3.000000\nmax         4.000000\nName: age, dtype: float64\nRace: Other, sex: Female\ncount    155.000000\nmean       1.090323\nstd        1.107048\nmin        0.000000\n25%        0.000000\n50%        1.000000\n75%        2.000000\nmax        4.000000\nName: age, dtype: float64\nRace: Other, sex: Male\ncount    251.000000\nmean       1.454183\nstd        1.156241\nmin        0.000000\n25%        1.000000\n50%        1.000000\n75%        2.000000\nmax        4.000000\nName: age, dtype: float64\nRace: White, sex: Female\ncount    13027.000000\nmean         1.595839\nstd          1.352648\nmin          0.000000\n25%          0.000000\n50%          1.000000\n75%          3.000000\nmax          4.000000\nName: age, dtype: float64\nRace: White, sex: Male\ncount    28735.00000\nmean         1.87423\nstd          1.27318\nmin          0.00000\n25%          1.00000\n50%          2.00000\n75%          3.00000\nmax          4.00000\nName: age, dtype: float64\n"
     ]
    }
   ],
   "source": [
    "# You code here\n",
    "for (race, sex), sub_df in data.groupby(['race', 'sex']):\n",
    "    print(\"Race: {0}, sex: {1}\".format(race, sex))\n",
    "    print(sub_df['age'].describe())"
   ]
  },
  {
   "cell_type": "markdown",
   "metadata": {
    "_uuid": "19411d604b0d4337a4a048a2f0e898541f39ab76"
   },
   "source": [
    "**8. Among whom is the proportion of those who earn a lot (>50K) greater: married or single men (*marital-status* feature)? Consider as married those who have a *marital-status* starting with *Married* (Married-civ-spouse, Married-spouse-absent or Married-AF-spouse), the rest are considered bachelors.**"
   ]
  },
  {
   "cell_type": "code",
   "execution_count": 19,
   "metadata": {
    "_uuid": "5bb3a8524fcbd794707075ccf6aaf8dd0f30a3dd",
    "collapsed": true
   },
   "outputs": [
    {
     "output_type": "execute_result",
     "data": {
      "text/plain": [
       "<=50K    11414\n",
       ">50K      1001\n",
       "Name: class, dtype: int64"
      ]
     },
     "metadata": {},
     "execution_count": 19
    }
   ],
   "source": [
    "# You code here\n",
    "data.loc[(data['sex'] == 'Male') &\n",
    "     (data['marital-status'].isin(['Never-married', 'Separated', 'Divorced','Widowed'])), 'class'].value_counts()"
   ]
  },
  {
   "cell_type": "code",
   "execution_count": 20,
   "metadata": {},
   "outputs": [
    {
     "output_type": "execute_result",
     "data": {
      "text/plain": [
       "<=50K    11318\n",
       ">50K      8917\n",
       "Name: class, dtype: int64"
      ]
     },
     "metadata": {},
     "execution_count": 20
    }
   ],
   "source": [
    "data.loc[(data['sex'] == 'Male') & (data['marital-status'].str.startswith('Married')), 'class'].value_counts()"
   ]
  },
  {
   "cell_type": "code",
   "execution_count": 21,
   "metadata": {},
   "outputs": [
    {
     "output_type": "execute_result",
     "data": {
      "text/plain": [
       "Married-civ-spouse       22379\n",
       "Never-married            16117\n",
       "Divorced                  6633\n",
       "Separated                 1530\n",
       "Widowed                   1518\n",
       "Married-spouse-absent      628\n",
       "Married-AF-spouse           37\n",
       "Name: marital-status, dtype: int64"
      ]
     },
     "metadata": {},
     "execution_count": 21
    }
   ],
   "source": [
    "data['marital-status'].value_counts()\n"
   ]
  },
  {
   "cell_type": "markdown",
   "metadata": {
    "_uuid": "34f2076e7d331b95a23b990372809b709d2c8183"
   },
   "source": [
    "**9. What is the maximum number of hours a person works per week (*hours-per-week* feature)? How many people work such a number of hours, and what is the percentage of those who earn a lot (>50K) among them?**"
   ]
  },
  {
   "cell_type": "code",
   "execution_count": 26,
   "metadata": {
    "_uuid": "3571468172fc4bcf34e10b3d6ab358d4e41f7ef4",
    "collapsed": true
   },
   "outputs": [
    {
     "output_type": "stream",
     "name": "stdout",
     "text": [
      "Max time - 4 hours./week.\nTotal number of such hard workers 1676\nPercentage of rich among them 35%\n"
     ]
    }
   ],
   "source": [
    "# You code here\n",
    "max_load = data['hoursperweek'].max()\n",
    "print(\"Max time - {0} hours./week.\".format(max_load))\n",
    "\n",
    "num_workaholics = data[data['hoursperweek'] == max_load].shape[0]\n",
    "print(\"Total number of such hard workers {0}\".format(num_workaholics))\n",
    "\n",
    "rich_share = float(data[(data['hoursperweek'] == max_load)\n",
    "                 & (data['class'] == '>50K')].shape[0]) / num_workaholics\n",
    "print(\"Percentage of rich among them {0}%\".format(int(100 * rich_share)))\n"
   ]
  },
  {
   "cell_type": "markdown",
   "metadata": {
    "_uuid": "d539d4d137fac1c5ea25bc516188eb657d67e9b4"
   },
   "source": [
    "**10. Count the average time of work (*hours-per-week*) for those who earn a little and a lot (*salary*) for each country (*native-country*). What will these be for Japan?**"
   ]
  },
  {
   "cell_type": "code",
   "execution_count": 28,
   "metadata": {
    "_uuid": "75a93411f1e3b519afcc27c026aaa0c67eb526e9",
    "collapsed": true
   },
   "outputs": [
    {
     "output_type": "stream",
     "name": "stdout",
     "text": [
      "Cambodia <=50K 2.05\n",
      "Cambodia >50K 2.22\n",
      "Canada <=50K 1.74\n",
      "Canada >50K 2.4\n",
      "China <=50K 1.67\n",
      "China >50K 2.0\n",
      "Columbia <=50K 1.83\n",
      "Columbia >50K 3.0\n",
      "Cuba <=50K 1.88\n",
      "Cuba >50K 2.09\n",
      "Dominican-Republic <=50K 2.03\n",
      "Dominican-Republic >50K 2.2\n",
      "Ecuador <=50K 1.79\n",
      "Ecuador >50K 2.67\n",
      "El-Salvador <=50K 1.65\n",
      "El-Salvador >50K 2.09\n",
      "England <=50K 1.82\n",
      "England >50K 2.4\n",
      "France <=50K 1.95\n",
      "France >50K 2.31\n",
      "Germany <=50K 1.84\n",
      "Germany >50K 2.36\n",
      "Greece <=50K 2.03\n",
      "Greece >50K 2.94\n",
      "Guatemala <=50K 1.89\n",
      "Guatemala >50K 1.67\n",
      "Haiti <=50K 1.65\n",
      "Haiti >50K 1.89\n",
      "Holand-Netherlands <=50K 2.0\n",
      "Honduras <=50K 1.39\n",
      "Honduras >50K 2.5\n",
      "Hong <=50K 1.86\n",
      "Hong >50K 2.25\n",
      "Hungary <=50K 1.54\n",
      "Hungary >50K 2.5\n",
      "India <=50K 1.74\n",
      "India >50K 2.42\n",
      "Iran <=50K 1.95\n",
      "Iran >50K 2.5\n",
      "Ireland <=50K 2.0\n",
      "Ireland >50K 2.27\n",
      "Italy <=50K 1.8\n",
      "Italy >50K 2.35\n",
      "Jamaica <=50K 1.77\n",
      "Jamaica >50K 2.2\n",
      "Japan <=50K 1.9\n",
      "Japan >50K 2.44\n",
      "Laos <=50K 1.86\n",
      "Laos >50K 2.0\n",
      "Mexico <=50K 1.91\n",
      "Mexico >50K 2.32\n",
      "Nicaragua <=50K 1.72\n",
      "Nicaragua >50K 1.67\n",
      "Outlying-US(Guam-USVI-etc) <=50K 2.0\n",
      "Outlying-US(Guam-USVI-etc) >50K 2.0\n",
      "Peru <=50K 1.67\n",
      "Peru >50K 2.0\n",
      "Philippines <=50K 1.79\n",
      "Philippines >50K 2.21\n",
      "Poland <=50K 1.73\n",
      "Poland >50K 2.0\n",
      "Portugal <=50K 2.0\n",
      "Portugal >50K 2.5\n",
      "Puerto-Rico <=50K 1.85\n",
      "Puerto-Rico >50K 2.0\n",
      "Scotland <=50K 1.94\n",
      "Scotland >50K 2.33\n",
      "South <=50K 1.96\n",
      "South >50K 2.75\n",
      "Taiwan <=50K 1.62\n",
      "Taiwan >50K 2.31\n",
      "Thailand <=50K 2.08\n",
      "Thailand >50K 3.0\n",
      "Trinadad&Tobago <=50K 1.88\n",
      "Trinadad&Tobago >50K 2.0\n",
      "United-States <=50K 1.83\n",
      "United-States >50K 2.33\n",
      "Vietnam <=50K 1.77\n",
      "Vietnam >50K 2.0\n",
      "Yugoslavia <=50K 1.87\n",
      "Yugoslavia >50K 2.25\n"
     ]
    }
   ],
   "source": [
    "# You code here\n",
    "for (country, salary), sub_df in data.groupby(['native-country', 'class']):print(country, salary, round(sub_df['hoursperweek'].mean(), 2))"
   ]
  },
  {
   "cell_type": "code",
   "execution_count": null,
   "metadata": {},
   "outputs": [],
   "source": []
  }
 ],
 "metadata": {
  "anaconda-cloud": {},
  "kernelspec": {
   "name": "python3",
   "display_name": "Python 3.8.5 64-bit"
  },
  "language_info": {
   "codemirror_mode": {
    "name": "ipython",
    "version": 3
   },
   "file_extension": ".py",
   "mimetype": "text/x-python",
   "name": "python",
   "nbconvert_exporter": "python",
   "pygments_lexer": "ipython3",
   "version": "3.8.5"
  },
  "interpreter": {
   "hash": "916dbcbb3f70747c44a77c7bcd40155683ae19c65e1c03b4aa3499c5328201f1"
  }
 },
 "nbformat": 4,
 "nbformat_minor": 1
}