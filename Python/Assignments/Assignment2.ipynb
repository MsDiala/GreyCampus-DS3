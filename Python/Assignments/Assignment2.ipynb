{
 "metadata": {
  "language_info": {
   "codemirror_mode": {
    "name": "ipython",
    "version": 3
   },
   "file_extension": ".py",
   "mimetype": "text/x-python",
   "name": "python",
   "nbconvert_exporter": "python",
   "pygments_lexer": "ipython3",
   "version": "3.8.5"
  },
  "orig_nbformat": 2,
  "kernelspec": {
   "name": "python3",
   "display_name": "Python 3.8.5 64-bit"
  }
 },
 "nbformat": 4,
 "nbformat_minor": 2,
 "cells": [
  {
   "cell_type": "code",
   "execution_count": 1,
   "metadata": {},
   "outputs": [
    {
     "output_type": "stream",
     "name": "stdout",
     "text": [
      "1 * 12 = 12\n2 * 12 = 24\n3 * 12 = 36\n4 * 12 = 48\n5 * 12 = 60\n6 * 12 = 72\n7 * 12 = 84\n8 * 12 = 96\n9 * 12 = 108\n10 * 12 = 120\n"
     ]
    }
   ],
   "source": [
    "num = 12\n",
    "\n",
    "for i in range(1, 11):\n",
    "   print(i, '*', num, '=', i*num)"
   ]
  },
  {
   "cell_type": "code",
   "execution_count": null,
   "metadata": {},
   "outputs": [],
   "source": []
  }
 ]
}