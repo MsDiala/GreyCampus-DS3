{
 "metadata": {
  "language_info": {
   "codemirror_mode": {
    "name": "ipython",
    "version": 3
   },
   "file_extension": ".py",
   "mimetype": "text/x-python",
   "name": "python",
   "nbconvert_exporter": "python",
   "pygments_lexer": "ipython3",
   "version": "3.9.0"
  },
  "orig_nbformat": 2,
  "kernelspec": {
   "name": "python390jvsc74a57bd0f9f85f796d01129d0dd105a088854619f454435301f6ffec2fea96ecbd9be4ac",
   "display_name": "Python 3.9.0 64-bit"
  },
  "metadata": {
   "interpreter": {
    "hash": "f9f85f796d01129d0dd105a088854619f454435301f6ffec2fea96ecbd9be4ac"
   }
  }
 },
 "nbformat": 4,
 "nbformat_minor": 2,
 "cells": [
  {
   "cell_type": "code",
   "execution_count": 1,
   "metadata": {},
   "outputs": [
    {
     "output_type": "stream",
     "name": "stdout",
     "text": [
      "11 is Prime\n"
     ]
    }
   ],
   "source": [
    "# Taking the input from User \n",
    "primNumber = int(input(\"type ur number\"))\n",
    "\n",
    "if primNumber > 1:\n",
    "    for i in range(2,int(primNumber/2)+1):\n",
    "        if (primNumber % i == 0):\n",
    "            print(primNumber, \"is not a Prime Number\")\n",
    "            break\n",
    "    else:\n",
    "        print(primNumber,\"is Prime\")\n",
    "# If the number is less than 1 it can't be Prime    \n",
    "else:\n",
    "    print(primNumber,\"is not a Prime\")"
   ]
  },
  {
   "cell_type": "code",
   "execution_count": null,
   "metadata": {},
   "outputs": [],
   "source": []
  }
 ]
}